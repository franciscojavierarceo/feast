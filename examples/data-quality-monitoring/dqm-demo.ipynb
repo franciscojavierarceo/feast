{
 "cells": [
  {
   "cell_type": "code",
   "execution_count": 2,
   "id": "449570b5-8537-40a9-807e-5415e6add6fe",
   "metadata": {},
   "outputs": [
    {
     "name": "stdout",
     "output_type": "stream",
     "text": [
      "\n",
      "Creating a new Feast repository in \u001b[1m\u001b[32m/Users/franciscojavierarceo/GitHub/feast/examples/data-quality-monitoring/dqm_repo\u001b[0m.\n",
      "\n"
     ]
    }
   ],
   "source": [
    "!feast init dqm_repo"
   ]
  },
  {
   "cell_type": "code",
   "execution_count": 3,
   "id": "bcb26718-c88f-4872-bc70-bdec741aa832",
   "metadata": {},
   "outputs": [
    {
     "name": "stdout",
     "output_type": "stream",
     "text": [
      "/Users/franciscojavierarceo/GitHub/feast/examples/data-quality-monitoring/dqm_repo/feature_repo\n"
     ]
    }
   ],
   "source": [
    "cd dqm_repo/feature_repo"
   ]
  },
  {
   "cell_type": "code",
   "execution_count": 4,
   "id": "96a88342-75e9-44a2-bc98-18540fa9e3d5",
   "metadata": {},
   "outputs": [],
   "source": [
    "dqm_demo_file = \"\"\"\n",
    "from datetime import timedelta\n",
    "from feast import Entity\n",
    "taxi_entity = Entity(name='taxi', join_keys=['taxi_id'])\n",
    "from feast import FileSource, Field\n",
    "from feast.data_format import ParquetFormat\n",
    "from feast.types import Float32, Float64, Int64\n",
    "\n",
    "batch_source = FileSource(\n",
    "    timestamp_field=\"day\",\n",
    "    # using parquet file that we created on previous step\n",
    "    path=\"../../trips_stats.parquet\",  \n",
    "    file_format=ParquetFormat()\n",
    ")\n",
    "\n",
    "from feast import BatchFeatureView\n",
    "\n",
    "trips_stats_fv = BatchFeatureView(\n",
    "    name='trip_stats',\n",
    "    entities=[taxi_entity],\n",
    "    ttl=timedelta(seconds=86400),\n",
    "    schema=[\n",
    "        Field(name=\"total_miles_travelled\", dtype=Float64),\n",
    "        Field(name=\"total_trip_seconds\", dtype=Float64),\n",
    "        Field(name=\"total_earned\", dtype=Float64),\n",
    "        Field(name=\"trip_count\", dtype=Int64),\n",
    "\n",
    "    ],\n",
    "    source=batch_source,\n",
    "    online=True,\n",
    "    tags={\"production\": \"True\"},\n",
    "    owner='test1@gmail.com',\n",
    ")\n",
    "\n",
    "import pyarrow.parquet\n",
    "import pandas as pd\n",
    "\n",
    "from feast import FeatureView, Entity, FeatureStore, Field, BatchFeatureView\n",
    "from feast.types import Float64, Int64\n",
    "from feast.value_type import ValueType\n",
    "from feast.data_format import ParquetFormat\n",
    "from feast.on_demand_feature_view import on_demand_feature_view\n",
    "from feast.infra.offline_stores.file_source import FileSource\n",
    "from feast.infra.offline_stores.file import SavedDatasetFileStorage\n",
    "from datetime import timedelta\n",
    "\n",
    "@on_demand_feature_view(\n",
    "    schema=[\n",
    "        Field(name=\"avg_fare\", dtype=Float64),\n",
    "        Field(name=\"avg_speed\", dtype=Float64),\n",
    "        Field(name=\"avg_trip_seconds\", dtype=Float64),\n",
    "        Field(name=\"earned_per_hour\", dtype=Float64),\n",
    "    ],\n",
    "    sources=[\n",
    "      trips_stats_fv,\n",
    "    ]\n",
    ")\n",
    "def on_demand_stats(input):\n",
    "    out = pd.DataFrame()\n",
    "    out[\"avg_fare\"] = input[\"total_earned\"] / input[\"trip_count\"]\n",
    "    out[\"avg_speed\"] = 3600 * input[\"total_miles_travelled\"] / input[\"total_trip_seconds\"]\n",
    "    out[\"avg_trip_seconds\"] = input[\"total_trip_seconds\"] / input[\"trip_count\"]\n",
    "    out[\"earned_per_hour\"] = 3600 * input[\"total_earned\"] / input[\"total_trip_seconds\"]\n",
    "    return out\n",
    "\n",
    "\"\"\""
   ]
  },
  {
   "cell_type": "code",
   "execution_count": 5,
   "id": "0c5017c0-1c41-412c-a116-1e67887629f9",
   "metadata": {},
   "outputs": [],
   "source": [
    "f = open('dqm_example.py', 'w')\n",
    "f.write(dqm_demo_file)\n",
    "f.close()"
   ]
  },
  {
   "cell_type": "code",
   "execution_count": 6,
   "id": "aae70593-9f9d-44a2-9552-03c60a9255d5",
   "metadata": {},
   "outputs": [
    {
     "name": "stdout",
     "output_type": "stream",
     "text": [
      "/Users/franciscojavierarceo/GitHub/feast/sdk/python/feast/batch_feature_view.py:72: RuntimeWarning: Batch feature views are experimental features in alpha development. Some functionality may still be unstable so functionality can change in the future.\n",
      "  warnings.warn(\n",
      "/Users/franciscojavierarceo/GitHub/feast/sdk/python/feast/feature_store.py:563: RuntimeWarning: On demand feature view is an experimental feature. This API is stable, but the functionality does not scale well for offline retrieval\n",
      "  warnings.warn(\n",
      "/Users/franciscojavierarceo/GitHub/feast/sdk/python/feast/infra/offline_stores/file_source.py:161: FutureWarning: 'ParquetDataset.schema' attribute is deprecated as of pyarrow 5.0.0 and will be removed in a future version. Specify 'use_legacy_dataset=False' while constructing the ParquetDataset, and then use the '.schema' attribute instead (which will return an Arrow schema instead of a Parquet schema).\n",
      "  schema = ParquetDataset(path).schema.to_arrow_schema()\n",
      "Created entity \u001b[1m\u001b[32mtaxi\u001b[0m\n",
      "Created entity \u001b[1m\u001b[32mdriver\u001b[0m\n",
      "Created feature view \u001b[1m\u001b[32mtrip_stats\u001b[0m\n",
      "Created feature view \u001b[1m\u001b[32mdriver_hourly_stats_fresh\u001b[0m\n",
      "Created feature view \u001b[1m\u001b[32mdriver_hourly_stats\u001b[0m\n",
      "Created on demand feature view \u001b[1m\u001b[32mtransformed_conv_rate_fresh\u001b[0m\n",
      "Created on demand feature view \u001b[1m\u001b[32mon_demand_stats\u001b[0m\n",
      "Created on demand feature view \u001b[1m\u001b[32mtransformed_conv_rate\u001b[0m\n",
      "Created feature service \u001b[1m\u001b[32mdriver_activity_v3\u001b[0m\n",
      "Created feature service \u001b[1m\u001b[32mdriver_activity_v2\u001b[0m\n",
      "Created feature service \u001b[1m\u001b[32mdriver_activity_v1\u001b[0m\n",
      "\n",
      "Created sqlite table \u001b[1m\u001b[32mdqm_repo_trip_stats\u001b[0m\n",
      "Created sqlite table \u001b[1m\u001b[32mdqm_repo_driver_hourly_stats_fresh\u001b[0m\n",
      "Created sqlite table \u001b[1m\u001b[32mdqm_repo_driver_hourly_stats\u001b[0m\n",
      "\n"
     ]
    }
   ],
   "source": [
    "! feast apply"
   ]
  },
  {
   "cell_type": "markdown",
   "id": "b5a1a987-15fe-4422-b734-fe56992e587e",
   "metadata": {},
   "source": [
    "# Now the DQM piece"
   ]
  },
  {
   "cell_type": "code",
   "execution_count": 7,
   "id": "cc4118c6-a499-44d2-9b01-c548a87c492f",
   "metadata": {},
   "outputs": [],
   "source": [
    "import pyarrow.parquet\n",
    "taxi_ids = pyarrow.parquet.read_table(\"../../entities.parquet\").to_pandas()"
   ]
  },
  {
   "cell_type": "code",
   "execution_count": 8,
   "id": "f510f271-b62c-4b1a-be08-84c9559d4223",
   "metadata": {},
   "outputs": [
    {
     "data": {
      "text/html": [
       "<div>\n",
       "<style scoped>\n",
       "    .dataframe tbody tr th:only-of-type {\n",
       "        vertical-align: middle;\n",
       "    }\n",
       "\n",
       "    .dataframe tbody tr th {\n",
       "        vertical-align: top;\n",
       "    }\n",
       "\n",
       "    .dataframe thead th {\n",
       "        text-align: right;\n",
       "    }\n",
       "</style>\n",
       "<table border=\"1\" class=\"dataframe\">\n",
       "  <thead>\n",
       "    <tr style=\"text-align: right;\">\n",
       "      <th></th>\n",
       "      <th>taxi_id</th>\n",
       "      <th>event_timestamp</th>\n",
       "    </tr>\n",
       "  </thead>\n",
       "  <tbody>\n",
       "    <tr>\n",
       "      <th>0</th>\n",
       "      <td>91d5288487e87c5917b813ba6f75ab1c3a9749af906a2d...</td>\n",
       "      <td>2019-06-01</td>\n",
       "    </tr>\n",
       "    <tr>\n",
       "      <th>1</th>\n",
       "      <td>91d5288487e87c5917b813ba6f75ab1c3a9749af906a2d...</td>\n",
       "      <td>2019-06-02</td>\n",
       "    </tr>\n",
       "    <tr>\n",
       "      <th>2</th>\n",
       "      <td>91d5288487e87c5917b813ba6f75ab1c3a9749af906a2d...</td>\n",
       "      <td>2019-06-03</td>\n",
       "    </tr>\n",
       "    <tr>\n",
       "      <th>3</th>\n",
       "      <td>91d5288487e87c5917b813ba6f75ab1c3a9749af906a2d...</td>\n",
       "      <td>2019-06-04</td>\n",
       "    </tr>\n",
       "    <tr>\n",
       "      <th>4</th>\n",
       "      <td>91d5288487e87c5917b813ba6f75ab1c3a9749af906a2d...</td>\n",
       "      <td>2019-06-05</td>\n",
       "    </tr>\n",
       "  </tbody>\n",
       "</table>\n",
       "</div>"
      ],
      "text/plain": [
       "                                             taxi_id event_timestamp\n",
       "0  91d5288487e87c5917b813ba6f75ab1c3a9749af906a2d...      2019-06-01\n",
       "1  91d5288487e87c5917b813ba6f75ab1c3a9749af906a2d...      2019-06-02\n",
       "2  91d5288487e87c5917b813ba6f75ab1c3a9749af906a2d...      2019-06-03\n",
       "3  91d5288487e87c5917b813ba6f75ab1c3a9749af906a2d...      2019-06-04\n",
       "4  91d5288487e87c5917b813ba6f75ab1c3a9749af906a2d...      2019-06-05"
      ]
     },
     "execution_count": 8,
     "metadata": {},
     "output_type": "execute_result"
    }
   ],
   "source": [
    "import json\n",
    "import pandas as pd\n",
    "timestamps = pd.DataFrame()\n",
    "timestamps[\"event_timestamp\"] = pd.date_range(\"2019-06-01\", \"2019-07-01\", freq='D')\n",
    "entity_df = pd.merge(taxi_ids, timestamps, how='cross')\n",
    "entity_df.head()"
   ]
  },
  {
   "cell_type": "code",
   "execution_count": 9,
   "id": "c93156a9-7e1b-4012-b19a-a8f23ffed254",
   "metadata": {},
   "outputs": [],
   "source": [
    "from feast import FeatureStore\n",
    "store = FeatureStore(\"/Users/franciscojavierarceo/GitHub/feast/examples/data-quality-monitoring/dqm_repo/feature_repo/\")"
   ]
  },
  {
   "cell_type": "code",
   "execution_count": 10,
   "id": "178128d9-f515-4e1e-a3d9-f492fa4175ba",
   "metadata": {},
   "outputs": [],
   "source": [
    "job = store.get_historical_features(\n",
    "    entity_df=entity_df,\n",
    "    features=[\n",
    "        \"trip_stats:total_miles_travelled\",\n",
    "        \"trip_stats:total_trip_seconds\",\n",
    "        \"trip_stats:total_earned\",\n",
    "        \"trip_stats:trip_count\",\n",
    "        \"on_demand_stats:avg_fare\",\n",
    "        \"on_demand_stats:avg_trip_seconds\",\n",
    "        \"on_demand_stats:avg_speed\",\n",
    "        \"on_demand_stats:earned_per_hour\",\n",
    "    ]\n",
    ")"
   ]
  },
  {
   "cell_type": "code",
   "execution_count": 21,
   "id": "0310e18a-f2e7-42db-a454-57330d3330d1",
   "metadata": {},
   "outputs": [
    {
     "name": "stderr",
     "output_type": "stream",
     "text": [
      "/Users/franciscojavierarceo/GitHub/feast/sdk/python/feast/feature_store.py:1182: RuntimeWarning: Saving dataset is an experimental feature. This API is unstable and it could and most probably will be changed in the future. We do not guarantee that future changes will maintain backward compatibility.\n",
      "  warnings.warn(\n"
     ]
    }
   ],
   "source": [
    "from feast.infra.offline_stores.file import SavedDatasetFileStorage\n",
    "\n",
    "try:\n",
    "    saved_ds = store.create_saved_dataset(\n",
    "        from_=job,\n",
    "        name='my_training_ds',\n",
    "        storage=SavedDatasetFileStorage(path='../../dqm_repo/feature_repo/my_training_ds.parquet')\n",
    "    )\n",
    "except Exception as e:\n",
    "    print(e)"
   ]
  },
  {
   "cell_type": "code",
   "execution_count": 22,
   "id": "9a463a88-6c35-4e36-807a-c4c653a0a554",
   "metadata": {},
   "outputs": [],
   "source": [
    "store.apply(saved_ds)"
   ]
  },
  {
   "cell_type": "markdown",
   "id": "7d947b2b-4717-419a-8447-c3bf78f4dfd2",
   "metadata": {},
   "source": [
    "# Now setting up the profiler"
   ]
  },
  {
   "cell_type": "code",
   "execution_count": 23,
   "id": "ed880ac8-7031-4584-9f81-9421d118fc52",
   "metadata": {},
   "outputs": [
    {
     "data": {
      "text/plain": [
       "<SavedDataset(name = my_training_ds, features = ['trip_stats:total_miles_travelled', 'trip_stats:total_trip_seconds', 'trip_stats:total_earned', 'trip_stats:trip_count', 'on_demand_stats:avg_fare', 'on_demand_stats:avg_trip_seconds', 'on_demand_stats:avg_speed', 'on_demand_stats:earned_per_hour'], join_keys = ['taxi_id'], storage = <feast.infra.offline_stores.file_source.SavedDatasetFileStorage object at 0x1357906d0>, full_feature_names = False, tags = {}, feature_service_name = None, _retrieval_job = None, created_timestamp = 2022-11-03 01:15:54.300676, min_event_timestamp = 2019-06-01 00:00:00, max_event_timestamp = 2019-07-01 00:00:00)>"
      ]
     },
     "execution_count": 23,
     "metadata": {},
     "output_type": "execute_result"
    }
   ],
   "source": [
    "store.registry.list_saved_datasets(project='dqm_repo')[0]"
   ]
  },
  {
   "cell_type": "code",
   "execution_count": 24,
   "id": "09242872-a71c-487d-b0dd-d13063852882",
   "metadata": {},
   "outputs": [
    {
     "name": "stderr",
     "output_type": "stream",
     "text": [
      "/Users/franciscojavierarceo/GitHub/feast/venv/lib/python3.8/site-packages/botocore/httpsession.py:28: DeprecationWarning: 'urllib3.contrib.pyopenssl' module is deprecated and will be removed in a future release of urllib3 2.x. Read more in this issue: https://github.com/urllib3/urllib3/issues/2680\n",
      "  from urllib3.contrib.pyopenssl import orig_util_SSLContext as SSLContext\n"
     ]
    }
   ],
   "source": [
    "import numpy as np\n",
    "\n",
    "from feast.dqm.profilers.ge_profiler import ge_profiler\n",
    "\n",
    "from great_expectations.core.expectation_suite import ExpectationSuite\n",
    "from great_expectations.dataset import PandasDataset"
   ]
  },
  {
   "cell_type": "code",
   "execution_count": 25,
   "id": "4d2995cb-28f8-471f-b715-fc200107b37e",
   "metadata": {},
   "outputs": [
    {
     "name": "stderr",
     "output_type": "stream",
     "text": [
      "/Users/franciscojavierarceo/GitHub/feast/sdk/python/feast/feature_store.py:1235: RuntimeWarning: Retrieving datasets is an experimental feature. This API is unstable and it could and most probably will be changed in the future. We do not guarantee that future changes will maintain backward compatibility.\n",
      "  warnings.warn(\n"
     ]
    },
    {
     "data": {
      "text/html": [
       "<div>\n",
       "<style scoped>\n",
       "    .dataframe tbody tr th:only-of-type {\n",
       "        vertical-align: middle;\n",
       "    }\n",
       "\n",
       "    .dataframe tbody tr th {\n",
       "        vertical-align: top;\n",
       "    }\n",
       "\n",
       "    .dataframe thead th {\n",
       "        text-align: right;\n",
       "    }\n",
       "</style>\n",
       "<table border=\"1\" class=\"dataframe\">\n",
       "  <thead>\n",
       "    <tr style=\"text-align: right;\">\n",
       "      <th></th>\n",
       "      <th>avg_fare</th>\n",
       "      <th>event_timestamp</th>\n",
       "      <th>taxi_id</th>\n",
       "      <th>avg_speed</th>\n",
       "      <th>avg_trip_seconds</th>\n",
       "      <th>earned_per_hour</th>\n",
       "      <th>total_miles_travelled</th>\n",
       "      <th>total_trip_seconds</th>\n",
       "      <th>total_earned</th>\n",
       "      <th>trip_count</th>\n",
       "    </tr>\n",
       "  </thead>\n",
       "  <tbody>\n",
       "    <tr>\n",
       "      <th>0</th>\n",
       "      <td>25.4375</td>\n",
       "      <td>2019-06-01 00:00:00+00:00</td>\n",
       "      <td>d13c5aaa066f94b4927779ed24cd313b0c686f03407095...</td>\n",
       "      <td>15.559701</td>\n",
       "      <td>2010.0</td>\n",
       "      <td>45.559701</td>\n",
       "      <td>69.50</td>\n",
       "      <td>16080</td>\n",
       "      <td>203.50</td>\n",
       "      <td>8</td>\n",
       "    </tr>\n",
       "    <tr>\n",
       "      <th>1</th>\n",
       "      <td>14.8500</td>\n",
       "      <td>2019-06-01 00:00:00+00:00</td>\n",
       "      <td>33164e16dd29b1c58cd15cce31df4bfcb75d9903cb66de...</td>\n",
       "      <td>7.707317</td>\n",
       "      <td>1476.0</td>\n",
       "      <td>36.219512</td>\n",
       "      <td>15.80</td>\n",
       "      <td>7380</td>\n",
       "      <td>74.25</td>\n",
       "      <td>5</td>\n",
       "    </tr>\n",
       "    <tr>\n",
       "      <th>2</th>\n",
       "      <td>19.1250</td>\n",
       "      <td>2019-06-01 00:00:00+00:00</td>\n",
       "      <td>226fe0b00be42932bdff81bc0b318b883bfbf15dd48093...</td>\n",
       "      <td>18.188976</td>\n",
       "      <td>1270.0</td>\n",
       "      <td>54.212598</td>\n",
       "      <td>38.50</td>\n",
       "      <td>7620</td>\n",
       "      <td>114.75</td>\n",
       "      <td>6</td>\n",
       "    </tr>\n",
       "    <tr>\n",
       "      <th>3</th>\n",
       "      <td>17.6875</td>\n",
       "      <td>2019-06-01 00:00:00+00:00</td>\n",
       "      <td>5a5bed1b5ced617d0594007d591f10bbbca354d50b19ca...</td>\n",
       "      <td>12.860777</td>\n",
       "      <td>1415.0</td>\n",
       "      <td>45.000000</td>\n",
       "      <td>20.22</td>\n",
       "      <td>5660</td>\n",
       "      <td>70.75</td>\n",
       "      <td>4</td>\n",
       "    </tr>\n",
       "    <tr>\n",
       "      <th>4</th>\n",
       "      <td>20.8500</td>\n",
       "      <td>2019-06-01 00:00:00+00:00</td>\n",
       "      <td>b7f7dbb452c0fb980a0f2050a146147c1006fe5f34e3b0...</td>\n",
       "      <td>17.793637</td>\n",
       "      <td>1395.6</td>\n",
       "      <td>53.783319</td>\n",
       "      <td>34.49</td>\n",
       "      <td>6978</td>\n",
       "      <td>104.25</td>\n",
       "      <td>5</td>\n",
       "    </tr>\n",
       "  </tbody>\n",
       "</table>\n",
       "</div>"
      ],
      "text/plain": [
       "   avg_fare           event_timestamp  \\\n",
       "0   25.4375 2019-06-01 00:00:00+00:00   \n",
       "1   14.8500 2019-06-01 00:00:00+00:00   \n",
       "2   19.1250 2019-06-01 00:00:00+00:00   \n",
       "3   17.6875 2019-06-01 00:00:00+00:00   \n",
       "4   20.8500 2019-06-01 00:00:00+00:00   \n",
       "\n",
       "                                             taxi_id  avg_speed  \\\n",
       "0  d13c5aaa066f94b4927779ed24cd313b0c686f03407095...  15.559701   \n",
       "1  33164e16dd29b1c58cd15cce31df4bfcb75d9903cb66de...   7.707317   \n",
       "2  226fe0b00be42932bdff81bc0b318b883bfbf15dd48093...  18.188976   \n",
       "3  5a5bed1b5ced617d0594007d591f10bbbca354d50b19ca...  12.860777   \n",
       "4  b7f7dbb452c0fb980a0f2050a146147c1006fe5f34e3b0...  17.793637   \n",
       "\n",
       "   avg_trip_seconds  earned_per_hour  total_miles_travelled  \\\n",
       "0            2010.0        45.559701                  69.50   \n",
       "1            1476.0        36.219512                  15.80   \n",
       "2            1270.0        54.212598                  38.50   \n",
       "3            1415.0        45.000000                  20.22   \n",
       "4            1395.6        53.783319                  34.49   \n",
       "\n",
       "   total_trip_seconds  total_earned  trip_count  \n",
       "0               16080        203.50           8  \n",
       "1                7380         74.25           5  \n",
       "2                7620        114.75           6  \n",
       "3                5660         70.75           4  \n",
       "4                6978        104.25           5  "
      ]
     },
     "execution_count": 25,
     "metadata": {},
     "output_type": "execute_result"
    }
   ],
   "source": [
    "ds = store.get_saved_dataset('my_training_ds')\n",
    "ds.to_df().head()"
   ]
  },
  {
   "cell_type": "code",
   "execution_count": 26,
   "id": "6817328b-c954-45b6-a514-1d07813e7ae0",
   "metadata": {},
   "outputs": [],
   "source": [
    "import numpy as np\n",
    "\n",
    "from great_expectations.core.expectation_suite import ExpectationSuite\n",
    "from great_expectations.dataset import PandasDataset\n",
    "from feast.dqm.profilers.ge_profiler import ge_profiler"
   ]
  },
  {
   "cell_type": "code",
   "execution_count": 27,
   "id": "3a682e2b-d01e-4b63-939c-233eaee8aeb8",
   "metadata": {},
   "outputs": [],
   "source": [
    "DELTA = 0.1  # controlling allowed window in fraction of the value on scale [0, 1]\n",
    "\n",
    "@ge_profiler\n",
    "def stats_profiler(ds: PandasDataset) -> ExpectationSuite:    \n",
    "    # simple checks on data consistency\n",
    "    ds.expect_column_values_to_be_between(\n",
    "        \"avg_speed\",\n",
    "        min_value=0,\n",
    "        max_value=60,\n",
    "        mostly=0.99  # allow some outliers\n",
    "    )\n",
    "\n",
    "    ds.expect_column_values_to_be_between(\n",
    "        \"total_miles_travelled\",\n",
    "        min_value=0,\n",
    "        max_value=500,\n",
    "        mostly=0.99  # allow some outliers\n",
    "    )\n",
    "\n",
    "    # expectation of means based on observed values\n",
    "    observed_mean = ds.trip_count.mean()\n",
    "    ds.expect_column_mean_to_be_between(\"trip_count\",\n",
    "                                        min_value=observed_mean * (1 - DELTA),\n",
    "                                        max_value=observed_mean * (1 + DELTA))\n",
    "\n",
    "    observed_mean = ds.earned_per_hour.mean()\n",
    "    ds.expect_column_mean_to_be_between(\"earned_per_hour\",\n",
    "                                        min_value=observed_mean * (1 - DELTA),\n",
    "                                        max_value=observed_mean * (1 + DELTA))\n",
    "\n",
    "    # expectation of quantiles\n",
    "    qs = [0.5, 0.75, 0.9, 0.95]\n",
    "    observed_quantiles = ds.avg_fare.quantile(qs)\n",
    "\n",
    "    ds.expect_column_quantile_values_to_be_between(\n",
    "        \"avg_fare\",\n",
    "        quantile_ranges={\n",
    "            \"quantiles\": qs,\n",
    "            \"value_ranges\": [[None, max_value] for max_value in observed_quantiles]\n",
    "        })\n",
    "\n",
    "    # Note that the default is TRUE!\n",
    "    # return ds.get_expectation_suite(discard_failed_expectations=False)\n",
    "    return ds.get_expectation_suite()\n",
    "\n",
    "@ge_profiler\n",
    "def stats_profiler_fail(ds: PandasDataset) -> ExpectationSuite:\n",
    "    # This should fail\n",
    "    ds.expect_column_to_exist(\"this is a test\")\n",
    "    return ds.get_expectation_suite(discard_failed_expectations=False)\n",
    "\n",
    "@ge_profiler\n",
    "def stats_profiler_pass(ds: PandasDataset) -> ExpectationSuite:\n",
    "    # This should fail\n",
    "    ds.expect_column_to_exist(\"trip_count\")\n",
    "    return ds.get_expectation_suite(discard_failed_expectations=False)"
   ]
  },
  {
   "cell_type": "code",
   "execution_count": 28,
   "id": "5855d926-a624-4e2b-ab95-eae2ecba4f8f",
   "metadata": {},
   "outputs": [],
   "source": [
    "prof = ds.get_profile(profiler=stats_profiler)\n",
    "prof_fail = ds.get_profile(profiler=stats_profiler_fail)\n",
    "prof_pass = ds.get_profile(profiler=stats_profiler_pass)"
   ]
  },
  {
   "cell_type": "markdown",
   "id": "087e4140-b367-4d8f-a4c8-d1e0b83470a4",
   "metadata": {},
   "source": [
    "# Batch Validation"
   ]
  },
  {
   "cell_type": "code",
   "execution_count": 29,
   "id": "889eba58-87b2-4e59-8341-a3fd6c0bc982",
   "metadata": {},
   "outputs": [],
   "source": [
    "assert len(prof.expectation_suite['expectations']) == 5\n",
    "assert len(prof_fail.expectation_suite['expectations']) == 1\n",
    "assert len(prof_pass.expectation_suite['expectations']) == 1"
   ]
  },
  {
   "cell_type": "code",
   "execution_count": 30,
   "id": "9fc429fe-3ce3-4bd8-b4e1-a805caee30fc",
   "metadata": {},
   "outputs": [],
   "source": [
    "validation_reference = ds.as_reference(name='my_validator', profiler=stats_profiler)\n",
    "validation_reference_fail = ds.as_reference(name='my_validator', profiler=stats_profiler_fail)\n",
    "validation_reference_pass = ds.as_reference(name='my_validator', profiler=stats_profiler_pass)"
   ]
  },
  {
   "cell_type": "code",
   "execution_count": 31,
   "id": "96ff58b4-156f-4899-a86e-1381d8c878cc",
   "metadata": {},
   "outputs": [],
   "source": [
    "from feast.dqm.errors import ValidationFailed"
   ]
  },
  {
   "cell_type": "code",
   "execution_count": 32,
   "id": "a8898091-7ac5-4299-9bc3-92d77fcd66b2",
   "metadata": {},
   "outputs": [
    {
     "data": {
      "text/html": [
       "<div>\n",
       "<style scoped>\n",
       "    .dataframe tbody tr th:only-of-type {\n",
       "        vertical-align: middle;\n",
       "    }\n",
       "\n",
       "    .dataframe tbody tr th {\n",
       "        vertical-align: top;\n",
       "    }\n",
       "\n",
       "    .dataframe thead th {\n",
       "        text-align: right;\n",
       "    }\n",
       "</style>\n",
       "<table border=\"1\" class=\"dataframe\">\n",
       "  <thead>\n",
       "    <tr style=\"text-align: right;\">\n",
       "      <th></th>\n",
       "      <th>taxi_id</th>\n",
       "      <th>event_timestamp</th>\n",
       "    </tr>\n",
       "  </thead>\n",
       "  <tbody>\n",
       "    <tr>\n",
       "      <th>0</th>\n",
       "      <td>91d5288487e87c5917b813ba6f75ab1c3a9749af906a2d...</td>\n",
       "      <td>2020-12-01</td>\n",
       "    </tr>\n",
       "    <tr>\n",
       "      <th>1</th>\n",
       "      <td>91d5288487e87c5917b813ba6f75ab1c3a9749af906a2d...</td>\n",
       "      <td>2020-12-02</td>\n",
       "    </tr>\n",
       "    <tr>\n",
       "      <th>2</th>\n",
       "      <td>91d5288487e87c5917b813ba6f75ab1c3a9749af906a2d...</td>\n",
       "      <td>2020-12-03</td>\n",
       "    </tr>\n",
       "    <tr>\n",
       "      <th>3</th>\n",
       "      <td>91d5288487e87c5917b813ba6f75ab1c3a9749af906a2d...</td>\n",
       "      <td>2020-12-04</td>\n",
       "    </tr>\n",
       "    <tr>\n",
       "      <th>4</th>\n",
       "      <td>91d5288487e87c5917b813ba6f75ab1c3a9749af906a2d...</td>\n",
       "      <td>2020-12-05</td>\n",
       "    </tr>\n",
       "  </tbody>\n",
       "</table>\n",
       "</div>"
      ],
      "text/plain": [
       "                                             taxi_id event_timestamp\n",
       "0  91d5288487e87c5917b813ba6f75ab1c3a9749af906a2d...      2020-12-01\n",
       "1  91d5288487e87c5917b813ba6f75ab1c3a9749af906a2d...      2020-12-02\n",
       "2  91d5288487e87c5917b813ba6f75ab1c3a9749af906a2d...      2020-12-03\n",
       "3  91d5288487e87c5917b813ba6f75ab1c3a9749af906a2d...      2020-12-04\n",
       "4  91d5288487e87c5917b813ba6f75ab1c3a9749af906a2d...      2020-12-05"
      ]
     },
     "execution_count": 32,
     "metadata": {},
     "output_type": "execute_result"
    }
   ],
   "source": [
    "timestamps = pd.DataFrame()\n",
    "timestamps[\"event_timestamp\"] = pd.date_range(\"2020-12-01\", \"2020-12-07\", freq='D')\n",
    "entity_df = pd.merge(taxi_ids, timestamps, how='cross')\n",
    "entity_df.head()"
   ]
  },
  {
   "cell_type": "code",
   "execution_count": 33,
   "id": "9d6e1a64-7fb0-418c-a665-d2199e351678",
   "metadata": {},
   "outputs": [],
   "source": [
    "job = store.get_historical_features(\n",
    "    entity_df=entity_df,\n",
    "    features=[\n",
    "        \"trip_stats:total_miles_travelled\",\n",
    "        \"trip_stats:total_trip_seconds\",\n",
    "        \"trip_stats:total_earned\",\n",
    "        \"trip_stats:trip_count\",\n",
    "        \"on_demand_stats:avg_fare\",\n",
    "        \"on_demand_stats:avg_trip_seconds\",\n",
    "        \"on_demand_stats:avg_speed\",\n",
    "        \"on_demand_stats:earned_per_hour\",        \n",
    "    ],\n",
    ")"
   ]
  },
  {
   "cell_type": "code",
   "execution_count": 34,
   "id": "a7c1a060-a414-42f1-9193-4524dcc5844d",
   "metadata": {},
   "outputs": [
    {
     "name": "stderr",
     "output_type": "stream",
     "text": [
      "/Users/franciscojavierarceo/GitHub/feast/sdk/python/feast/infra/offline_stores/offline_store.py:90: RuntimeWarning: Dataset validation is an experimental feature. This API is unstable and it could and most probably will be changed in the future. We do not guarantee that future changes will maintain backward compatibility.\n",
      "  warnings.warn(\n"
     ]
    },
    {
     "name": "stdout",
     "output_type": "stream",
     "text": [
      "validation passed\n"
     ]
    }
   ],
   "source": [
    "try:\n",
    "    df = job.to_df(validation_reference=validation_reference_pass)\n",
    "    print('validation passed')\n",
    "except ValidationFailed as exc:\n",
    "    print('validation failed\\n', exc.validation_report)"
   ]
  },
  {
   "cell_type": "code",
   "execution_count": 35,
   "id": "d2a104f0-3f43-4918-b05c-81bbdbac601b",
   "metadata": {},
   "outputs": [
    {
     "name": "stderr",
     "output_type": "stream",
     "text": [
      "/Users/franciscojavierarceo/GitHub/feast/sdk/python/feast/infra/offline_stores/offline_store.py:90: RuntimeWarning: Dataset validation is an experimental feature. This API is unstable and it could and most probably will be changed in the future. We do not guarantee that future changes will maintain backward compatibility.\n",
      "  warnings.warn(\n"
     ]
    },
    {
     "name": "stdout",
     "output_type": "stream",
     "text": [
      "validation failed\n",
      " [\n",
      "  {\n",
      "    \"expectation_config\": {\n",
      "      \"kwargs\": {\n",
      "        \"column\": \"this is a test\",\n",
      "        \"result_format\": \"COMPLETE\"\n",
      "      },\n",
      "      \"meta\": {},\n",
      "      \"expectation_type\": \"expect_column_to_exist\"\n",
      "    },\n",
      "    \"result\": {},\n",
      "    \"exception_info\": {\n",
      "      \"raised_exception\": false,\n",
      "      \"exception_message\": null,\n",
      "      \"exception_traceback\": null\n",
      "    },\n",
      "    \"meta\": {},\n",
      "    \"success\": false\n",
      "  }\n",
      "]\n"
     ]
    }
   ],
   "source": [
    "try:\n",
    "    df = job.to_df(validation_reference=validation_reference_fail)\n",
    "except ValidationFailed as exc:\n",
    "    print('validation failed\\n', exc.validation_report)"
   ]
  },
  {
   "cell_type": "code",
   "execution_count": 36,
   "id": "27274d81-c862-421a-8d84-ac51c17ea978",
   "metadata": {
    "tags": []
   },
   "outputs": [
    {
     "name": "stderr",
     "output_type": "stream",
     "text": [
      "/Users/franciscojavierarceo/GitHub/feast/sdk/python/feast/infra/offline_stores/offline_store.py:90: RuntimeWarning: Dataset validation is an experimental feature. This API is unstable and it could and most probably will be changed in the future. We do not guarantee that future changes will maintain backward compatibility.\n",
      "  warnings.warn(\n"
     ]
    },
    {
     "name": "stdout",
     "output_type": "stream",
     "text": [
      "validation failed\n",
      " [\n",
      "  {\n",
      "    \"expectation_config\": {\n",
      "      \"kwargs\": {\n",
      "        \"column\": \"trip_count\",\n",
      "        \"min_value\": 10.387244591346153,\n",
      "        \"max_value\": 12.695521167200855,\n",
      "        \"result_format\": \"COMPLETE\"\n",
      "      },\n",
      "      \"meta\": {},\n",
      "      \"expectation_type\": \"expect_column_mean_to_be_between\"\n",
      "    },\n",
      "    \"result\": {\n",
      "      \"observed_value\": 6.692920555429092,\n",
      "      \"element_count\": 4393,\n",
      "      \"missing_count\": null,\n",
      "      \"missing_percent\": null\n",
      "    },\n",
      "    \"exception_info\": {\n",
      "      \"raised_exception\": false,\n",
      "      \"exception_message\": null,\n",
      "      \"exception_traceback\": null\n",
      "    },\n",
      "    \"meta\": {},\n",
      "    \"success\": false\n",
      "  },\n",
      "  {\n",
      "    \"expectation_config\": {\n",
      "      \"kwargs\": {\n",
      "        \"column\": \"earned_per_hour\",\n",
      "        \"min_value\": 52.32062497564023,\n",
      "        \"max_value\": 63.9474305257825,\n",
      "        \"result_format\": \"COMPLETE\"\n",
      "      },\n",
      "      \"meta\": {},\n",
      "      \"expectation_type\": \"expect_column_mean_to_be_between\"\n",
      "    },\n",
      "    \"result\": {\n",
      "      \"observed_value\": 68.99268345164135,\n",
      "      \"element_count\": 4393,\n",
      "      \"missing_count\": null,\n",
      "      \"missing_percent\": null\n",
      "    },\n",
      "    \"exception_info\": {\n",
      "      \"raised_exception\": false,\n",
      "      \"exception_message\": null,\n",
      "      \"exception_traceback\": null\n",
      "    },\n",
      "    \"meta\": {},\n",
      "    \"success\": false\n",
      "  },\n",
      "  {\n",
      "    \"expectation_config\": {\n",
      "      \"kwargs\": {\n",
      "        \"column\": \"avg_fare\",\n",
      "        \"quantile_ranges\": {\n",
      "          \"quantiles\": [\n",
      "            0.5,\n",
      "            0.75,\n",
      "            0.9,\n",
      "            0.95\n",
      "          ],\n",
      "          \"value_ranges\": [\n",
      "            [\n",
      "              null,\n",
      "              16.4\n",
      "            ],\n",
      "            [\n",
      "              null,\n",
      "              26.229166666666668\n",
      "            ],\n",
      "            [\n",
      "              null,\n",
      "              36.4375\n",
      "            ],\n",
      "            [\n",
      "              null,\n",
      "              42.0\n",
      "            ]\n",
      "          ]\n",
      "        },\n",
      "        \"result_format\": \"COMPLETE\"\n",
      "      },\n",
      "      \"meta\": {},\n",
      "      \"expectation_type\": \"expect_column_quantile_values_to_be_between\"\n",
      "    },\n",
      "    \"result\": {\n",
      "      \"observed_value\": {\n",
      "        \"quantiles\": [\n",
      "          0.5,\n",
      "          0.75,\n",
      "          0.9,\n",
      "          0.95\n",
      "        ],\n",
      "        \"values\": [\n",
      "          19.5,\n",
      "          28.1,\n",
      "          38.0,\n",
      "          44.125\n",
      "        ]\n",
      "      },\n",
      "      \"element_count\": 4393,\n",
      "      \"missing_count\": null,\n",
      "      \"missing_percent\": null,\n",
      "      \"details\": {\n",
      "        \"success_details\": [\n",
      "          false,\n",
      "          false,\n",
      "          false,\n",
      "          false\n",
      "        ]\n",
      "      }\n",
      "    },\n",
      "    \"exception_info\": {\n",
      "      \"raised_exception\": false,\n",
      "      \"exception_message\": null,\n",
      "      \"exception_traceback\": null\n",
      "    },\n",
      "    \"meta\": {},\n",
      "    \"success\": false\n",
      "  }\n",
      "]\n"
     ]
    }
   ],
   "source": [
    "try:\n",
    "    df = job.to_df(validation_reference=validation_reference)\n",
    "except ValidationFailed as exc:\n",
    "    print('validation failed\\n', exc.validation_report)"
   ]
  },
  {
   "cell_type": "markdown",
   "id": "c4effb53-cd2f-4686-8947-7104ac5bb458",
   "metadata": {},
   "source": [
    "## Online Validation"
   ]
  },
  {
   "cell_type": "markdown",
   "id": "56bb9e3e-8a34-42ed-9edd-86e6c474a902",
   "metadata": {},
   "source": [
    "# What do we want to do?\n",
    "\n",
    "We want to query the online feature view and use the real time data coming in from the input data\n",
    "\n",
    "The batch feature view is `trip_stats` and the online fields are going to be:\n",
    "\n",
    "- total_miles_travelled\n",
    "- total_trip_seconds\n",
    "- total_earned\n",
    "- trip_count\n",
    "\n",
    "and are calculated via:\n",
    "```\n",
    "def on_demand_stats(input):\n",
    "    out = pd.DataFrame()\n",
    "    out[\"avg_fare\"] = input[\"total_earned\"] / input[\"trip_count\"]\n",
    "    out[\"avg_speed\"] = 3600 * input[\"total_miles_travelled\"] / input[\"total_trip_seconds\"]\n",
    "    out[\"avg_trip_seconds\"] = input[\"total_trip_seconds\"] / input[\"trip_count\"]\n",
    "    out[\"earned_per_hour\"] = 3600 * input[\"total_earned\"] / input[\"total_trip_seconds\"]\n",
    "    return out\n",
    "```"
   ]
  },
  {
   "cell_type": "code",
   "execution_count": 37,
   "id": "f78c6441-8e29-492d-b4d8-a5153a4d2a1f",
   "metadata": {},
   "outputs": [],
   "source": [
    "xvars = [\n",
    "    'taxi_id', \n",
    "    'trip_count', \n",
    "    'total_earned', \n",
    "    'total_trip_seconds', \n",
    "    'total_miles_travelled', \n",
    "]\n",
    "\n",
    "request_payload = []\n",
    "for i, row in ds.to_df().head()[xvars].iterrows():\n",
    "    request_payload.append( \n",
    "        row.to_dict()\n",
    "    )"
   ]
  },
  {
   "cell_type": "code",
   "execution_count": 38,
   "id": "309a893f-812a-46cd-b851-f923b8e60d9c",
   "metadata": {},
   "outputs": [
    {
     "name": "stdout",
     "output_type": "stream",
     "text": [
      "\n",
      "--- Online features ---\n"
     ]
    },
    {
     "ename": "EntityNotFoundException",
     "evalue": "Entity trip_count does not exist in project dqm_repo",
     "output_type": "error",
     "traceback": [
      "\u001b[0;31m---------------------------------------------------------------------------\u001b[0m",
      "\u001b[0;31mKeyError\u001b[0m                                  Traceback (most recent call last)",
      "File \u001b[0;32m~/GitHub/feast/sdk/python/feast/feature_store.py:1735\u001b[0m, in \u001b[0;36mFeatureStore._get_online_features\u001b[0;34m(self, features, entity_values, full_feature_names, native_entity_values)\u001b[0m\n\u001b[1;32m   1734\u001b[0m \u001b[38;5;28;01mtry\u001b[39;00m:\n\u001b[0;32m-> 1735\u001b[0m     join_key \u001b[38;5;241m=\u001b[39m \u001b[43mentity_name_to_join_key_map\u001b[49m\u001b[43m[\u001b[49m\u001b[43mjoin_key_or_entity_name\u001b[49m\u001b[43m]\u001b[49m\n\u001b[1;32m   1736\u001b[0m \u001b[38;5;28;01mexcept\u001b[39;00m \u001b[38;5;167;01mKeyError\u001b[39;00m:\n",
      "\u001b[0;31mKeyError\u001b[0m: 'trip_count'",
      "\nDuring handling of the above exception, another exception occurred:\n",
      "\u001b[0;31mEntityNotFoundException\u001b[0m                   Traceback (most recent call last)",
      "Cell \u001b[0;32mIn [38], line 3\u001b[0m\n\u001b[1;32m      1\u001b[0m \u001b[38;5;28mprint\u001b[39m(\u001b[38;5;124m\"\u001b[39m\u001b[38;5;130;01m\\n\u001b[39;00m\u001b[38;5;124m--- Online features ---\u001b[39m\u001b[38;5;124m\"\u001b[39m)\n\u001b[0;32m----> 3\u001b[0m features \u001b[38;5;241m=\u001b[39m \u001b[43mstore\u001b[49m\u001b[38;5;241;43m.\u001b[39;49m\u001b[43mget_online_features\u001b[49m\u001b[43m(\u001b[49m\n\u001b[1;32m      4\u001b[0m \u001b[43m    \u001b[49m\u001b[43mfeatures\u001b[49m\u001b[38;5;241;43m=\u001b[39;49m\u001b[43m[\u001b[49m\n\u001b[1;32m      5\u001b[0m \u001b[43m        \u001b[49m\u001b[38;5;124;43m\"\u001b[39;49m\u001b[38;5;124;43mtrip_stats:total_miles_travelled\u001b[39;49m\u001b[38;5;124;43m\"\u001b[39;49m\u001b[43m,\u001b[49m\n\u001b[1;32m      6\u001b[0m \u001b[43m        \u001b[49m\u001b[38;5;124;43m\"\u001b[39;49m\u001b[38;5;124;43mtrip_stats:total_trip_seconds\u001b[39;49m\u001b[38;5;124;43m\"\u001b[39;49m\u001b[43m,\u001b[49m\n\u001b[1;32m      7\u001b[0m \u001b[43m        \u001b[49m\u001b[38;5;124;43m\"\u001b[39;49m\u001b[38;5;124;43mtrip_stats:total_earned\u001b[39;49m\u001b[38;5;124;43m\"\u001b[39;49m\u001b[43m,\u001b[49m\n\u001b[1;32m      8\u001b[0m \u001b[43m        \u001b[49m\u001b[38;5;124;43m\"\u001b[39;49m\u001b[38;5;124;43mtrip_stats:trip_count\u001b[39;49m\u001b[38;5;124;43m\"\u001b[39;49m\u001b[43m,\u001b[49m\n\u001b[1;32m      9\u001b[0m \u001b[43m        \u001b[49m\u001b[38;5;124;43m\"\u001b[39;49m\u001b[38;5;124;43mon_demand_stats:avg_fare\u001b[39;49m\u001b[38;5;124;43m\"\u001b[39;49m\u001b[43m,\u001b[49m\n\u001b[1;32m     10\u001b[0m \u001b[43m        \u001b[49m\u001b[38;5;124;43m\"\u001b[39;49m\u001b[38;5;124;43mon_demand_stats:avg_trip_seconds\u001b[39;49m\u001b[38;5;124;43m\"\u001b[39;49m\u001b[43m,\u001b[49m\n\u001b[1;32m     11\u001b[0m \u001b[43m        \u001b[49m\u001b[38;5;124;43m\"\u001b[39;49m\u001b[38;5;124;43mon_demand_stats:avg_speed\u001b[39;49m\u001b[38;5;124;43m\"\u001b[39;49m\u001b[43m,\u001b[49m\n\u001b[1;32m     12\u001b[0m \u001b[43m        \u001b[49m\u001b[38;5;124;43m\"\u001b[39;49m\u001b[38;5;124;43mon_demand_stats:earned_per_hour\u001b[39;49m\u001b[38;5;124;43m\"\u001b[39;49m\u001b[43m,\u001b[49m\u001b[43m        \u001b[49m\n\u001b[1;32m     13\u001b[0m \u001b[43m    \u001b[49m\u001b[43m]\u001b[49m\u001b[43m,\u001b[49m\n\u001b[1;32m     14\u001b[0m \u001b[43m    \u001b[49m\u001b[43mentity_rows\u001b[49m\u001b[38;5;241;43m=\u001b[39;49m\u001b[43mrequest_payload\u001b[49m\u001b[43m,\u001b[49m\n\u001b[1;32m     15\u001b[0m \u001b[43m)\u001b[49m\u001b[38;5;241m.\u001b[39mto_dict()\n\u001b[1;32m     17\u001b[0m \u001b[38;5;28mprint\u001b[39m(json\u001b[38;5;241m.\u001b[39mdumps(features, indent\u001b[38;5;241m=\u001b[39m\u001b[38;5;241m1\u001b[39m))\n",
      "File \u001b[0;32m~/GitHub/feast/sdk/python/feast/usage.py:294\u001b[0m, in \u001b[0;36mlog_exceptions_and_usage.<locals>.decorator.<locals>.wrapper\u001b[0;34m(*args, **kwargs)\u001b[0m\n\u001b[1;32m    291\u001b[0m     ctx\u001b[38;5;241m.\u001b[39mtraceback \u001b[38;5;241m=\u001b[39m _trace_to_log(traceback)\n\u001b[1;32m    293\u001b[0m     \u001b[38;5;28;01mif\u001b[39;00m traceback:\n\u001b[0;32m--> 294\u001b[0m         \u001b[38;5;28;01mraise\u001b[39;00m exc\u001b[38;5;241m.\u001b[39mwith_traceback(traceback)\n\u001b[1;32m    296\u001b[0m     \u001b[38;5;28;01mraise\u001b[39;00m exc\n\u001b[1;32m    297\u001b[0m \u001b[38;5;28;01mfinally\u001b[39;00m:\n",
      "File \u001b[0;32m~/GitHub/feast/sdk/python/feast/usage.py:283\u001b[0m, in \u001b[0;36mlog_exceptions_and_usage.<locals>.decorator.<locals>.wrapper\u001b[0;34m(*args, **kwargs)\u001b[0m\n\u001b[1;32m    280\u001b[0m ctx\u001b[38;5;241m.\u001b[39mattributes\u001b[38;5;241m.\u001b[39mupdate(attrs)\n\u001b[1;32m    282\u001b[0m \u001b[38;5;28;01mtry\u001b[39;00m:\n\u001b[0;32m--> 283\u001b[0m     \u001b[38;5;28;01mreturn\u001b[39;00m \u001b[43mfunc\u001b[49m\u001b[43m(\u001b[49m\u001b[38;5;241;43m*\u001b[39;49m\u001b[43margs\u001b[49m\u001b[43m,\u001b[49m\u001b[43m \u001b[49m\u001b[38;5;241;43m*\u001b[39;49m\u001b[38;5;241;43m*\u001b[39;49m\u001b[43mkwargs\u001b[49m\u001b[43m)\u001b[49m\n\u001b[1;32m    284\u001b[0m \u001b[38;5;28;01mexcept\u001b[39;00m \u001b[38;5;167;01mException\u001b[39;00m:\n\u001b[1;32m    285\u001b[0m     \u001b[38;5;28;01mif\u001b[39;00m ctx\u001b[38;5;241m.\u001b[39mexception:\n\u001b[1;32m    286\u001b[0m         \u001b[38;5;66;03m# exception was already recorded\u001b[39;00m\n",
      "File \u001b[0;32m~/GitHub/feast/sdk/python/feast/feature_store.py:1588\u001b[0m, in \u001b[0;36mFeatureStore.get_online_features\u001b[0;34m(self, features, entity_rows, full_feature_names)\u001b[0m\n\u001b[1;32m   1585\u001b[0m         \u001b[38;5;28;01mexcept\u001b[39;00m \u001b[38;5;167;01mKeyError\u001b[39;00m \u001b[38;5;28;01mas\u001b[39;00m e:\n\u001b[1;32m   1586\u001b[0m             \u001b[38;5;28;01mraise\u001b[39;00m \u001b[38;5;167;01mValueError\u001b[39;00m(\u001b[38;5;124m\"\u001b[39m\u001b[38;5;124mAll entity_rows must have the same keys.\u001b[39m\u001b[38;5;124m\"\u001b[39m) \u001b[38;5;28;01mfrom\u001b[39;00m \u001b[38;5;21;01me\u001b[39;00m\n\u001b[0;32m-> 1588\u001b[0m \u001b[38;5;28;01mreturn\u001b[39;00m \u001b[38;5;28;43mself\u001b[39;49m\u001b[38;5;241;43m.\u001b[39;49m\u001b[43m_get_online_features\u001b[49m\u001b[43m(\u001b[49m\n\u001b[1;32m   1589\u001b[0m \u001b[43m    \u001b[49m\u001b[43mfeatures\u001b[49m\u001b[38;5;241;43m=\u001b[39;49m\u001b[43mfeatures\u001b[49m\u001b[43m,\u001b[49m\n\u001b[1;32m   1590\u001b[0m \u001b[43m    \u001b[49m\u001b[43mentity_values\u001b[49m\u001b[38;5;241;43m=\u001b[39;49m\u001b[43mcolumnar\u001b[49m\u001b[43m,\u001b[49m\n\u001b[1;32m   1591\u001b[0m \u001b[43m    \u001b[49m\u001b[43mfull_feature_names\u001b[49m\u001b[38;5;241;43m=\u001b[39;49m\u001b[43mfull_feature_names\u001b[49m\u001b[43m,\u001b[49m\n\u001b[1;32m   1592\u001b[0m \u001b[43m    \u001b[49m\u001b[43mnative_entity_values\u001b[49m\u001b[38;5;241;43m=\u001b[39;49m\u001b[38;5;28;43;01mTrue\u001b[39;49;00m\u001b[43m,\u001b[49m\n\u001b[1;32m   1593\u001b[0m \u001b[43m\u001b[49m\u001b[43m)\u001b[49m\n",
      "File \u001b[0;32m~/GitHub/feast/sdk/python/feast/feature_store.py:1737\u001b[0m, in \u001b[0;36mFeatureStore._get_online_features\u001b[0;34m(self, features, entity_values, full_feature_names, native_entity_values)\u001b[0m\n\u001b[1;32m   1735\u001b[0m     join_key \u001b[38;5;241m=\u001b[39m entity_name_to_join_key_map[join_key_or_entity_name]\n\u001b[1;32m   1736\u001b[0m \u001b[38;5;28;01mexcept\u001b[39;00m \u001b[38;5;167;01mKeyError\u001b[39;00m:\n\u001b[0;32m-> 1737\u001b[0m     \u001b[38;5;28;01mraise\u001b[39;00m EntityNotFoundException(\n\u001b[1;32m   1738\u001b[0m         join_key_or_entity_name, \u001b[38;5;28mself\u001b[39m\u001b[38;5;241m.\u001b[39mproject\n\u001b[1;32m   1739\u001b[0m     )\n\u001b[1;32m   1740\u001b[0m \u001b[38;5;28;01melse\u001b[39;00m:\n\u001b[1;32m   1741\u001b[0m     warnings\u001b[38;5;241m.\u001b[39mwarn(\n\u001b[1;32m   1742\u001b[0m         \u001b[38;5;124m\"\u001b[39m\u001b[38;5;124mUsing entity name is deprecated. Use join_key instead.\u001b[39m\u001b[38;5;124m\"\u001b[39m\n\u001b[1;32m   1743\u001b[0m     )\n",
      "\u001b[0;31mEntityNotFoundException\u001b[0m: Entity trip_count does not exist in project dqm_repo"
     ]
    }
   ],
   "source": [
    "print(\"\\n--- Online features ---\")\n",
    "\n",
    "features = store.get_online_features(\n",
    "    features=[\n",
    "        \"trip_stats:total_miles_travelled\",\n",
    "        \"trip_stats:total_trip_seconds\",\n",
    "        \"trip_stats:total_earned\",\n",
    "        \"trip_stats:trip_count\",\n",
    "        \"on_demand_stats:avg_fare\",\n",
    "        \"on_demand_stats:avg_trip_seconds\",\n",
    "        \"on_demand_stats:avg_speed\",\n",
    "        \"on_demand_stats:earned_per_hour\",        \n",
    "    ],\n",
    "    entity_rows=request_payload,\n",
    ").to_dict()\n",
    "\n",
    "print(json.dumps(features, indent=1))"
   ]
  },
  {
   "cell_type": "code",
   "execution_count": null,
   "id": "3b00bc61-5e35-4443-8a86-1c9739c53c2d",
   "metadata": {},
   "outputs": [],
   "source": [
    "event_df = pd.DataFrame.from_dict(\n",
    "    {\n",
    "        \"driver_id\": [1001],\n",
    "        \"event_timestamp\": [\n",
    "            datetime(2021, 5, 13, 10, 59, 42),\n",
    "        ],\n",
    "        \"created\": [\n",
    "            datetime(2021, 5, 13, 10, 59, 42),\n",
    "        ],\n",
    "        \"conv_rate\": [1.0],\n",
    "        \"acc_rate\": [1.0],\n",
    "        \"avg_daily_trips\": [1000],\n",
    "        \"string_feature\": \"test2\",\n",
    "    }\n",
    ")\n",
    "print(event_df)\n",
    "store.push(\"driver_stats_push_source\", event_df)"
   ]
  },
  {
   "cell_type": "code",
   "execution_count": 43,
   "id": "9df23957-82d0-4e7b-97b7-eaf6a198f6dd",
   "metadata": {},
   "outputs": [
    {
     "data": {
      "text/plain": [
       "{'taxi_id': ['1001'],\n",
       " 'trip_count': [None],\n",
       " 'total_trip_seconds': [None],\n",
       " 'total_miles_travelled': [None],\n",
       " 'total_earned': [None],\n",
       " 'avg_fare': [None],\n",
       " 'avg_speed': [None],\n",
       " 'avg_trip_seconds': [None],\n",
       " 'earned_per_hour': [None]}"
      ]
     },
     "execution_count": 43,
     "metadata": {},
     "output_type": "execute_result"
    }
   ],
   "source": [
    "features"
   ]
  },
  {
   "cell_type": "markdown",
   "id": "16302390-d2da-4bc0-ba1c-a47111dfb2e2",
   "metadata": {},
   "source": [
    "# END"
   ]
  }
 ],
 "metadata": {
  "kernelspec": {
   "display_name": "Python 3 (ipykernel)",
   "language": "python",
   "name": "python3"
  },
  "language_info": {
   "codemirror_mode": {
    "name": "ipython",
    "version": 3
   },
   "file_extension": ".py",
   "mimetype": "text/x-python",
   "name": "python",
   "nbconvert_exporter": "python",
   "pygments_lexer": "ipython3",
   "version": "3.8.14"
  }
 },
 "nbformat": 4,
 "nbformat_minor": 5
}
