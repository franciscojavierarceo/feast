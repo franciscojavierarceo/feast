{
 "cells": [
  {
   "cell_type": "code",
   "execution_count": 88,
   "id": "2a9ed225-e62b-4283-9335-594a768d8c12",
   "metadata": {},
   "outputs": [
    {
     "name": "stdout",
     "output_type": "stream",
     "text": [
      "Requirement already satisfied: pyopenssl in /Users/franciscojavierarceo/GitHub/feast/venv/lib/python3.8/site-packages (22.1.0)\n",
      "Collecting cryptography<39,>=38.0.0\n",
      "  Using cached cryptography-38.0.1-cp36-abi3-macosx_10_10_x86_64.whl (2.8 MB)\n",
      "Requirement already satisfied: cffi>=1.12 in /Users/franciscojavierarceo/GitHub/feast/venv/lib/python3.8/site-packages (from cryptography<39,>=38.0.0->pyopenssl) (1.15.1)\n",
      "Requirement already satisfied: pycparser in /Users/franciscojavierarceo/GitHub/feast/venv/lib/python3.8/site-packages (from cffi>=1.12->cryptography<39,>=38.0.0->pyopenssl) (2.21)\n",
      "Installing collected packages: cryptography\n",
      "  Attempting uninstall: cryptography\n",
      "    Found existing installation: cryptography 35.0.0\n",
      "    Uninstalling cryptography-35.0.0:\n",
      "      Successfully uninstalled cryptography-35.0.0\n",
      "\u001b[31mERROR: pip's dependency resolver does not currently take into account all the packages that are installed. This behaviour is the source of the following dependency conflicts.\n",
      "snowflake-connector-python 2.8.0 requires cryptography<37.0.0,>=3.1.0, but you have cryptography 38.0.1 which is incompatible.\n",
      "great-expectations 0.14.13 requires jinja2<3.1.0,>=2.10, but you have jinja2 3.1.2 which is incompatible.\u001b[0m\u001b[31m\n",
      "\u001b[0mSuccessfully installed cryptography-38.0.1\n",
      "Note: you may need to restart the kernel to use updated packages.\n"
     ]
    }
   ],
   "source": [
    "pip install pyopenssl --upgrade"
   ]
  },
  {
   "cell_type": "code",
   "execution_count": 91,
   "id": "e4a2c0db-7eb2-4832-b87e-f83eb7a299fc",
   "metadata": {},
   "outputs": [
    {
     "name": "stdout",
     "output_type": "stream",
     "text": [
      "pyOpenSSL: 22.1.0\n",
      "cryptography: 38.0.1\n",
      "cffi: 1.15.1\n",
      "cryptography's compiled against OpenSSL: OpenSSL 3.0.5 5 Jul 2022\n",
      "cryptography's linked OpenSSL: OpenSSL 3.0.5 5 Jul 2022\n",
      "Python's OpenSSL: OpenSSL 1.1.1q  5 Jul 2022\n",
      "Python executable: /Users/franciscojavierarceo/GitHub/feast/venv/bin/python\n",
      "Python version: 3.8.14 (default, Sep  6 2022, 23:26:50) \n",
      "[Clang 13.1.6 (clang-1316.0.21.2.5)]\n",
      "Platform: darwin\n",
      "sys.path: ['/Users/franciscojavierarceo/GitHub/feast/examples/data-quality-monitoring/dqm_repo/feature_repo', '/usr/local/Cellar/python@3.8/3.8.14/Frameworks/Python.framework/Versions/3.8/lib/python38.zip', '/usr/local/Cellar/python@3.8/3.8.14/Frameworks/Python.framework/Versions/3.8/lib/python3.8', '/usr/local/Cellar/python@3.8/3.8.14/Frameworks/Python.framework/Versions/3.8/lib/python3.8/lib-dynload', '/Users/franciscojavierarceo/GitHub/feast/venv/lib/python3.8/site-packages', '/Users/franciscojavierarceo/GitHub/feast/sdk/python']\n"
     ]
    }
   ],
   "source": [
    "!python -m OpenSSL.debug"
   ]
  },
  {
   "cell_type": "code",
   "execution_count": null,
   "id": "fee93000-931d-46f6-9b97-782e010acf11",
   "metadata": {},
   "outputs": [
    {
     "name": "stdout",
     "output_type": "stream",
     "text": [
      "Collecting jinja2==3.0.3\n",
      "  Using cached Jinja2-3.0.3-py3-none-any.whl (133 kB)\n",
      "Requirement already satisfied: MarkupSafe>=2.0 in /Users/franciscojavierarceo/GitHub/feast/venv/lib/python3.8/site-packages (from jinja2==3.0.3) (2.1.1)\n",
      "Installing collected packages: jinja2\n",
      "  Attempting uninstall: jinja2\n",
      "    Found existing installation: Jinja2 3.1.2\n",
      "    Uninstalling Jinja2-3.1.2:\n",
      "      Successfully uninstalled Jinja2-3.1.2\n",
      "Successfully installed jinja2-3.0.3\n"
     ]
    }
   ],
   "source": [
    "! pip install jinja2==3.0.3"
   ]
  },
  {
   "cell_type": "code",
   "execution_count": 1,
   "id": "d134156c-d05a-4220-9a07-4aa7985091e6",
   "metadata": {},
   "outputs": [
    {
     "name": "stdout",
     "output_type": "stream",
     "text": [
      "/Users/franciscojavierarceo/GitHub/feast/examples/data-quality-monitoring\n"
     ]
    }
   ],
   "source": [
    "cd /Users/franciscojavierarceo/GitHub/feast/examples/data-quality-monitoring/"
   ]
  },
  {
   "cell_type": "code",
   "execution_count": 2,
   "id": "72b3ce58-12b9-4fe6-b714-1a52171fe7c0",
   "metadata": {},
   "outputs": [],
   "source": [
    "! rm -r dqm_repo"
   ]
  },
  {
   "cell_type": "code",
   "execution_count": 3,
   "id": "449570b5-8537-40a9-807e-5415e6add6fe",
   "metadata": {},
   "outputs": [
    {
     "name": "stdout",
     "output_type": "stream",
     "text": [
      "\n",
      "Creating a new Feast repository in \u001b[1m\u001b[32m/Users/franciscojavierarceo/GitHub/feast/examples/data-quality-monitoring/dqm_repo\u001b[0m.\n",
      "\n"
     ]
    }
   ],
   "source": [
    "!feast init dqm_repo"
   ]
  },
  {
   "cell_type": "code",
   "execution_count": 4,
   "id": "bcb26718-c88f-4872-bc70-bdec741aa832",
   "metadata": {},
   "outputs": [
    {
     "name": "stdout",
     "output_type": "stream",
     "text": [
      "/Users/franciscojavierarceo/GitHub/feast/examples/data-quality-monitoring/dqm_repo/feature_repo\n"
     ]
    }
   ],
   "source": [
    "cd /Users/franciscojavierarceo/GitHub/feast/examples/data-quality-monitoring/dqm_repo/feature_repo"
   ]
  },
  {
   "cell_type": "code",
   "execution_count": 5,
   "id": "96a88342-75e9-44a2-bc98-18540fa9e3d5",
   "metadata": {},
   "outputs": [],
   "source": [
    "x = \"\"\"\n",
    "from datetime import timedelta\n",
    "from feast import Entity\n",
    "taxi_entity = Entity(name='taxi', join_keys=['taxi_id'])\n",
    "from feast import FileSource, Field\n",
    "from feast.data_format import ParquetFormat\n",
    "from feast.types import Float32, Float64, Int64\n",
    "\n",
    "batch_source = FileSource(\n",
    "    timestamp_field=\"day\",\n",
    "    # using parquet file that we created on previous step\n",
    "    path=\"/Users/franciscojavierarceo/GitHub/feast/examples/data-quality-monitoring/trips_stats.parquet\",  \n",
    "    file_format=ParquetFormat()\n",
    ")\n",
    "\n",
    "\n",
    "from feast import BatchFeatureView\n",
    "\n",
    "trips_stats_fv = BatchFeatureView(\n",
    "    name='trip_stats',\n",
    "    entities=[taxi_entity],\n",
    "    ttl=timedelta(seconds=86400),\n",
    "    schema=[\n",
    "        Field(name=\"total_miles_travelled\", dtype=Float64),\n",
    "        Field(name=\"total_trip_seconds\", dtype=Float64),\n",
    "        Field(name=\"total_earned\", dtype=Float64),\n",
    "        Field(name=\"trip_count\", dtype=Int64),\n",
    "\n",
    "    ],\n",
    "    source=batch_source,\n",
    "    online=True,\n",
    "    tags={\"production\": \"True\"},\n",
    "    owner='test1@gmail.com',\n",
    ")\n",
    "\n",
    "import pyarrow.parquet\n",
    "import pandas as pd\n",
    "\n",
    "from feast import FeatureView, Entity, FeatureStore, Field, BatchFeatureView\n",
    "from feast.types import Float64, Int64\n",
    "from feast.value_type import ValueType\n",
    "from feast.data_format import ParquetFormat\n",
    "from feast.on_demand_feature_view import on_demand_feature_view\n",
    "from feast.infra.offline_stores.file_source import FileSource\n",
    "from feast.infra.offline_stores.file import SavedDatasetFileStorage\n",
    "from datetime import timedelta\n",
    "\n",
    "@on_demand_feature_view(\n",
    "    schema=[\n",
    "        Field(name=\"avg_fare\", dtype=Float64),\n",
    "        Field(name=\"avg_speed\", dtype=Float64),\n",
    "        Field(name=\"avg_trip_seconds\", dtype=Float64),\n",
    "        Field(name=\"earned_per_hour\", dtype=Float64),\n",
    "    ],\n",
    "    sources=[\n",
    "      trips_stats_fv,\n",
    "    ]\n",
    ")\n",
    "def on_demand_stats(inp):\n",
    "    out = pd.DataFrame()\n",
    "    out[\"avg_fare\"] = inp[\"total_earned\"] / inp[\"trip_count\"]\n",
    "    out[\"avg_speed\"] = 3600 * inp[\"total_miles_travelled\"] / inp[\"total_trip_seconds\"]\n",
    "    out[\"avg_trip_seconds\"] = inp[\"total_trip_seconds\"] / inp[\"trip_count\"]\n",
    "    out[\"earned_per_hour\"] = 3600 * inp[\"total_earned\"] / inp[\"total_trip_seconds\"]\n",
    "    return out\n",
    "\n",
    "\"\"\""
   ]
  },
  {
   "cell_type": "code",
   "execution_count": 6,
   "id": "0c5017c0-1c41-412c-a116-1e67887629f9",
   "metadata": {},
   "outputs": [],
   "source": [
    "f = open('/Users/franciscojavierarceo/GitHub/feast/examples/data-quality-monitoring/dqm_repo/feature_repo/dqm_example.py', 'w')\n",
    "f.write(x)\n",
    "f.close()"
   ]
  },
  {
   "cell_type": "code",
   "execution_count": 7,
   "id": "aae70593-9f9d-44a2-9552-03c60a9255d5",
   "metadata": {},
   "outputs": [
    {
     "name": "stdout",
     "output_type": "stream",
     "text": [
      "/Users/franciscojavierarceo/GitHub/feast/sdk/python/feast/batch_feature_view.py:72: RuntimeWarning: Batch feature views are experimental features in alpha development. Some functionality may still be unstable so functionality can change in the future.\n",
      "  warnings.warn(\n",
      "/Users/franciscojavierarceo/GitHub/feast/sdk/python/feast/feature_store.py:563: RuntimeWarning: On demand feature view is an experimental feature. This API is stable, but the functionality does not scale well for offline retrieval\n",
      "  warnings.warn(\n",
      "/Users/franciscojavierarceo/GitHub/feast/sdk/python/feast/infra/offline_stores/file_source.py:161: FutureWarning: 'ParquetDataset.schema' attribute is deprecated as of pyarrow 5.0.0 and will be removed in a future version. Specify 'use_legacy_dataset=False' while constructing the ParquetDataset, and then use the '.schema' attribute instead (which will return an Arrow schema instead of a Parquet schema).\n",
      "  schema = ParquetDataset(path).schema.to_arrow_schema()\n",
      "Created entity \u001b[1m\u001b[32mtaxi\u001b[0m\n",
      "Created entity \u001b[1m\u001b[32mdriver\u001b[0m\n",
      "Created feature view \u001b[1m\u001b[32mdriver_hourly_stats\u001b[0m\n",
      "Created feature view \u001b[1m\u001b[32mdriver_hourly_stats_fresh\u001b[0m\n",
      "Created feature view \u001b[1m\u001b[32mtrip_stats\u001b[0m\n",
      "Created on demand feature view \u001b[1m\u001b[32mtransformed_conv_rate\u001b[0m\n",
      "Created on demand feature view \u001b[1m\u001b[32mon_demand_stats\u001b[0m\n",
      "Created on demand feature view \u001b[1m\u001b[32mtransformed_conv_rate_fresh\u001b[0m\n",
      "Created feature service \u001b[1m\u001b[32mdriver_activity_v3\u001b[0m\n",
      "Created feature service \u001b[1m\u001b[32mdriver_activity_v2\u001b[0m\n",
      "Created feature service \u001b[1m\u001b[32mdriver_activity_v1\u001b[0m\n",
      "\n",
      "Created sqlite table \u001b[1m\u001b[32mdqm_repo_trip_stats\u001b[0m\n",
      "Created sqlite table \u001b[1m\u001b[32mdqm_repo_driver_hourly_stats_fresh\u001b[0m\n",
      "Created sqlite table \u001b[1m\u001b[32mdqm_repo_driver_hourly_stats\u001b[0m\n",
      "\n"
     ]
    }
   ],
   "source": [
    "! feast apply"
   ]
  },
  {
   "cell_type": "markdown",
   "id": "b5a1a987-15fe-4422-b734-fe56992e587e",
   "metadata": {},
   "source": [
    "# Now the DQM piece"
   ]
  },
  {
   "cell_type": "code",
   "execution_count": 8,
   "id": "cc4118c6-a499-44d2-9b01-c548a87c492f",
   "metadata": {},
   "outputs": [],
   "source": [
    "import pyarrow.parquet\n",
    "taxi_ids = pyarrow.parquet.read_table(\"/Users/franciscojavierarceo/GitHub/feast/examples/data-quality-monitoring/entities.parquet\").to_pandas()"
   ]
  },
  {
   "cell_type": "code",
   "execution_count": 9,
   "id": "f510f271-b62c-4b1a-be08-84c9559d4223",
   "metadata": {},
   "outputs": [],
   "source": [
    "import pandas as pd\n",
    "timestamps = pd.DataFrame()\n",
    "timestamps[\"event_timestamp\"] = pd.date_range(\"2019-06-01\", \"2019-07-01\", freq='D')"
   ]
  },
  {
   "cell_type": "code",
   "execution_count": 10,
   "id": "4fdcfc53-9d99-485f-b0ca-3b0f3028895a",
   "metadata": {},
   "outputs": [
    {
     "data": {
      "text/html": [
       "<div>\n",
       "<style scoped>\n",
       "    .dataframe tbody tr th:only-of-type {\n",
       "        vertical-align: middle;\n",
       "    }\n",
       "\n",
       "    .dataframe tbody tr th {\n",
       "        vertical-align: top;\n",
       "    }\n",
       "\n",
       "    .dataframe thead th {\n",
       "        text-align: right;\n",
       "    }\n",
       "</style>\n",
       "<table border=\"1\" class=\"dataframe\">\n",
       "  <thead>\n",
       "    <tr style=\"text-align: right;\">\n",
       "      <th></th>\n",
       "      <th>taxi_id</th>\n",
       "      <th>event_timestamp</th>\n",
       "    </tr>\n",
       "  </thead>\n",
       "  <tbody>\n",
       "    <tr>\n",
       "      <th>0</th>\n",
       "      <td>91d5288487e87c5917b813ba6f75ab1c3a9749af906a2d...</td>\n",
       "      <td>2019-06-01</td>\n",
       "    </tr>\n",
       "    <tr>\n",
       "      <th>1</th>\n",
       "      <td>91d5288487e87c5917b813ba6f75ab1c3a9749af906a2d...</td>\n",
       "      <td>2019-06-02</td>\n",
       "    </tr>\n",
       "    <tr>\n",
       "      <th>2</th>\n",
       "      <td>91d5288487e87c5917b813ba6f75ab1c3a9749af906a2d...</td>\n",
       "      <td>2019-06-03</td>\n",
       "    </tr>\n",
       "    <tr>\n",
       "      <th>3</th>\n",
       "      <td>91d5288487e87c5917b813ba6f75ab1c3a9749af906a2d...</td>\n",
       "      <td>2019-06-04</td>\n",
       "    </tr>\n",
       "    <tr>\n",
       "      <th>4</th>\n",
       "      <td>91d5288487e87c5917b813ba6f75ab1c3a9749af906a2d...</td>\n",
       "      <td>2019-06-05</td>\n",
       "    </tr>\n",
       "  </tbody>\n",
       "</table>\n",
       "</div>"
      ],
      "text/plain": [
       "                                             taxi_id event_timestamp\n",
       "0  91d5288487e87c5917b813ba6f75ab1c3a9749af906a2d...      2019-06-01\n",
       "1  91d5288487e87c5917b813ba6f75ab1c3a9749af906a2d...      2019-06-02\n",
       "2  91d5288487e87c5917b813ba6f75ab1c3a9749af906a2d...      2019-06-03\n",
       "3  91d5288487e87c5917b813ba6f75ab1c3a9749af906a2d...      2019-06-04\n",
       "4  91d5288487e87c5917b813ba6f75ab1c3a9749af906a2d...      2019-06-05"
      ]
     },
     "execution_count": 10,
     "metadata": {},
     "output_type": "execute_result"
    }
   ],
   "source": [
    "entity_df = pd.merge(taxi_ids, timestamps, how='cross')\n",
    "entity_df.head()"
   ]
  },
  {
   "cell_type": "code",
   "execution_count": 11,
   "id": "c93156a9-7e1b-4012-b19a-a8f23ffed254",
   "metadata": {},
   "outputs": [],
   "source": [
    "from feast import FeatureStore\n",
    "store = FeatureStore(\"/Users/franciscojavierarceo/GitHub/feast/examples/data-quality-monitoring/dqm_repo/feature_repo/\")"
   ]
  },
  {
   "cell_type": "code",
   "execution_count": 12,
   "id": "178128d9-f515-4e1e-a3d9-f492fa4175ba",
   "metadata": {},
   "outputs": [],
   "source": [
    "job = store.get_historical_features(\n",
    "    entity_df=entity_df,\n",
    "    features=[\n",
    "        \"trip_stats:total_miles_travelled\",\n",
    "        \"trip_stats:total_trip_seconds\",\n",
    "        \"trip_stats:total_earned\",\n",
    "        \"trip_stats:trip_count\",\n",
    "        \"on_demand_stats:avg_fare\",\n",
    "        \"on_demand_stats:avg_trip_seconds\",\n",
    "        \"on_demand_stats:avg_speed\",\n",
    "        \"on_demand_stats:earned_per_hour\",\n",
    "    ]\n",
    ")"
   ]
  },
  {
   "cell_type": "code",
   "execution_count": 13,
   "id": "0310e18a-f2e7-42db-a454-57330d3330d1",
   "metadata": {},
   "outputs": [
    {
     "name": "stderr",
     "output_type": "stream",
     "text": [
      "/Users/franciscojavierarceo/GitHub/feast/sdk/python/feast/feature_store.py:1182: RuntimeWarning: Saving dataset is an experimental feature. This API is unstable and it could and most probably will be changed in the future. We do not guarantee that future changes will maintain backward compatibility.\n",
      "  warnings.warn(\n"
     ]
    }
   ],
   "source": [
    "from feast.infra.offline_stores.file import SavedDatasetFileStorage\n",
    "\n",
    "try:\n",
    "    thing = store.create_saved_dataset(\n",
    "        from_=job,\n",
    "        name='my_training_ds',\n",
    "        storage=SavedDatasetFileStorage(path='/Users/franciscojavierarceo/GitHub/feast/examples/data-quality-monitoring/dqm_repo/feature_repo/my_training_ds.parquet')\n",
    "    )\n",
    "except:\n",
    "    pass"
   ]
  },
  {
   "cell_type": "code",
   "execution_count": 14,
   "id": "9a463a88-6c35-4e36-807a-c4c653a0a554",
   "metadata": {},
   "outputs": [],
   "source": [
    "store.apply(thing)"
   ]
  },
  {
   "cell_type": "markdown",
   "id": "7d947b2b-4717-419a-8447-c3bf78f4dfd2",
   "metadata": {},
   "source": [
    "# Now setting up the profiler"
   ]
  },
  {
   "cell_type": "code",
   "execution_count": 15,
   "id": "ed880ac8-7031-4584-9f81-9421d118fc52",
   "metadata": {},
   "outputs": [
    {
     "data": {
      "text/plain": [
       "<SavedDataset(name = my_training_ds, features = ['trip_stats:total_miles_travelled', 'trip_stats:total_trip_seconds', 'trip_stats:total_earned', 'trip_stats:trip_count', 'on_demand_stats:avg_fare', 'on_demand_stats:avg_trip_seconds', 'on_demand_stats:avg_speed', 'on_demand_stats:earned_per_hour'], join_keys = ['taxi_id'], storage = <feast.infra.offline_stores.file_source.SavedDatasetFileStorage object at 0x137d029d0>, full_feature_names = False, tags = {}, feature_service_name = None, _retrieval_job = None, created_timestamp = 2022-10-08 13:40:13.884689, min_event_timestamp = 2019-06-01 00:00:00, max_event_timestamp = 2019-07-01 00:00:00)>"
      ]
     },
     "execution_count": 15,
     "metadata": {},
     "output_type": "execute_result"
    }
   ],
   "source": [
    "store.registry.list_saved_datasets(project='dqm_repo')[0]"
   ]
  },
  {
   "cell_type": "code",
   "execution_count": 16,
   "id": "09242872-a71c-487d-b0dd-d13063852882",
   "metadata": {},
   "outputs": [
    {
     "name": "stderr",
     "output_type": "stream",
     "text": [
      "/Users/franciscojavierarceo/GitHub/feast/venv/lib/python3.8/site-packages/botocore/httpsession.py:28: DeprecationWarning: 'urllib3.contrib.pyopenssl' module is deprecated and will be removed in a future release of urllib3 2.x. Read more in this issue: https://github.com/urllib3/urllib3/issues/2680\n",
      "  from urllib3.contrib.pyopenssl import orig_util_SSLContext as SSLContext\n"
     ]
    }
   ],
   "source": [
    "import numpy as np\n",
    "\n",
    "from feast.dqm.profilers.ge_profiler import ge_profiler\n",
    "\n",
    "from great_expectations.core.expectation_suite import ExpectationSuite\n",
    "from great_expectations.dataset import PandasDataset\n"
   ]
  },
  {
   "cell_type": "code",
   "execution_count": 17,
   "id": "4d2995cb-28f8-471f-b715-fc200107b37e",
   "metadata": {},
   "outputs": [
    {
     "name": "stderr",
     "output_type": "stream",
     "text": [
      "/Users/franciscojavierarceo/GitHub/feast/sdk/python/feast/feature_store.py:1235: RuntimeWarning: Retrieving datasets is an experimental feature. This API is unstable and it could and most probably will be changed in the future. We do not guarantee that future changes will maintain backward compatibility.\n",
      "  warnings.warn(\n"
     ]
    },
    {
     "data": {
      "text/html": [
       "<div>\n",
       "<style scoped>\n",
       "    .dataframe tbody tr th:only-of-type {\n",
       "        vertical-align: middle;\n",
       "    }\n",
       "\n",
       "    .dataframe tbody tr th {\n",
       "        vertical-align: top;\n",
       "    }\n",
       "\n",
       "    .dataframe thead th {\n",
       "        text-align: right;\n",
       "    }\n",
       "</style>\n",
       "<table border=\"1\" class=\"dataframe\">\n",
       "  <thead>\n",
       "    <tr style=\"text-align: right;\">\n",
       "      <th></th>\n",
       "      <th>taxi_id</th>\n",
       "      <th>event_timestamp</th>\n",
       "      <th>avg_trip_seconds</th>\n",
       "      <th>trip_count</th>\n",
       "      <th>total_miles_travelled</th>\n",
       "      <th>earned_per_hour</th>\n",
       "      <th>avg_speed</th>\n",
       "      <th>total_earned</th>\n",
       "      <th>avg_fare</th>\n",
       "      <th>total_trip_seconds</th>\n",
       "    </tr>\n",
       "  </thead>\n",
       "  <tbody>\n",
       "    <tr>\n",
       "      <th>0</th>\n",
       "      <td>d13c5aaa066f94b4927779ed24cd313b0c686f03407095...</td>\n",
       "      <td>2019-06-01 00:00:00+00:00</td>\n",
       "      <td>2010.000000</td>\n",
       "      <td>8</td>\n",
       "      <td>69.50</td>\n",
       "      <td>45.559701</td>\n",
       "      <td>15.559701</td>\n",
       "      <td>203.50</td>\n",
       "      <td>25.437500</td>\n",
       "      <td>16080</td>\n",
       "    </tr>\n",
       "    <tr>\n",
       "      <th>1</th>\n",
       "      <td>33164e16dd29b1c58cd15cce31df4bfcb75d9903cb66de...</td>\n",
       "      <td>2019-06-01 00:00:00+00:00</td>\n",
       "      <td>1476.000000</td>\n",
       "      <td>5</td>\n",
       "      <td>15.80</td>\n",
       "      <td>36.219512</td>\n",
       "      <td>7.707317</td>\n",
       "      <td>74.25</td>\n",
       "      <td>14.850000</td>\n",
       "      <td>7380</td>\n",
       "    </tr>\n",
       "    <tr>\n",
       "      <th>2</th>\n",
       "      <td>226fe0b00be42932bdff81bc0b318b883bfbf15dd48093...</td>\n",
       "      <td>2019-06-01 00:00:00+00:00</td>\n",
       "      <td>1270.000000</td>\n",
       "      <td>6</td>\n",
       "      <td>38.50</td>\n",
       "      <td>54.212598</td>\n",
       "      <td>18.188976</td>\n",
       "      <td>114.75</td>\n",
       "      <td>19.125000</td>\n",
       "      <td>7620</td>\n",
       "    </tr>\n",
       "    <tr>\n",
       "      <th>3</th>\n",
       "      <td>5a5bed1b5ced617d0594007d591f10bbbca354d50b19ca...</td>\n",
       "      <td>2019-06-01 00:00:00+00:00</td>\n",
       "      <td>1415.000000</td>\n",
       "      <td>4</td>\n",
       "      <td>20.22</td>\n",
       "      <td>45.000000</td>\n",
       "      <td>12.860777</td>\n",
       "      <td>70.75</td>\n",
       "      <td>17.687500</td>\n",
       "      <td>5660</td>\n",
       "    </tr>\n",
       "    <tr>\n",
       "      <th>4</th>\n",
       "      <td>b7f7dbb452c0fb980a0f2050a146147c1006fe5f34e3b0...</td>\n",
       "      <td>2019-06-01 00:00:00+00:00</td>\n",
       "      <td>1395.600000</td>\n",
       "      <td>5</td>\n",
       "      <td>34.49</td>\n",
       "      <td>53.783319</td>\n",
       "      <td>17.793637</td>\n",
       "      <td>104.25</td>\n",
       "      <td>20.850000</td>\n",
       "      <td>6978</td>\n",
       "    </tr>\n",
       "    <tr>\n",
       "      <th>...</th>\n",
       "      <td>...</td>\n",
       "      <td>...</td>\n",
       "      <td>...</td>\n",
       "      <td>...</td>\n",
       "      <td>...</td>\n",
       "      <td>...</td>\n",
       "      <td>...</td>\n",
       "      <td>...</td>\n",
       "      <td>...</td>\n",
       "      <td>...</td>\n",
       "    </tr>\n",
       "    <tr>\n",
       "      <th>119803</th>\n",
       "      <td>961263722c1beadafef2355412d672acac35e4054f6aaa...</td>\n",
       "      <td>2019-07-01 00:00:00+00:00</td>\n",
       "      <td>1205.000000</td>\n",
       "      <td>4</td>\n",
       "      <td>36.98</td>\n",
       "      <td>76.369295</td>\n",
       "      <td>27.619917</td>\n",
       "      <td>102.25</td>\n",
       "      <td>25.562500</td>\n",
       "      <td>4820</td>\n",
       "    </tr>\n",
       "    <tr>\n",
       "      <th>119804</th>\n",
       "      <td>8b07f9156e568a37d362463c84dbd1118b4eeb753bae50...</td>\n",
       "      <td>2019-07-01 00:00:00+00:00</td>\n",
       "      <td>692.727273</td>\n",
       "      <td>11</td>\n",
       "      <td>29.00</td>\n",
       "      <td>52.677165</td>\n",
       "      <td>13.700787</td>\n",
       "      <td>111.50</td>\n",
       "      <td>10.136364</td>\n",
       "      <td>7620</td>\n",
       "    </tr>\n",
       "    <tr>\n",
       "      <th>119805</th>\n",
       "      <td>a112879f10892d5c698ce150af17aa28615b6d005ca749...</td>\n",
       "      <td>2019-07-01 00:00:00+00:00</td>\n",
       "      <td>588.750000</td>\n",
       "      <td>16</td>\n",
       "      <td>31.00</td>\n",
       "      <td>54.649682</td>\n",
       "      <td>11.847134</td>\n",
       "      <td>143.00</td>\n",
       "      <td>8.937500</td>\n",
       "      <td>9420</td>\n",
       "    </tr>\n",
       "    <tr>\n",
       "      <th>119806</th>\n",
       "      <td>68fe14b9fc2d53de5ac349d47f80f43fea895e201a31e3...</td>\n",
       "      <td>2019-07-01 00:00:00+00:00</td>\n",
       "      <td>1647.000000</td>\n",
       "      <td>3</td>\n",
       "      <td>37.86</td>\n",
       "      <td>73.770492</td>\n",
       "      <td>27.584699</td>\n",
       "      <td>101.25</td>\n",
       "      <td>33.750000</td>\n",
       "      <td>4941</td>\n",
       "    </tr>\n",
       "    <tr>\n",
       "      <th>119807</th>\n",
       "      <td>6933327f9cc740e893a882282f7d06460207d6d4e084b3...</td>\n",
       "      <td>2019-07-01 00:00:00+00:00</td>\n",
       "      <td>554.285714</td>\n",
       "      <td>21</td>\n",
       "      <td>58.90</td>\n",
       "      <td>67.500000</td>\n",
       "      <td>18.216495</td>\n",
       "      <td>218.25</td>\n",
       "      <td>10.392857</td>\n",
       "      <td>11640</td>\n",
       "    </tr>\n",
       "  </tbody>\n",
       "</table>\n",
       "<p>119808 rows × 10 columns</p>\n",
       "</div>"
      ],
      "text/plain": [
       "                                                  taxi_id  \\\n",
       "0       d13c5aaa066f94b4927779ed24cd313b0c686f03407095...   \n",
       "1       33164e16dd29b1c58cd15cce31df4bfcb75d9903cb66de...   \n",
       "2       226fe0b00be42932bdff81bc0b318b883bfbf15dd48093...   \n",
       "3       5a5bed1b5ced617d0594007d591f10bbbca354d50b19ca...   \n",
       "4       b7f7dbb452c0fb980a0f2050a146147c1006fe5f34e3b0...   \n",
       "...                                                   ...   \n",
       "119803  961263722c1beadafef2355412d672acac35e4054f6aaa...   \n",
       "119804  8b07f9156e568a37d362463c84dbd1118b4eeb753bae50...   \n",
       "119805  a112879f10892d5c698ce150af17aa28615b6d005ca749...   \n",
       "119806  68fe14b9fc2d53de5ac349d47f80f43fea895e201a31e3...   \n",
       "119807  6933327f9cc740e893a882282f7d06460207d6d4e084b3...   \n",
       "\n",
       "                 event_timestamp  avg_trip_seconds  trip_count  \\\n",
       "0      2019-06-01 00:00:00+00:00       2010.000000           8   \n",
       "1      2019-06-01 00:00:00+00:00       1476.000000           5   \n",
       "2      2019-06-01 00:00:00+00:00       1270.000000           6   \n",
       "3      2019-06-01 00:00:00+00:00       1415.000000           4   \n",
       "4      2019-06-01 00:00:00+00:00       1395.600000           5   \n",
       "...                          ...               ...         ...   \n",
       "119803 2019-07-01 00:00:00+00:00       1205.000000           4   \n",
       "119804 2019-07-01 00:00:00+00:00        692.727273          11   \n",
       "119805 2019-07-01 00:00:00+00:00        588.750000          16   \n",
       "119806 2019-07-01 00:00:00+00:00       1647.000000           3   \n",
       "119807 2019-07-01 00:00:00+00:00        554.285714          21   \n",
       "\n",
       "        total_miles_travelled  earned_per_hour  avg_speed  total_earned  \\\n",
       "0                       69.50        45.559701  15.559701        203.50   \n",
       "1                       15.80        36.219512   7.707317         74.25   \n",
       "2                       38.50        54.212598  18.188976        114.75   \n",
       "3                       20.22        45.000000  12.860777         70.75   \n",
       "4                       34.49        53.783319  17.793637        104.25   \n",
       "...                       ...              ...        ...           ...   \n",
       "119803                  36.98        76.369295  27.619917        102.25   \n",
       "119804                  29.00        52.677165  13.700787        111.50   \n",
       "119805                  31.00        54.649682  11.847134        143.00   \n",
       "119806                  37.86        73.770492  27.584699        101.25   \n",
       "119807                  58.90        67.500000  18.216495        218.25   \n",
       "\n",
       "         avg_fare  total_trip_seconds  \n",
       "0       25.437500               16080  \n",
       "1       14.850000                7380  \n",
       "2       19.125000                7620  \n",
       "3       17.687500                5660  \n",
       "4       20.850000                6978  \n",
       "...           ...                 ...  \n",
       "119803  25.562500                4820  \n",
       "119804  10.136364                7620  \n",
       "119805   8.937500                9420  \n",
       "119806  33.750000                4941  \n",
       "119807  10.392857               11640  \n",
       "\n",
       "[119808 rows x 10 columns]"
      ]
     },
     "execution_count": 17,
     "metadata": {},
     "output_type": "execute_result"
    }
   ],
   "source": [
    "ds = store.get_saved_dataset('my_training_ds')\n",
    "ds.to_df()"
   ]
  },
  {
   "cell_type": "code",
   "execution_count": 18,
   "id": "6817328b-c954-45b6-a514-1d07813e7ae0",
   "metadata": {},
   "outputs": [],
   "source": [
    "import numpy as np\n",
    "\n",
    "from great_expectations.core.expectation_suite import ExpectationSuite\n",
    "from great_expectations.dataset import PandasDataset\n",
    "from feast.dqm.profilers.ge_profiler import ge_profiler"
   ]
  },
  {
   "cell_type": "code",
   "execution_count": 19,
   "id": "3a682e2b-d01e-4b63-939c-233eaee8aeb8",
   "metadata": {},
   "outputs": [],
   "source": [
    "DELTA = 0.1  # controlling allowed window in fraction of the value on scale [0, 1]\n",
    "\n",
    "@ge_profiler\n",
    "def stats_profiler(ds: PandasDataset) -> ExpectationSuite:    \n",
    "    # simple checks on data consistency\n",
    "    ds.expect_column_values_to_be_between(\n",
    "        \"avg_speed\",\n",
    "        min_value=0,\n",
    "        max_value=60,\n",
    "        mostly=0.99  # allow some outliers\n",
    "    )\n",
    "\n",
    "    ds.expect_column_values_to_be_between(\n",
    "        \"total_miles_travelled\",\n",
    "        min_value=0,\n",
    "        max_value=500,\n",
    "        mostly=0.99  # allow some outliers\n",
    "    )\n",
    "\n",
    "    # expectation of means based on observed values\n",
    "    observed_mean = ds.trip_count.mean()\n",
    "    ds.expect_column_mean_to_be_between(\"trip_count\",\n",
    "                                        min_value=observed_mean * (1 - DELTA),\n",
    "                                        max_value=observed_mean * (1 + DELTA))\n",
    "\n",
    "    observed_mean = ds.earned_per_hour.mean()\n",
    "    ds.expect_column_mean_to_be_between(\"earned_per_hour\",\n",
    "                                        min_value=observed_mean * (1 - DELTA),\n",
    "                                        max_value=observed_mean * (1 + DELTA))\n",
    "\n",
    "    # expectation of quantiles\n",
    "    qs = [0.5, 0.75, 0.9, 0.95]\n",
    "    observed_quantiles = ds.avg_fare.quantile(qs)\n",
    "\n",
    "    ds.expect_column_quantile_values_to_be_between(\n",
    "        \"avg_fare\",\n",
    "        quantile_ranges={\n",
    "            \"quantiles\": qs,\n",
    "            \"value_ranges\": [[None, max_value] for max_value in observed_quantiles]\n",
    "        })\n",
    "\n",
    "    # Note that the default is TRUE!\n",
    "    # return ds.get_expectation_suite(discard_failed_expectations=False)\n",
    "    return ds.get_expectation_suite()\n",
    "\n",
    "\n",
    "@ge_profiler\n",
    "def stats_profiler_fail(ds: PandasDataset) -> ExpectationSuite:\n",
    "    # This should fail\n",
    "    ds.expect_column_to_exist(\"this is a test\")\n",
    "    return ds.get_expectation_suite(discard_failed_expectations=False)\n",
    "\n",
    "@ge_profiler\n",
    "def stats_profiler_pass(ds: PandasDataset) -> ExpectationSuite:\n",
    "    # This should fail\n",
    "    ds.expect_column_to_exist(\"trip_count\")\n",
    "    return ds.get_expectation_suite(discard_failed_expectations=False)"
   ]
  },
  {
   "cell_type": "code",
   "execution_count": 20,
   "id": "5855d926-a624-4e2b-ab95-eae2ecba4f8f",
   "metadata": {},
   "outputs": [],
   "source": [
    "prof = ds.get_profile(profiler=stats_profiler)\n",
    "prof_fail = ds.get_profile(profiler=stats_profiler_fail)\n",
    "prof_pass = ds.get_profile(profiler=stats_profiler_pass)"
   ]
  },
  {
   "cell_type": "markdown",
   "id": "087e4140-b367-4d8f-a4c8-d1e0b83470a4",
   "metadata": {},
   "source": [
    "# Verify that we are getting all of the expectations we intended"
   ]
  },
  {
   "cell_type": "code",
   "execution_count": 21,
   "id": "889eba58-87b2-4e59-8341-a3fd6c0bc982",
   "metadata": {},
   "outputs": [],
   "source": [
    "assert len(prof.expectation_suite['expectations']) == 5\n",
    "assert len(prof_fail.expectation_suite['expectations']) == 1\n",
    "assert len(prof_pass.expectation_suite['expectations']) == 1"
   ]
  },
  {
   "cell_type": "code",
   "execution_count": 22,
   "id": "9fc429fe-3ce3-4bd8-b4e1-a805caee30fc",
   "metadata": {},
   "outputs": [],
   "source": [
    "validation_reference = ds.as_reference(name='my_validator', profiler=stats_profiler)\n",
    "validation_reference_fail = ds.as_reference(name='my_validator', profiler=stats_profiler_fail)\n",
    "validation_reference_pass = ds.as_reference(name='my_validator', profiler=stats_profiler_pass)"
   ]
  },
  {
   "cell_type": "code",
   "execution_count": 23,
   "id": "96ff58b4-156f-4899-a86e-1381d8c878cc",
   "metadata": {},
   "outputs": [],
   "source": [
    "from feast.dqm.errors import ValidationFailed"
   ]
  },
  {
   "cell_type": "code",
   "execution_count": 24,
   "id": "a8898091-7ac5-4299-9bc3-92d77fcd66b2",
   "metadata": {},
   "outputs": [
    {
     "data": {
      "text/html": [
       "<div>\n",
       "<style scoped>\n",
       "    .dataframe tbody tr th:only-of-type {\n",
       "        vertical-align: middle;\n",
       "    }\n",
       "\n",
       "    .dataframe tbody tr th {\n",
       "        vertical-align: top;\n",
       "    }\n",
       "\n",
       "    .dataframe thead th {\n",
       "        text-align: right;\n",
       "    }\n",
       "</style>\n",
       "<table border=\"1\" class=\"dataframe\">\n",
       "  <thead>\n",
       "    <tr style=\"text-align: right;\">\n",
       "      <th></th>\n",
       "      <th>taxi_id</th>\n",
       "      <th>event_timestamp</th>\n",
       "    </tr>\n",
       "  </thead>\n",
       "  <tbody>\n",
       "    <tr>\n",
       "      <th>0</th>\n",
       "      <td>91d5288487e87c5917b813ba6f75ab1c3a9749af906a2d...</td>\n",
       "      <td>2020-12-01</td>\n",
       "    </tr>\n",
       "    <tr>\n",
       "      <th>1</th>\n",
       "      <td>91d5288487e87c5917b813ba6f75ab1c3a9749af906a2d...</td>\n",
       "      <td>2020-12-02</td>\n",
       "    </tr>\n",
       "    <tr>\n",
       "      <th>2</th>\n",
       "      <td>91d5288487e87c5917b813ba6f75ab1c3a9749af906a2d...</td>\n",
       "      <td>2020-12-03</td>\n",
       "    </tr>\n",
       "    <tr>\n",
       "      <th>3</th>\n",
       "      <td>91d5288487e87c5917b813ba6f75ab1c3a9749af906a2d...</td>\n",
       "      <td>2020-12-04</td>\n",
       "    </tr>\n",
       "    <tr>\n",
       "      <th>4</th>\n",
       "      <td>91d5288487e87c5917b813ba6f75ab1c3a9749af906a2d...</td>\n",
       "      <td>2020-12-05</td>\n",
       "    </tr>\n",
       "  </tbody>\n",
       "</table>\n",
       "</div>"
      ],
      "text/plain": [
       "                                             taxi_id event_timestamp\n",
       "0  91d5288487e87c5917b813ba6f75ab1c3a9749af906a2d...      2020-12-01\n",
       "1  91d5288487e87c5917b813ba6f75ab1c3a9749af906a2d...      2020-12-02\n",
       "2  91d5288487e87c5917b813ba6f75ab1c3a9749af906a2d...      2020-12-03\n",
       "3  91d5288487e87c5917b813ba6f75ab1c3a9749af906a2d...      2020-12-04\n",
       "4  91d5288487e87c5917b813ba6f75ab1c3a9749af906a2d...      2020-12-05"
      ]
     },
     "execution_count": 24,
     "metadata": {},
     "output_type": "execute_result"
    }
   ],
   "source": [
    "timestamps = pd.DataFrame()\n",
    "timestamps[\"event_timestamp\"] = pd.date_range(\"2020-12-01\", \"2020-12-07\", freq='D')\n",
    "entity_df = pd.merge(taxi_ids, timestamps, how='cross')\n",
    "entity_df.head()"
   ]
  },
  {
   "cell_type": "code",
   "execution_count": 25,
   "id": "9d6e1a64-7fb0-418c-a665-d2199e351678",
   "metadata": {},
   "outputs": [],
   "source": [
    "job = store.get_historical_features(\n",
    "    entity_df=entity_df,\n",
    "    features=[\n",
    "        \"trip_stats:total_miles_travelled\",\n",
    "        \"trip_stats:total_trip_seconds\",\n",
    "        \"trip_stats:total_earned\",\n",
    "        \"trip_stats:trip_count\",\n",
    "        \"on_demand_stats:avg_fare\",\n",
    "        \"on_demand_stats:avg_trip_seconds\",\n",
    "        \"on_demand_stats:avg_speed\",\n",
    "        \"on_demand_stats:earned_per_hour\",\n",
    "    ]\n",
    ")"
   ]
  },
  {
   "cell_type": "code",
   "execution_count": 26,
   "id": "a7c1a060-a414-42f1-9193-4524dcc5844d",
   "metadata": {},
   "outputs": [
    {
     "name": "stderr",
     "output_type": "stream",
     "text": [
      "/Users/franciscojavierarceo/GitHub/feast/sdk/python/feast/infra/offline_stores/offline_store.py:90: RuntimeWarning: Dataset validation is an experimental feature. This API is unstable and it could and most probably will be changed in the future. We do not guarantee that future changes will maintain backward compatibility.\n",
      "  warnings.warn(\n"
     ]
    },
    {
     "name": "stdout",
     "output_type": "stream",
     "text": [
      "validation passed\n"
     ]
    }
   ],
   "source": [
    "try:\n",
    "    df = job.to_df(validation_reference=validation_reference_pass)\n",
    "    print('validation passed')\n",
    "except ValidationFailed as exc:\n",
    "    print('validation failed\\n', exc.validation_report)"
   ]
  },
  {
   "cell_type": "code",
   "execution_count": 27,
   "id": "d2a104f0-3f43-4918-b05c-81bbdbac601b",
   "metadata": {},
   "outputs": [
    {
     "name": "stderr",
     "output_type": "stream",
     "text": [
      "/Users/franciscojavierarceo/GitHub/feast/sdk/python/feast/infra/offline_stores/offline_store.py:90: RuntimeWarning: Dataset validation is an experimental feature. This API is unstable and it could and most probably will be changed in the future. We do not guarantee that future changes will maintain backward compatibility.\n",
      "  warnings.warn(\n"
     ]
    },
    {
     "name": "stdout",
     "output_type": "stream",
     "text": [
      "validation failed\n",
      " [\n",
      "  {\n",
      "    \"meta\": {},\n",
      "    \"result\": {},\n",
      "    \"exception_info\": {\n",
      "      \"raised_exception\": false,\n",
      "      \"exception_message\": null,\n",
      "      \"exception_traceback\": null\n",
      "    },\n",
      "    \"expectation_config\": {\n",
      "      \"expectation_type\": \"expect_column_to_exist\",\n",
      "      \"meta\": {},\n",
      "      \"kwargs\": {\n",
      "        \"column\": \"this is a test\",\n",
      "        \"result_format\": \"COMPLETE\"\n",
      "      }\n",
      "    },\n",
      "    \"success\": false\n",
      "  }\n",
      "]\n"
     ]
    }
   ],
   "source": [
    "try:\n",
    "    df = job.to_df(validation_reference=validation_reference_fail)\n",
    "except ValidationFailed as exc:\n",
    "    print('validation failed\\n', exc.validation_report)"
   ]
  },
  {
   "cell_type": "code",
   "execution_count": 28,
   "id": "27274d81-c862-421a-8d84-ac51c17ea978",
   "metadata": {},
   "outputs": [
    {
     "name": "stderr",
     "output_type": "stream",
     "text": [
      "/Users/franciscojavierarceo/GitHub/feast/sdk/python/feast/infra/offline_stores/offline_store.py:90: RuntimeWarning: Dataset validation is an experimental feature. This API is unstable and it could and most probably will be changed in the future. We do not guarantee that future changes will maintain backward compatibility.\n",
      "  warnings.warn(\n"
     ]
    },
    {
     "name": "stdout",
     "output_type": "stream",
     "text": [
      "validation failed\n",
      " [\n",
      "  {\n",
      "    \"meta\": {},\n",
      "    \"result\": {\n",
      "      \"observed_value\": 6.692920555429092,\n",
      "      \"element_count\": 4393,\n",
      "      \"missing_count\": null,\n",
      "      \"missing_percent\": null\n",
      "    },\n",
      "    \"exception_info\": {\n",
      "      \"raised_exception\": false,\n",
      "      \"exception_message\": null,\n",
      "      \"exception_traceback\": null\n",
      "    },\n",
      "    \"expectation_config\": {\n",
      "      \"expectation_type\": \"expect_column_mean_to_be_between\",\n",
      "      \"meta\": {},\n",
      "      \"kwargs\": {\n",
      "        \"column\": \"trip_count\",\n",
      "        \"min_value\": 10.387244591346153,\n",
      "        \"max_value\": 12.695521167200855,\n",
      "        \"result_format\": \"COMPLETE\"\n",
      "      }\n",
      "    },\n",
      "    \"success\": false\n",
      "  },\n",
      "  {\n",
      "    \"meta\": {},\n",
      "    \"result\": {\n",
      "      \"observed_value\": 68.99268345164135,\n",
      "      \"element_count\": 4393,\n",
      "      \"missing_count\": null,\n",
      "      \"missing_percent\": null\n",
      "    },\n",
      "    \"exception_info\": {\n",
      "      \"raised_exception\": false,\n",
      "      \"exception_message\": null,\n",
      "      \"exception_traceback\": null\n",
      "    },\n",
      "    \"expectation_config\": {\n",
      "      \"expectation_type\": \"expect_column_mean_to_be_between\",\n",
      "      \"meta\": {},\n",
      "      \"kwargs\": {\n",
      "        \"column\": \"earned_per_hour\",\n",
      "        \"min_value\": 52.32062497564023,\n",
      "        \"max_value\": 63.9474305257825,\n",
      "        \"result_format\": \"COMPLETE\"\n",
      "      }\n",
      "    },\n",
      "    \"success\": false\n",
      "  },\n",
      "  {\n",
      "    \"meta\": {},\n",
      "    \"result\": {\n",
      "      \"observed_value\": {\n",
      "        \"quantiles\": [\n",
      "          0.5,\n",
      "          0.75,\n",
      "          0.9,\n",
      "          0.95\n",
      "        ],\n",
      "        \"values\": [\n",
      "          19.5,\n",
      "          28.1,\n",
      "          38.0,\n",
      "          44.125\n",
      "        ]\n",
      "      },\n",
      "      \"element_count\": 4393,\n",
      "      \"missing_count\": null,\n",
      "      \"missing_percent\": null,\n",
      "      \"details\": {\n",
      "        \"success_details\": [\n",
      "          false,\n",
      "          false,\n",
      "          false,\n",
      "          false\n",
      "        ]\n",
      "      }\n",
      "    },\n",
      "    \"exception_info\": {\n",
      "      \"raised_exception\": false,\n",
      "      \"exception_message\": null,\n",
      "      \"exception_traceback\": null\n",
      "    },\n",
      "    \"expectation_config\": {\n",
      "      \"expectation_type\": \"expect_column_quantile_values_to_be_between\",\n",
      "      \"meta\": {},\n",
      "      \"kwargs\": {\n",
      "        \"column\": \"avg_fare\",\n",
      "        \"quantile_ranges\": {\n",
      "          \"quantiles\": [\n",
      "            0.5,\n",
      "            0.75,\n",
      "            0.9,\n",
      "            0.95\n",
      "          ],\n",
      "          \"value_ranges\": [\n",
      "            [\n",
      "              null,\n",
      "              16.4\n",
      "            ],\n",
      "            [\n",
      "              null,\n",
      "              26.229166666666668\n",
      "            ],\n",
      "            [\n",
      "              null,\n",
      "              36.4375\n",
      "            ],\n",
      "            [\n",
      "              null,\n",
      "              42.0\n",
      "            ]\n",
      "          ]\n",
      "        },\n",
      "        \"result_format\": \"COMPLETE\"\n",
      "      }\n",
      "    },\n",
      "    \"success\": false\n",
      "  }\n",
      "]\n"
     ]
    }
   ],
   "source": [
    "try:\n",
    "    df = job.to_df(validation_reference=validation_reference)\n",
    "except ValidationFailed as exc:\n",
    "    print('validation failed\\n', exc.validation_report)"
   ]
  },
  {
   "cell_type": "markdown",
   "id": "16302390-d2da-4bc0-ba1c-a47111dfb2e2",
   "metadata": {},
   "source": [
    "# END"
   ]
  }
 ],
 "metadata": {
  "kernelspec": {
   "display_name": "Python 3 (ipykernel)",
   "language": "python",
   "name": "python3"
  },
  "language_info": {
   "codemirror_mode": {
    "name": "ipython",
    "version": 3
   },
   "file_extension": ".py",
   "mimetype": "text/x-python",
   "name": "python",
   "nbconvert_exporter": "python",
   "pygments_lexer": "ipython3",
   "version": "3.8.14"
  }
 },
 "nbformat": 4,
 "nbformat_minor": 5
}
