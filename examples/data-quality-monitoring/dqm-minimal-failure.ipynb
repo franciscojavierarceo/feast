{
 "cells": [
  {
   "cell_type": "code",
   "execution_count": 1,
   "id": "6c2bd159-b8a0-4ce2-92e3-3111a847e136",
   "metadata": {},
   "outputs": [
    {
     "name": "stdout",
     "output_type": "stream",
     "text": [
      "\n",
      "Creating a new Feast repository in \u001b[1m\u001b[32m/Users/franciscojavierarceo/GitHub/feast/examples/data-quality-monitoring/dqm_repo\u001b[0m.\n",
      "\n",
      "/Users/franciscojavierarceo/GitHub/feast/examples/data-quality-monitoring/dqm_repo/feature_repo\n"
     ]
    }
   ],
   "source": [
    "!rm -rf dqm_repo\n",
    "!feast init dqm_repo\n",
    "%cd dqm_repo/feature_repo/"
   ]
  },
  {
   "cell_type": "code",
   "execution_count": 2,
   "id": "4f629a81-cd05-40b6-9b7b-a31516863ac3",
   "metadata": {},
   "outputs": [],
   "source": [
    "import warnings\n",
    "import pandas as pd\n",
    "from IPython.display import display\n",
    "\n",
    "warnings.filterwarnings('ignore')"
   ]
  },
  {
   "cell_type": "code",
   "execution_count": 3,
   "id": "c8ddad2d-0440-43f8-8cc1-bcc0a8736f3d",
   "metadata": {},
   "outputs": [
    {
     "data": {
      "text/html": [
       "<div>\n",
       "<style scoped>\n",
       "    .dataframe tbody tr th:only-of-type {\n",
       "        vertical-align: middle;\n",
       "    }\n",
       "\n",
       "    .dataframe tbody tr th {\n",
       "        vertical-align: top;\n",
       "    }\n",
       "\n",
       "    .dataframe thead th {\n",
       "        text-align: right;\n",
       "    }\n",
       "</style>\n",
       "<table border=\"1\" class=\"dataframe\">\n",
       "  <thead>\n",
       "    <tr style=\"text-align: right;\">\n",
       "      <th></th>\n",
       "      <th>event_timestamp</th>\n",
       "      <th>driver_id</th>\n",
       "      <th>conv_rate</th>\n",
       "      <th>acc_rate</th>\n",
       "      <th>avg_daily_trips</th>\n",
       "      <th>created</th>\n",
       "    </tr>\n",
       "  </thead>\n",
       "  <tbody>\n",
       "    <tr>\n",
       "      <th>0</th>\n",
       "      <td>2022-09-01 09:00:00+00:00</td>\n",
       "      <td>1005</td>\n",
       "      <td>0.266191</td>\n",
       "      <td>0.970802</td>\n",
       "      <td>212</td>\n",
       "      <td>2022-09-16 09:45:47.995</td>\n",
       "    </tr>\n",
       "    <tr>\n",
       "      <th>1</th>\n",
       "      <td>2022-09-01 10:00:00+00:00</td>\n",
       "      <td>1005</td>\n",
       "      <td>0.936703</td>\n",
       "      <td>0.259681</td>\n",
       "      <td>753</td>\n",
       "      <td>2022-09-16 09:45:47.995</td>\n",
       "    </tr>\n",
       "    <tr>\n",
       "      <th>2</th>\n",
       "      <td>2022-09-01 11:00:00+00:00</td>\n",
       "      <td>1005</td>\n",
       "      <td>0.697647</td>\n",
       "      <td>0.878257</td>\n",
       "      <td>422</td>\n",
       "      <td>2022-09-16 09:45:47.995</td>\n",
       "    </tr>\n",
       "    <tr>\n",
       "      <th>3</th>\n",
       "      <td>2022-09-01 12:00:00+00:00</td>\n",
       "      <td>1005</td>\n",
       "      <td>0.812464</td>\n",
       "      <td>0.142667</td>\n",
       "      <td>451</td>\n",
       "      <td>2022-09-16 09:45:47.995</td>\n",
       "    </tr>\n",
       "    <tr>\n",
       "      <th>4</th>\n",
       "      <td>2022-09-01 13:00:00+00:00</td>\n",
       "      <td>1005</td>\n",
       "      <td>0.452546</td>\n",
       "      <td>0.485283</td>\n",
       "      <td>404</td>\n",
       "      <td>2022-09-16 09:45:47.995</td>\n",
       "    </tr>\n",
       "  </tbody>\n",
       "</table>\n",
       "</div>"
      ],
      "text/plain": [
       "            event_timestamp  driver_id  conv_rate  acc_rate  avg_daily_trips  \\\n",
       "0 2022-09-01 09:00:00+00:00       1005   0.266191  0.970802              212   \n",
       "1 2022-09-01 10:00:00+00:00       1005   0.936703  0.259681              753   \n",
       "2 2022-09-01 11:00:00+00:00       1005   0.697647  0.878257              422   \n",
       "3 2022-09-01 12:00:00+00:00       1005   0.812464  0.142667              451   \n",
       "4 2022-09-01 13:00:00+00:00       1005   0.452546  0.485283              404   \n",
       "\n",
       "                  created  \n",
       "0 2022-09-16 09:45:47.995  \n",
       "1 2022-09-16 09:45:47.995  \n",
       "2 2022-09-16 09:45:47.995  \n",
       "3 2022-09-16 09:45:47.995  \n",
       "4 2022-09-16 09:45:47.995  "
      ]
     },
     "metadata": {},
     "output_type": "display_data"
    }
   ],
   "source": [
    "display(pd.read_parquet(\"data/driver_stats.parquet\").head())"
   ]
  },
  {
   "cell_type": "code",
   "execution_count": 4,
   "id": "ccec02a4-758a-41f4-9dd7-cf79e6be162a",
   "metadata": {},
   "outputs": [
    {
     "name": "stdout",
     "output_type": "stream",
     "text": [
      "/Users/franciscojavierarceo/GitHub/feast/sdk/python/feast/feature_store.py:562: RuntimeWarning: On demand feature view is an experimental feature. This API is stable, but the functionality does not scale well for offline retrieval\n",
      "  warnings.warn(\n",
      "Created entity \u001b[1m\u001b[32mdriver\u001b[0m\n",
      "Created feature view \u001b[1m\u001b[32mdriver_hourly_stats_fresh\u001b[0m\n",
      "Created feature view \u001b[1m\u001b[32mdriver_hourly_stats\u001b[0m\n",
      "Created on demand feature view \u001b[1m\u001b[32mtransformed_conv_rate\u001b[0m\n",
      "Created on demand feature view \u001b[1m\u001b[32mtransformed_conv_rate_fresh\u001b[0m\n",
      "Created feature service \u001b[1m\u001b[32mdriver_activity_v2\u001b[0m\n",
      "Created feature service \u001b[1m\u001b[32mdriver_activity_v3\u001b[0m\n",
      "Created feature service \u001b[1m\u001b[32mdriver_activity_v1\u001b[0m\n",
      "\n",
      "Created sqlite table \u001b[1m\u001b[32mdqm_repo_driver_hourly_stats_fresh\u001b[0m\n",
      "Created sqlite table \u001b[1m\u001b[32mdqm_repo_driver_hourly_stats\u001b[0m\n",
      "\n"
     ]
    }
   ],
   "source": [
    "!feast apply"
   ]
  },
  {
   "cell_type": "code",
   "execution_count": 5,
   "id": "d7e31c15-396f-46df-9d53-57bcb305878a",
   "metadata": {},
   "outputs": [
    {
     "name": "stderr",
     "output_type": "stream",
     "text": [
      "/Users/franciscojavierarceo/GitHub/feast/venv/lib/python3.8/site-packages/botocore/httpsession.py:28: DeprecationWarning: 'urllib3.contrib.pyopenssl' module is deprecated and will be removed in a future release of urllib3 2.x. Read more in this issue: https://github.com/urllib3/urllib3/issues/2680\n",
      "  from urllib3.contrib.pyopenssl import orig_util_SSLContext as SSLContext\n"
     ]
    }
   ],
   "source": [
    "from datetime import datetime, timedelta\n",
    "import pandas as pd\n",
    "\n",
    "from feast import FeatureStore\n",
    "from feast.infra.offline_stores.file_source import SavedDatasetFileStorage\n",
    "from feast.dqm.profilers.ge_profiler import ge_profiler\n",
    "from great_expectations.dataset import PandasDataset\n",
    "from great_expectations.core.expectation_suite import ExpectationSuite\n",
    "\n",
    "# The entity dataframe is the dataframe we want to enrich with feature values\n",
    "entity_df = pd.DataFrame.from_dict(\n",
    "    {\n",
    "        \"driver_id\": [1001, 1002, 1003],\n",
    "        \"label_driver_reported_satisfaction\": [1, 5, 3], \n",
    "        \"event_timestamp\": [\n",
    "            datetime.now() - timedelta(minutes=11),\n",
    "            datetime.now() - timedelta(minutes=36),\n",
    "            datetime.now() - timedelta(minutes=73),\n",
    "        ],\n",
    "    }\n",
    ")\n",
    "\n",
    "store = FeatureStore(repo_path=\".\")\n",
    "\n",
    "training_data_job = store.get_historical_features(\n",
    "    entity_df=entity_df,\n",
    "    features=[\n",
    "        \"driver_hourly_stats:conv_rate\",\n",
    "        \"driver_hourly_stats:acc_rate\",\n",
    "        \"driver_hourly_stats:avg_daily_trips\",\n",
    "    ], \n",
    ")"
   ]
  },
  {
   "cell_type": "code",
   "execution_count": 6,
   "id": "1f5345c5-5410-4ae3-8fc6-46440bb8a61b",
   "metadata": {},
   "outputs": [
    {
     "name": "stdout",
     "output_type": "stream",
     "text": [
      "{\n",
      "  \"spec\": {\n",
      "    \"name\": \"saved_reference_dataset\",\n",
      "    \"features\": [\n",
      "      \"driver_hourly_stats:conv_rate\",\n",
      "      \"driver_hourly_stats:acc_rate\",\n",
      "      \"driver_hourly_stats:avg_daily_trips\"\n",
      "    ],\n",
      "    \"joinKeys\": [\n",
      "      \"driver_id\",\n",
      "      \"label_driver_reported_satisfaction\"\n",
      "    ],\n",
      "    \"storage\": {\n",
      "      \"fileStorage\": {\n",
      "        \"fileFormat\": {\n",
      "          \"parquetFormat\": {}\n",
      "        },\n",
      "        \"uri\": \"data/saved_reference_dataset.parquet\"\n",
      "      }\n",
      "    }\n",
      "  },\n",
      "  \"meta\": {\n",
      "    \"createdTimestamp\": \"2022-09-16T15:46:34.876586Z\",\n",
      "    \"minEventTimestamp\": \"2022-09-16T08:33:34.725403Z\",\n",
      "    \"maxEventTimestamp\": \"2022-09-16T09:35:34.725392Z\"\n",
      "  }\n",
      "}\n"
     ]
    },
    {
     "name": "stderr",
     "output_type": "stream",
     "text": [
      "/Users/franciscojavierarceo/GitHub/feast/sdk/python/feast/feature_store.py:1180: RuntimeWarning: Saving dataset is an experimental feature. This API is unstable and it could and most probably will be changed in the future. We do not guarantee that future changes will maintain backward compatibility.\n",
      "  warnings.warn(\n"
     ]
    }
   ],
   "source": [
    "reference_dataset = store.create_saved_dataset(\n",
    "    from_=training_data_job,\n",
    "    name=\"saved_reference_dataset\",\n",
    "    storage=SavedDatasetFileStorage(path='data/saved_reference_dataset.parquet')\n",
    ")\n",
    "\n",
    "print(reference_dataset)"
   ]
  },
  {
   "cell_type": "code",
   "execution_count": 7,
   "id": "903f06a2-0c60-4d18-b759-68d1e02ab8ee",
   "metadata": {},
   "outputs": [
    {
     "name": "stderr",
     "output_type": "stream",
     "text": [
      "/Users/franciscojavierarceo/GitHub/feast/sdk/python/feast/feature_store.py:1233: RuntimeWarning: Retrieving datasets is an experimental feature. This API is unstable and it could and most probably will be changed in the future. We do not guarantee that future changes will maintain backward compatibility.\n",
      "  warnings.warn(\n"
     ]
    }
   ],
   "source": [
    "# This should pass\n",
    "@ge_profiler\n",
    "def user_features_profiler(dataset: PandasDataset) -> ExpectationSuite:\n",
    "    # print(dataset.columns)\n",
    "    dataset.expect_column_to_exist(\"driver_id\")\n",
    "    dataset.expect_column_values_to_be_between(\"avg_daily_trips\", 0, 1000)\n",
    "    dataset.expect_column_values_to_be_between(\"conv_rate\", 0, 1)\n",
    "    dataset.expect_column_values_to_be_between(\"acc_rate\", 0, 1)\n",
    "    return dataset.get_expectation_suite()\n",
    "\n",
    "# This should fail\n",
    "@ge_profiler\n",
    "def user_features_profiler_fail(dataset: PandasDataset) -> ExpectationSuite:\n",
    "    # print(dataset.columns)\n",
    "    dataset.expect_column_to_exist(\"something_random\")\n",
    "    return dataset.get_expectation_suite()\n",
    "\n",
    "# This should be mixed\n",
    "@ge_profiler\n",
    "def user_features_profiler_partialfail(dataset: PandasDataset) -> ExpectationSuite:\n",
    "    # print(dataset.columns)\n",
    "    dataset.expect_column_to_exist(\"something_random\")\n",
    "    dataset.expect_column_to_exist(\"driver_id\")\n",
    "    return dataset.get_expectation_suite()\n",
    "\n",
    "ds = store.get_saved_dataset('saved_reference_dataset')\n",
    "validation_reference = ds.as_reference(name='user_features_profiler', profiler=user_features_profiler)\n",
    "validation_reference_fail = ds.as_reference(name='user_features_profiler_fail', profiler=user_features_profiler_fail)\n",
    "validation_reference_partialfail = ds.as_reference(name='user_features_profiler_fail', profiler=user_features_profiler_partialfail)"
   ]
  },
  {
   "cell_type": "code",
   "execution_count": 8,
   "id": "83cf3b81-157d-4d22-bd52-d5718a0e1bb0",
   "metadata": {},
   "outputs": [
    {
     "name": "stdout",
     "output_type": "stream",
     "text": [
      "\n",
      "***this profiler has 4 items***\n",
      "\n",
      "<GEProfile with expectations: [\n",
      "  {\n",
      "    \"meta\": {},\n",
      "    \"kwargs\": {\n",
      "      \"column\": \"driver_id\"\n",
      "    },\n",
      "    \"expectation_type\": \"expect_column_to_exist\"\n",
      "  },\n",
      "  {\n",
      "    \"meta\": {},\n",
      "    \"kwargs\": {\n",
      "      \"column\": \"avg_daily_trips\",\n",
      "      \"min_value\": 0,\n",
      "      \"max_value\": 1000\n",
      "    },\n",
      "    \"expectation_type\": \"expect_column_values_to_be_between\"\n",
      "  },\n",
      "  {\n",
      "    \"meta\": {},\n",
      "    \"kwargs\": {\n",
      "      \"column\": \"conv_rate\",\n",
      "      \"min_value\": 0,\n",
      "      \"max_value\": 1\n",
      "    },\n",
      "    \"expectation_type\": \"expect_column_values_to_be_between\"\n",
      "  },\n",
      "  {\n",
      "    \"meta\": {},\n",
      "    \"kwargs\": {\n",
      "      \"column\": \"acc_rate\",\n",
      "      \"min_value\": 0,\n",
      "      \"max_value\": 1\n",
      "    },\n",
      "    \"expectation_type\": \"expect_column_values_to_be_between\"\n",
      "  }\n",
      "]>\n"
     ]
    }
   ],
   "source": [
    "# This profiler yields 4 items\n",
    "print(f\"\\n***this profiler has {len(ds.get_profile(profiler=user_features_profiler).expectation_suite['expectations'])} items***\\n\")\n",
    "\n",
    "print(ds.get_profile(profiler=user_features_profiler))"
   ]
  },
  {
   "cell_type": "code",
   "execution_count": 9,
   "id": "56e56ad3-3b6b-4f1f-ad0c-03f81a873a3d",
   "metadata": {},
   "outputs": [
    {
     "name": "stdout",
     "output_type": "stream",
     "text": [
      "\n",
      "***this profiler has 0 items***\n",
      "\n",
      "<GEProfile with expectations: []>\n"
     ]
    }
   ],
   "source": [
    "ds.get_profile(profiler=user_features_profiler_fail)\n",
    "# This profiler yields 0 items\n",
    "print(f\"\\n***this profiler has {len(ds.get_profile(profiler=user_features_profiler_fail).expectation_suite['expectations'])} items***\\n\")\n",
    "\n",
    "print(ds.get_profile(profiler=user_features_profiler_fail))"
   ]
  },
  {
   "cell_type": "code",
   "execution_count": 11,
   "id": "e22e1afe-1fdc-4ee2-b9de-ac3355aeb7bd",
   "metadata": {},
   "outputs": [
    {
     "name": "stdout",
     "output_type": "stream",
     "text": [
      "\n",
      "***this profiler has 1 items***\n",
      "\n",
      "<GEProfile with expectations: [\n",
      "  {\n",
      "    \"meta\": {},\n",
      "    \"kwargs\": {\n",
      "      \"column\": \"driver_id\"\n",
      "    },\n",
      "    \"expectation_type\": \"expect_column_to_exist\"\n",
      "  }\n",
      "]>\n"
     ]
    }
   ],
   "source": [
    "# This profiler yields 1 item\n",
    "print(f\"\\n***this profiler has {len(ds.get_profile(profiler=user_features_profiler_partialfail).expectation_suite['expectations'])} items***\\n\")\n",
    "\n",
    "print(ds.get_profile(profiler=user_features_profiler_partialfail))"
   ]
  },
  {
   "cell_type": "markdown",
   "id": "d1e6eeef-0fbb-403b-acdf-704d39ac0b7c",
   "metadata": {},
   "source": [
    "# Let's try to build the data"
   ]
  },
  {
   "cell_type": "code",
   "execution_count": 12,
   "id": "810cdad1-4d09-4ea8-9791-84b6440e4eb4",
   "metadata": {},
   "outputs": [
    {
     "name": "stderr",
     "output_type": "stream",
     "text": [
      "/Users/franciscojavierarceo/GitHub/feast/sdk/python/feast/feature_store.py:1233: RuntimeWarning: Retrieving datasets is an experimental feature. This API is unstable and it could and most probably will be changed in the future. We do not guarantee that future changes will maintain backward compatibility.\n",
      "  warnings.warn(\n",
      "/Users/franciscojavierarceo/GitHub/feast/sdk/python/feast/infra/offline_stores/offline_store.py:90: RuntimeWarning: Dataset validation is an experimental feature. This API is unstable and it could and most probably will be changed in the future. We do not guarantee that future changes will maintain backward compatibility.\n",
      "  warnings.warn(\n"
     ]
    },
    {
     "data": {
      "text/html": [
       "<div>\n",
       "<style scoped>\n",
       "    .dataframe tbody tr th:only-of-type {\n",
       "        vertical-align: middle;\n",
       "    }\n",
       "\n",
       "    .dataframe tbody tr th {\n",
       "        vertical-align: top;\n",
       "    }\n",
       "\n",
       "    .dataframe thead th {\n",
       "        text-align: right;\n",
       "    }\n",
       "</style>\n",
       "<table border=\"1\" class=\"dataframe\">\n",
       "  <thead>\n",
       "    <tr style=\"text-align: right;\">\n",
       "      <th></th>\n",
       "      <th>driver_id</th>\n",
       "      <th>label_driver_reported_satisfaction</th>\n",
       "      <th>event_timestamp</th>\n",
       "      <th>conv_rate</th>\n",
       "      <th>acc_rate</th>\n",
       "      <th>avg_daily_trips</th>\n",
       "    </tr>\n",
       "  </thead>\n",
       "  <tbody>\n",
       "    <tr>\n",
       "      <th>0</th>\n",
       "      <td>1002</td>\n",
       "      <td>5</td>\n",
       "      <td>2022-09-16 09:10:34.725401+00:00</td>\n",
       "      <td>0.304093</td>\n",
       "      <td>0.241745</td>\n",
       "      <td>275</td>\n",
       "    </tr>\n",
       "    <tr>\n",
       "      <th>1</th>\n",
       "      <td>1001</td>\n",
       "      <td>1</td>\n",
       "      <td>2022-09-16 09:35:34.725392+00:00</td>\n",
       "      <td>0.541217</td>\n",
       "      <td>0.849682</td>\n",
       "      <td>610</td>\n",
       "    </tr>\n",
       "    <tr>\n",
       "      <th>2</th>\n",
       "      <td>1003</td>\n",
       "      <td>3</td>\n",
       "      <td>2022-09-16 08:33:34.725403+00:00</td>\n",
       "      <td>0.403135</td>\n",
       "      <td>0.962808</td>\n",
       "      <td>471</td>\n",
       "    </tr>\n",
       "  </tbody>\n",
       "</table>\n",
       "</div>"
      ],
      "text/plain": [
       "   driver_id  label_driver_reported_satisfaction  \\\n",
       "0       1002                                   5   \n",
       "1       1001                                   1   \n",
       "2       1003                                   3   \n",
       "\n",
       "                   event_timestamp  conv_rate  acc_rate  avg_daily_trips  \n",
       "0 2022-09-16 09:10:34.725401+00:00   0.304093  0.241745              275  \n",
       "1 2022-09-16 09:35:34.725392+00:00   0.541217  0.849682              610  \n",
       "2 2022-09-16 08:33:34.725403+00:00   0.403135  0.962808              471  "
      ]
     },
     "metadata": {},
     "output_type": "display_data"
    }
   ],
   "source": [
    "# This validation should pass\n",
    "\n",
    "new_data = training_data_job.to_df(\n",
    "    validation_reference=store.get_saved_dataset(\"saved_reference_dataset\").as_reference(\n",
    "        name='test', \n",
    "        profiler=user_features_profiler\n",
    "    ),\n",
    ")\n",
    "display(new_data)"
   ]
  },
  {
   "cell_type": "code",
   "execution_count": 13,
   "id": "b4f29b88-42cc-4cd3-8eb6-e4827599785f",
   "metadata": {},
   "outputs": [
    {
     "name": "stderr",
     "output_type": "stream",
     "text": [
      "/Users/franciscojavierarceo/GitHub/feast/sdk/python/feast/feature_store.py:1233: RuntimeWarning: Retrieving datasets is an experimental feature. This API is unstable and it could and most probably will be changed in the future. We do not guarantee that future changes will maintain backward compatibility.\n",
      "  warnings.warn(\n",
      "/Users/franciscojavierarceo/GitHub/feast/sdk/python/feast/infra/offline_stores/offline_store.py:90: RuntimeWarning: Dataset validation is an experimental feature. This API is unstable and it could and most probably will be changed in the future. We do not guarantee that future changes will maintain backward compatibility.\n",
      "  warnings.warn(\n"
     ]
    },
    {
     "data": {
      "text/html": [
       "<div>\n",
       "<style scoped>\n",
       "    .dataframe tbody tr th:only-of-type {\n",
       "        vertical-align: middle;\n",
       "    }\n",
       "\n",
       "    .dataframe tbody tr th {\n",
       "        vertical-align: top;\n",
       "    }\n",
       "\n",
       "    .dataframe thead th {\n",
       "        text-align: right;\n",
       "    }\n",
       "</style>\n",
       "<table border=\"1\" class=\"dataframe\">\n",
       "  <thead>\n",
       "    <tr style=\"text-align: right;\">\n",
       "      <th></th>\n",
       "      <th>driver_id</th>\n",
       "      <th>label_driver_reported_satisfaction</th>\n",
       "      <th>event_timestamp</th>\n",
       "      <th>conv_rate</th>\n",
       "      <th>acc_rate</th>\n",
       "      <th>avg_daily_trips</th>\n",
       "    </tr>\n",
       "  </thead>\n",
       "  <tbody>\n",
       "    <tr>\n",
       "      <th>0</th>\n",
       "      <td>1002</td>\n",
       "      <td>5</td>\n",
       "      <td>2022-09-16 09:10:34.725401+00:00</td>\n",
       "      <td>0.304093</td>\n",
       "      <td>0.241745</td>\n",
       "      <td>275</td>\n",
       "    </tr>\n",
       "    <tr>\n",
       "      <th>1</th>\n",
       "      <td>1001</td>\n",
       "      <td>1</td>\n",
       "      <td>2022-09-16 09:35:34.725392+00:00</td>\n",
       "      <td>0.541217</td>\n",
       "      <td>0.849682</td>\n",
       "      <td>610</td>\n",
       "    </tr>\n",
       "    <tr>\n",
       "      <th>2</th>\n",
       "      <td>1003</td>\n",
       "      <td>3</td>\n",
       "      <td>2022-09-16 08:33:34.725403+00:00</td>\n",
       "      <td>0.403135</td>\n",
       "      <td>0.962808</td>\n",
       "      <td>471</td>\n",
       "    </tr>\n",
       "  </tbody>\n",
       "</table>\n",
       "</div>"
      ],
      "text/plain": [
       "   driver_id  label_driver_reported_satisfaction  \\\n",
       "0       1002                                   5   \n",
       "1       1001                                   1   \n",
       "2       1003                                   3   \n",
       "\n",
       "                   event_timestamp  conv_rate  acc_rate  avg_daily_trips  \n",
       "0 2022-09-16 09:10:34.725401+00:00   0.304093  0.241745              275  \n",
       "1 2022-09-16 09:35:34.725392+00:00   0.541217  0.849682              610  \n",
       "2 2022-09-16 08:33:34.725403+00:00   0.403135  0.962808              471  "
      ]
     },
     "metadata": {},
     "output_type": "display_data"
    }
   ],
   "source": [
    "# This validation should fail\n",
    "\n",
    "new_data_fail = training_data_job.to_df(\n",
    "    validation_reference=store.get_saved_dataset(\"saved_reference_dataset\").as_reference(\n",
    "        name='test_fail', \n",
    "        profiler=user_features_profiler_fail\n",
    "    ),\n",
    ")\n",
    "display(new_data_fail)"
   ]
  },
  {
   "cell_type": "code",
   "execution_count": 14,
   "id": "d53cff57-8a7e-426d-abef-2a7fcd321344",
   "metadata": {},
   "outputs": [
    {
     "name": "stderr",
     "output_type": "stream",
     "text": [
      "/Users/franciscojavierarceo/GitHub/feast/sdk/python/feast/feature_store.py:1233: RuntimeWarning: Retrieving datasets is an experimental feature. This API is unstable and it could and most probably will be changed in the future. We do not guarantee that future changes will maintain backward compatibility.\n",
      "  warnings.warn(\n",
      "/Users/franciscojavierarceo/GitHub/feast/sdk/python/feast/infra/offline_stores/offline_store.py:90: RuntimeWarning: Dataset validation is an experimental feature. This API is unstable and it could and most probably will be changed in the future. We do not guarantee that future changes will maintain backward compatibility.\n",
      "  warnings.warn(\n"
     ]
    },
    {
     "data": {
      "text/html": [
       "<div>\n",
       "<style scoped>\n",
       "    .dataframe tbody tr th:only-of-type {\n",
       "        vertical-align: middle;\n",
       "    }\n",
       "\n",
       "    .dataframe tbody tr th {\n",
       "        vertical-align: top;\n",
       "    }\n",
       "\n",
       "    .dataframe thead th {\n",
       "        text-align: right;\n",
       "    }\n",
       "</style>\n",
       "<table border=\"1\" class=\"dataframe\">\n",
       "  <thead>\n",
       "    <tr style=\"text-align: right;\">\n",
       "      <th></th>\n",
       "      <th>driver_id</th>\n",
       "      <th>label_driver_reported_satisfaction</th>\n",
       "      <th>event_timestamp</th>\n",
       "      <th>conv_rate</th>\n",
       "      <th>acc_rate</th>\n",
       "      <th>avg_daily_trips</th>\n",
       "    </tr>\n",
       "  </thead>\n",
       "  <tbody>\n",
       "    <tr>\n",
       "      <th>0</th>\n",
       "      <td>1002</td>\n",
       "      <td>5</td>\n",
       "      <td>2022-09-16 09:10:34.725401+00:00</td>\n",
       "      <td>0.304093</td>\n",
       "      <td>0.241745</td>\n",
       "      <td>275</td>\n",
       "    </tr>\n",
       "    <tr>\n",
       "      <th>1</th>\n",
       "      <td>1001</td>\n",
       "      <td>1</td>\n",
       "      <td>2022-09-16 09:35:34.725392+00:00</td>\n",
       "      <td>0.541217</td>\n",
       "      <td>0.849682</td>\n",
       "      <td>610</td>\n",
       "    </tr>\n",
       "    <tr>\n",
       "      <th>2</th>\n",
       "      <td>1003</td>\n",
       "      <td>3</td>\n",
       "      <td>2022-09-16 08:33:34.725403+00:00</td>\n",
       "      <td>0.403135</td>\n",
       "      <td>0.962808</td>\n",
       "      <td>471</td>\n",
       "    </tr>\n",
       "  </tbody>\n",
       "</table>\n",
       "</div>"
      ],
      "text/plain": [
       "   driver_id  label_driver_reported_satisfaction  \\\n",
       "0       1002                                   5   \n",
       "1       1001                                   1   \n",
       "2       1003                                   3   \n",
       "\n",
       "                   event_timestamp  conv_rate  acc_rate  avg_daily_trips  \n",
       "0 2022-09-16 09:10:34.725401+00:00   0.304093  0.241745              275  \n",
       "1 2022-09-16 09:35:34.725392+00:00   0.541217  0.849682              610  \n",
       "2 2022-09-16 08:33:34.725403+00:00   0.403135  0.962808              471  "
      ]
     },
     "metadata": {},
     "output_type": "display_data"
    }
   ],
   "source": [
    "# This validation should partially fail\n",
    "\n",
    "new_data_partialfail = training_data_job.to_df(\n",
    "    validation_reference=store.get_saved_dataset(\"saved_reference_dataset\").as_reference(\n",
    "        name='test_partialfail', \n",
    "        profiler=user_features_profiler_partialfail\n",
    "    ),\n",
    ")\n",
    "display(new_data_partialfail)"
   ]
  },
  {
   "cell_type": "markdown",
   "id": "0eaa28e8-e42f-4dcb-b967-60aee63f2903",
   "metadata": {},
   "source": [
    "# END"
   ]
  }
 ],
 "metadata": {
  "kernelspec": {
   "display_name": "Python 3 (ipykernel)",
   "language": "python",
   "name": "python3"
  },
  "language_info": {
   "codemirror_mode": {
    "name": "ipython",
    "version": 3
   },
   "file_extension": ".py",
   "mimetype": "text/x-python",
   "name": "python",
   "nbconvert_exporter": "python",
   "pygments_lexer": "ipython3",
   "version": "3.8.13"
  }
 },
 "nbformat": 4,
 "nbformat_minor": 5
}
