{
 "cells": [
  {
   "cell_type": "code",
   "execution_count": null,
   "id": "6c2bd159-b8a0-4ce2-92e3-3111a847e136",
   "metadata": {},
   "outputs": [
    {
     "name": "stdout",
     "output_type": "stream",
     "text": [
      "/Users/franciscojavierarceo/GitHub/feast/venv/lib/python3.8/site-packages/pkg_resources/_vendor/packaging/specifiers.py:255: DeprecationWarning: Creating a LegacyVersion has been deprecated and will be removed in the next major release\n",
      "  warnings.warn(\n",
      "/Users/franciscojavierarceo/GitHub/feast/venv/lib/python3.8/site-packages/pkg_resources/_vendor/packaging/version.py:111: DeprecationWarning: Creating a LegacyVersion has been deprecated and will be removed in the next major release\n",
      "  warnings.warn(\n",
      "\n",
      "Creating a new Feast repository in \u001b[1m\u001b[32m/Users/franciscojavierarceo/GitHub/feast/examples/data-quality-monitoring/dqm_repo\u001b[0m.\n",
      "\n"
     ]
    }
   ],
   "source": [
    "!rm -rf dqm_repo\n",
    "!feast init dqm_repo\n",
    "%cd dqm_repo"
   ]
  },
  {
   "cell_type": "code",
   "execution_count": null,
   "id": "c8ddad2d-0440-43f8-8cc1-bcc0a8736f3d",
   "metadata": {},
   "outputs": [],
   "source": [
    "import pandas as pd\n",
    "\n",
    "pd.read_parquet(\"data/driver_stats.parquet\")"
   ]
  },
  {
   "cell_type": "code",
   "execution_count": null,
   "id": "ccec02a4-758a-41f4-9dd7-cf79e6be162a",
   "metadata": {},
   "outputs": [],
   "source": [
    "!feast apply"
   ]
  },
  {
   "cell_type": "code",
   "execution_count": null,
   "id": "d7e31c15-396f-46df-9d53-57bcb305878a",
   "metadata": {},
   "outputs": [],
   "source": [
    "from datetime import datetime, timedelta\n",
    "import pandas as pd\n",
    "\n",
    "from feast import FeatureStore\n",
    "from feast.infra.offline_stores.file_source import SavedDatasetFileStorage\n",
    "from feast.dqm.profilers.ge_profiler import ge_profiler\n",
    "from great_expectations.dataset import PandasDataset\n",
    "from great_expectations.core.expectation_suite import ExpectationSuite\n",
    "\n",
    "# The entity dataframe is the dataframe we want to enrich with feature values\n",
    "entity_df = pd.DataFrame.from_dict(\n",
    "    {\n",
    "        \"driver_id\": [1001, 1002, 1003],\n",
    "        \"label_driver_reported_satisfaction\": [1, 5, 3], \n",
    "        \"event_timestamp\": [\n",
    "            datetime.now() - timedelta(minutes=11),\n",
    "            datetime.now() - timedelta(minutes=36),\n",
    "            datetime.now() - timedelta(minutes=73),\n",
    "        ],\n",
    "    }\n",
    ")\n",
    "\n",
    "store = FeatureStore(repo_path=\".\")\n",
    "\n",
    "training_data_job = store.get_historical_features(\n",
    "    entity_df=entity_df,\n",
    "    features=[\n",
    "        \"driver_hourly_stats:conv_rate\",\n",
    "        \"driver_hourly_stats:acc_rate\",\n",
    "        \"driver_hourly_stats:avg_daily_trips\",\n",
    "    ],\n",
    ")"
   ]
  },
  {
   "cell_type": "code",
   "execution_count": null,
   "id": "48117c04-5601-4807-8ebe-dbedddd8c68f",
   "metadata": {},
   "outputs": [],
   "source": [
    "training_data_job.to_df()"
   ]
  },
  {
   "cell_type": "code",
   "execution_count": null,
   "id": "1f5345c5-5410-4ae3-8fc6-46440bb8a61b",
   "metadata": {},
   "outputs": [],
   "source": [
    "reference_dataset = store.create_saved_dataset(\n",
    "    from_=training_data_job,\n",
    "    name=\"reference_dataset\",\n",
    "    storage=SavedDatasetFileStorage(path='data/driver_stats.parquet')\n",
    ")\n",
    "\n",
    "print(reference_dataset)"
   ]
  },
  {
   "cell_type": "code",
   "execution_count": null,
   "id": "903f06a2-0c60-4d18-b759-68d1e02ab8ee",
   "metadata": {},
   "outputs": [],
   "source": [
    "@ge_profiler\n",
    "def user_features_profiler(dataset: PandasDataset) -> ExpectationSuite:\n",
    "    print(dataset.columns)\n",
    "    dataset.expect_column_to_exist(\"driver_id\")\n",
    "    dataset.expect_column_values_to_be_between(\"driver_hourly_stats__avg_daily_trips\", 0, 1000)\n",
    "    dataset.expect_column_values_to_be_between(\"driver_hourly_stats__conv_rate\", 0, 1)\n",
    "    dataset.expect_column_values_to_be_between(\"driver_hourly_stats__acc_rate\", 0, 1)\n",
    "    return dataset.get_expectation_suite()\n",
    "\n",
    "ds = store.get_saved_dataset('reference_dataset')"
   ]
  },
  {
   "cell_type": "code",
   "execution_count": null,
   "id": "2ac4c831-34e1-4426-bbf0-d82fdc6d5276",
   "metadata": {},
   "outputs": [],
   "source": [
    "validation_reference = ds.as_reference(name='user_features_profiler', profiler=user_features_profiler)\n",
    "_ = training_data_job.to_df(validation_reference=validation_reference)"
   ]
  },
  {
   "cell_type": "code",
   "execution_count": null,
   "id": "c5c6726b-7c4a-4efe-8bf5-00e633a6fba0",
   "metadata": {},
   "outputs": [],
   "source": [
    "training_data_job.to_df()"
   ]
  },
  {
   "cell_type": "code",
   "execution_count": null,
   "id": "b979d0bb-3acd-4c3c-95d3-57651e2cb243",
   "metadata": {},
   "outputs": [],
   "source": []
  }
 ],
 "metadata": {
  "kernelspec": {
   "display_name": "Python 3 (ipykernel)",
   "language": "python",
   "name": "python3"
  },
  "language_info": {
   "codemirror_mode": {
    "name": "ipython",
    "version": 3
   },
   "file_extension": ".py",
   "mimetype": "text/x-python",
   "name": "python",
   "nbconvert_exporter": "python",
   "pygments_lexer": "ipython3",
   "version": "3.8.13"
  }
 },
 "nbformat": 4,
 "nbformat_minor": 5
}
