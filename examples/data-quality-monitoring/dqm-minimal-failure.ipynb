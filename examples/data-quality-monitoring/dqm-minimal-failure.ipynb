{
 "cells": [
  {
   "cell_type": "code",
   "execution_count": 1,
   "id": "6c2bd159-b8a0-4ce2-92e3-3111a847e136",
   "metadata": {},
   "outputs": [
    {
     "name": "stdout",
     "output_type": "stream",
     "text": [
      "\n",
      "Creating a new Feast repository in \u001b[1m\u001b[32m/Users/franciscojavierarceo/GitHub/feast/examples/data-quality-monitoring/dqm_repo\u001b[0m.\n",
      "\n",
      "/Users/franciscojavierarceo/GitHub/feast/examples/data-quality-monitoring/dqm_repo/feature_repo\n"
     ]
    }
   ],
   "source": [
    "!rm -rf dqm_repo\n",
    "!feast init dqm_repo\n",
    "%cd dqm_repo/feature_repo/"
   ]
  },
  {
   "cell_type": "code",
   "execution_count": 2,
   "id": "c8ddad2d-0440-43f8-8cc1-bcc0a8736f3d",
   "metadata": {},
   "outputs": [
    {
     "data": {
      "text/html": [
       "<div>\n",
       "<style scoped>\n",
       "    .dataframe tbody tr th:only-of-type {\n",
       "        vertical-align: middle;\n",
       "    }\n",
       "\n",
       "    .dataframe tbody tr th {\n",
       "        vertical-align: top;\n",
       "    }\n",
       "\n",
       "    .dataframe thead th {\n",
       "        text-align: right;\n",
       "    }\n",
       "</style>\n",
       "<table border=\"1\" class=\"dataframe\">\n",
       "  <thead>\n",
       "    <tr style=\"text-align: right;\">\n",
       "      <th></th>\n",
       "      <th>event_timestamp</th>\n",
       "      <th>driver_id</th>\n",
       "      <th>conv_rate</th>\n",
       "      <th>acc_rate</th>\n",
       "      <th>avg_daily_trips</th>\n",
       "      <th>created</th>\n",
       "    </tr>\n",
       "  </thead>\n",
       "  <tbody>\n",
       "    <tr>\n",
       "      <th>0</th>\n",
       "      <td>2022-08-31 14:00:00+00:00</td>\n",
       "      <td>1005</td>\n",
       "      <td>0.938490</td>\n",
       "      <td>0.032503</td>\n",
       "      <td>371</td>\n",
       "      <td>2022-09-15 14:14:30.704</td>\n",
       "    </tr>\n",
       "    <tr>\n",
       "      <th>1</th>\n",
       "      <td>2022-08-31 15:00:00+00:00</td>\n",
       "      <td>1005</td>\n",
       "      <td>0.128320</td>\n",
       "      <td>0.361154</td>\n",
       "      <td>883</td>\n",
       "      <td>2022-09-15 14:14:30.704</td>\n",
       "    </tr>\n",
       "    <tr>\n",
       "      <th>2</th>\n",
       "      <td>2022-08-31 16:00:00+00:00</td>\n",
       "      <td>1005</td>\n",
       "      <td>0.617912</td>\n",
       "      <td>0.460527</td>\n",
       "      <td>406</td>\n",
       "      <td>2022-09-15 14:14:30.704</td>\n",
       "    </tr>\n",
       "    <tr>\n",
       "      <th>3</th>\n",
       "      <td>2022-08-31 17:00:00+00:00</td>\n",
       "      <td>1005</td>\n",
       "      <td>0.001669</td>\n",
       "      <td>0.976201</td>\n",
       "      <td>713</td>\n",
       "      <td>2022-09-15 14:14:30.704</td>\n",
       "    </tr>\n",
       "    <tr>\n",
       "      <th>4</th>\n",
       "      <td>2022-08-31 18:00:00+00:00</td>\n",
       "      <td>1005</td>\n",
       "      <td>0.063925</td>\n",
       "      <td>0.091771</td>\n",
       "      <td>860</td>\n",
       "      <td>2022-09-15 14:14:30.704</td>\n",
       "    </tr>\n",
       "  </tbody>\n",
       "</table>\n",
       "</div>"
      ],
      "text/plain": [
       "            event_timestamp  driver_id  conv_rate  acc_rate  avg_daily_trips  \\\n",
       "0 2022-08-31 14:00:00+00:00       1005   0.938490  0.032503              371   \n",
       "1 2022-08-31 15:00:00+00:00       1005   0.128320  0.361154              883   \n",
       "2 2022-08-31 16:00:00+00:00       1005   0.617912  0.460527              406   \n",
       "3 2022-08-31 17:00:00+00:00       1005   0.001669  0.976201              713   \n",
       "4 2022-08-31 18:00:00+00:00       1005   0.063925  0.091771              860   \n",
       "\n",
       "                  created  \n",
       "0 2022-09-15 14:14:30.704  \n",
       "1 2022-09-15 14:14:30.704  \n",
       "2 2022-09-15 14:14:30.704  \n",
       "3 2022-09-15 14:14:30.704  \n",
       "4 2022-09-15 14:14:30.704  "
      ]
     },
     "execution_count": 2,
     "metadata": {},
     "output_type": "execute_result"
    }
   ],
   "source": [
    "import pandas as pd\n",
    "\n",
    "pd.read_parquet(\"data/driver_stats.parquet\").head()"
   ]
  },
  {
   "cell_type": "code",
   "execution_count": null,
   "id": "ccec02a4-758a-41f4-9dd7-cf79e6be162a",
   "metadata": {},
   "outputs": [
    {
     "name": "stdout",
     "output_type": "stream",
     "text": [
      "/Users/franciscojavierarceo/GitHub/feast/sdk/python/feast/feature_store.py:562: RuntimeWarning: On demand feature view is an experimental feature. This API is stable, but the functionality does not scale well for offline retrieval\n",
      "  warnings.warn(\n",
      "Created entity \u001b[1m\u001b[32mdriver\u001b[0m\n",
      "Created feature view \u001b[1m\u001b[32mdriver_hourly_stats_fresh\u001b[0m\n",
      "Created feature view \u001b[1m\u001b[32mdriver_hourly_stats\u001b[0m\n",
      "Created on demand feature view \u001b[1m\u001b[32mtransformed_conv_rate\u001b[0m\n",
      "Created on demand feature view \u001b[1m\u001b[32mtransformed_conv_rate_fresh\u001b[0m\n",
      "Created feature service \u001b[1m\u001b[32mdriver_activity_v2\u001b[0m\n",
      "Created feature service \u001b[1m\u001b[32mdriver_activity_v1\u001b[0m\n",
      "Created feature service \u001b[1m\u001b[32mdriver_activity_v3\u001b[0m\n",
      "\n",
      "Created sqlite table \u001b[1m\u001b[32mdqm_repo_driver_hourly_stats_fresh\u001b[0m\n",
      "Created sqlite table \u001b[1m\u001b[32mdqm_repo_driver_hourly_stats\u001b[0m\n",
      "\n"
     ]
    }
   ],
   "source": [
    "!feast apply"
   ]
  },
  {
   "cell_type": "code",
   "execution_count": 4,
   "id": "d7e31c15-396f-46df-9d53-57bcb305878a",
   "metadata": {},
   "outputs": [
    {
     "name": "stderr",
     "output_type": "stream",
     "text": [
      "/Users/franciscojavierarceo/GitHub/feast/venv/lib/python3.8/site-packages/botocore/httpsession.py:28: DeprecationWarning: 'urllib3.contrib.pyopenssl' module is deprecated and will be removed in a future release of urllib3 2.x. Read more in this issue: https://github.com/urllib3/urllib3/issues/2680\n",
      "  from urllib3.contrib.pyopenssl import orig_util_SSLContext as SSLContext\n"
     ]
    }
   ],
   "source": [
    "from datetime import datetime, timedelta\n",
    "import pandas as pd\n",
    "\n",
    "from feast import FeatureStore\n",
    "from feast.infra.offline_stores.file_source import SavedDatasetFileStorage\n",
    "from feast.dqm.profilers.ge_profiler import ge_profiler\n",
    "from great_expectations.dataset import PandasDataset\n",
    "from great_expectations.core.expectation_suite import ExpectationSuite\n",
    "\n",
    "# The entity dataframe is the dataframe we want to enrich with feature values\n",
    "entity_df = pd.DataFrame.from_dict(\n",
    "    {\n",
    "        \"driver_id\": [1001, 1002, 1003],\n",
    "        \"label_driver_reported_satisfaction\": [1, 5, 3], \n",
    "        \"event_timestamp\": [\n",
    "            datetime.now() - timedelta(minutes=11),\n",
    "            datetime.now() - timedelta(minutes=36),\n",
    "            datetime.now() - timedelta(minutes=73),\n",
    "        ],\n",
    "    }\n",
    ")\n",
    "\n",
    "store = FeatureStore(repo_path=\".\")\n",
    "\n",
    "training_data_job = store.get_historical_features(\n",
    "    entity_df=entity_df,\n",
    "    features=[\n",
    "        \"driver_hourly_stats:conv_rate\",\n",
    "        \"driver_hourly_stats:acc_rate\",\n",
    "        \"driver_hourly_stats:avg_daily_trips\",\n",
    "    ], \n",
    ")"
   ]
  },
  {
   "cell_type": "code",
   "execution_count": 5,
   "id": "48117c04-5601-4807-8ebe-dbedddd8c68f",
   "metadata": {},
   "outputs": [
    {
     "data": {
      "text/html": [
       "<div>\n",
       "<style scoped>\n",
       "    .dataframe tbody tr th:only-of-type {\n",
       "        vertical-align: middle;\n",
       "    }\n",
       "\n",
       "    .dataframe tbody tr th {\n",
       "        vertical-align: top;\n",
       "    }\n",
       "\n",
       "    .dataframe thead th {\n",
       "        text-align: right;\n",
       "    }\n",
       "</style>\n",
       "<table border=\"1\" class=\"dataframe\">\n",
       "  <thead>\n",
       "    <tr style=\"text-align: right;\">\n",
       "      <th></th>\n",
       "      <th>driver_id</th>\n",
       "      <th>label_driver_reported_satisfaction</th>\n",
       "      <th>event_timestamp</th>\n",
       "      <th>conv_rate</th>\n",
       "      <th>acc_rate</th>\n",
       "      <th>avg_daily_trips</th>\n",
       "    </tr>\n",
       "  </thead>\n",
       "  <tbody>\n",
       "    <tr>\n",
       "      <th>0</th>\n",
       "      <td>1002</td>\n",
       "      <td>5</td>\n",
       "      <td>2022-09-15 13:39:22.878585+00:00</td>\n",
       "      <td>0.134408</td>\n",
       "      <td>0.616837</td>\n",
       "      <td>548</td>\n",
       "    </tr>\n",
       "    <tr>\n",
       "      <th>1</th>\n",
       "      <td>1001</td>\n",
       "      <td>1</td>\n",
       "      <td>2022-09-15 14:04:22.878576+00:00</td>\n",
       "      <td>0.939694</td>\n",
       "      <td>0.443570</td>\n",
       "      <td>415</td>\n",
       "    </tr>\n",
       "    <tr>\n",
       "      <th>2</th>\n",
       "      <td>1003</td>\n",
       "      <td>3</td>\n",
       "      <td>2022-09-15 13:02:22.878587+00:00</td>\n",
       "      <td>0.052578</td>\n",
       "      <td>0.218352</td>\n",
       "      <td>935</td>\n",
       "    </tr>\n",
       "  </tbody>\n",
       "</table>\n",
       "</div>"
      ],
      "text/plain": [
       "   driver_id  label_driver_reported_satisfaction  \\\n",
       "0       1002                                   5   \n",
       "1       1001                                   1   \n",
       "2       1003                                   3   \n",
       "\n",
       "                   event_timestamp  conv_rate  acc_rate  avg_daily_trips  \n",
       "0 2022-09-15 13:39:22.878585+00:00   0.134408  0.616837              548  \n",
       "1 2022-09-15 14:04:22.878576+00:00   0.939694  0.443570              415  \n",
       "2 2022-09-15 13:02:22.878587+00:00   0.052578  0.218352              935  "
      ]
     },
     "execution_count": 5,
     "metadata": {},
     "output_type": "execute_result"
    }
   ],
   "source": [
    "training_data_job.to_df()"
   ]
  },
  {
   "cell_type": "code",
   "execution_count": 6,
   "id": "e7375423-c079-443e-ba1c-674db2531ec8",
   "metadata": {},
   "outputs": [
    {
     "data": {
      "text/plain": [
       "<feast.infra.offline_stores.file.FileRetrievalJob at 0x133abe940>"
      ]
     },
     "execution_count": 6,
     "metadata": {},
     "output_type": "execute_result"
    }
   ],
   "source": [
    "training_data_job"
   ]
  },
  {
   "cell_type": "code",
   "execution_count": 7,
   "id": "1f5345c5-5410-4ae3-8fc6-46440bb8a61b",
   "metadata": {},
   "outputs": [
    {
     "name": "stdout",
     "output_type": "stream",
     "text": [
      "{\n",
      "  \"spec\": {\n",
      "    \"name\": \"saved_reference_dataset\",\n",
      "    \"features\": [\n",
      "      \"driver_hourly_stats:conv_rate\",\n",
      "      \"driver_hourly_stats:acc_rate\",\n",
      "      \"driver_hourly_stats:avg_daily_trips\"\n",
      "    ],\n",
      "    \"joinKeys\": [\n",
      "      \"label_driver_reported_satisfaction\",\n",
      "      \"driver_id\"\n",
      "    ],\n",
      "    \"storage\": {\n",
      "      \"fileStorage\": {\n",
      "        \"fileFormat\": {\n",
      "          \"parquetFormat\": {}\n",
      "        },\n",
      "        \"uri\": \"data/saved_reference_dataset.parquet\"\n",
      "      }\n",
      "    }\n",
      "  },\n",
      "  \"meta\": {\n",
      "    \"createdTimestamp\": \"2022-09-15T20:15:42.783687Z\",\n",
      "    \"minEventTimestamp\": \"2022-09-15T13:02:22.878587Z\",\n",
      "    \"maxEventTimestamp\": \"2022-09-15T14:04:22.878576Z\"\n",
      "  }\n",
      "}\n"
     ]
    },
    {
     "name": "stderr",
     "output_type": "stream",
     "text": [
      "/Users/franciscojavierarceo/GitHub/feast/sdk/python/feast/feature_store.py:1180: RuntimeWarning: Saving dataset is an experimental feature. This API is unstable and it could and most probably will be changed in the future. We do not guarantee that future changes will maintain backward compatibility.\n",
      "  warnings.warn(\n"
     ]
    }
   ],
   "source": [
    "reference_dataset = store.create_saved_dataset(\n",
    "    from_=training_data_job,\n",
    "    name=\"saved_reference_dataset\",\n",
    "    storage=SavedDatasetFileStorage(path='data/saved_reference_dataset.parquet')\n",
    ")\n",
    "\n",
    "print(reference_dataset)"
   ]
  },
  {
   "cell_type": "code",
   "execution_count": 11,
   "id": "903f06a2-0c60-4d18-b759-68d1e02ab8ee",
   "metadata": {},
   "outputs": [
    {
     "name": "stderr",
     "output_type": "stream",
     "text": [
      "/Users/franciscojavierarceo/GitHub/feast/sdk/python/feast/feature_store.py:1233: RuntimeWarning: Retrieving datasets is an experimental feature. This API is unstable and it could and most probably will be changed in the future. We do not guarantee that future changes will maintain backward compatibility.\n",
      "  warnings.warn(\n"
     ]
    }
   ],
   "source": [
    "# This should pass\n",
    "@ge_profiler\n",
    "def user_features_profiler(dataset: PandasDataset) -> ExpectationSuite:\n",
    "    print(dataset.columns)\n",
    "    dataset.expect_column_to_exist(\"driver_id\")\n",
    "    dataset.expect_column_values_to_be_between(\"avg_daily_trips\", 0, 1000)\n",
    "    dataset.expect_column_values_to_be_between(\"conv_rate\", 0, 1)\n",
    "    dataset.expect_column_values_to_be_between(\"acc_rate\", 0, 1)\n",
    "    return dataset.get_expectation_suite()\n",
    "\n",
    "# This should fail\n",
    "@ge_profiler\n",
    "def user_features_profiler_fail(dataset: PandasDataset) -> ExpectationSuite:\n",
    "    print(dataset.columns)\n",
    "    dataset.expect_column_to_exist(\"something_random\")\n",
    "    return dataset.get_expectation_suite()\n",
    "\n",
    "ds = store.get_saved_dataset('saved_reference_dataset')\n",
    "validation_reference = ds.as_reference(name='user_features_profiler', profiler=user_features_profiler)\n",
    "validation_reference_fail = ds.as_reference(name='user_features_profiler_fail', profiler=user_features_profiler_fail)"
   ]
  },
  {
   "cell_type": "code",
   "execution_count": 40,
   "id": "83cf3b81-157d-4d22-bd52-d5718a0e1bb0",
   "metadata": {},
   "outputs": [
    {
     "name": "stdout",
     "output_type": "stream",
     "text": [
      "Index(['driver_id', 'acc_rate', 'avg_daily_trips',\n",
      "       'label_driver_reported_satisfaction', 'event_timestamp', 'conv_rate'],\n",
      "      dtype='object')\n",
      "\n",
      "***this profiler has 4 items***\n",
      "\n",
      "Index(['driver_id', 'acc_rate', 'avg_daily_trips',\n",
      "       'label_driver_reported_satisfaction', 'event_timestamp', 'conv_rate'],\n",
      "      dtype='object')\n",
      "<GEProfile with expectations: [\n",
      "  {\n",
      "    \"kwargs\": {\n",
      "      \"column\": \"driver_id\"\n",
      "    },\n",
      "    \"meta\": {},\n",
      "    \"expectation_type\": \"expect_column_to_exist\"\n",
      "  },\n",
      "  {\n",
      "    \"kwargs\": {\n",
      "      \"column\": \"avg_daily_trips\",\n",
      "      \"min_value\": 0,\n",
      "      \"max_value\": 1000\n",
      "    },\n",
      "    \"meta\": {},\n",
      "    \"expectation_type\": \"expect_column_values_to_be_between\"\n",
      "  },\n",
      "  {\n",
      "    \"kwargs\": {\n",
      "      \"column\": \"conv_rate\",\n",
      "      \"min_value\": 0,\n",
      "      \"max_value\": 1\n",
      "    },\n",
      "    \"meta\": {},\n",
      "    \"expectation_type\": \"expect_column_values_to_be_between\"\n",
      "  },\n",
      "  {\n",
      "    \"kwargs\": {\n",
      "      \"column\": \"acc_rate\",\n",
      "      \"min_value\": 0,\n",
      "      \"max_value\": 1\n",
      "    },\n",
      "    \"meta\": {},\n",
      "    \"expectation_type\": \"expect_column_values_to_be_between\"\n",
      "  }\n",
      "]>\n"
     ]
    }
   ],
   "source": [
    "# This profiler yields 4 items\n",
    "print(f\"\\n***this profiler has {len(ds.get_profile(profiler=user_features_profiler).expectation_suite['expectations'])} items***\\n\")\n",
    "\n",
    "print(ds.get_profile(profiler=user_features_profiler))"
   ]
  },
  {
   "cell_type": "code",
   "execution_count": 41,
   "id": "56e56ad3-3b6b-4f1f-ad0c-03f81a873a3d",
   "metadata": {},
   "outputs": [
    {
     "name": "stdout",
     "output_type": "stream",
     "text": [
      "Index(['driver_id', 'acc_rate', 'avg_daily_trips',\n",
      "       'label_driver_reported_satisfaction', 'event_timestamp', 'conv_rate'],\n",
      "      dtype='object')\n",
      "Index(['driver_id', 'acc_rate', 'avg_daily_trips',\n",
      "       'label_driver_reported_satisfaction', 'event_timestamp', 'conv_rate'],\n",
      "      dtype='object')\n",
      "\n",
      "***this profiler has 0 items***\n",
      "\n",
      "Index(['driver_id', 'acc_rate', 'avg_daily_trips',\n",
      "       'label_driver_reported_satisfaction', 'event_timestamp', 'conv_rate'],\n",
      "      dtype='object')\n",
      "<GEProfile with expectations: []>\n"
     ]
    }
   ],
   "source": [
    "ds.get_profile(profiler=user_features_profiler_fail)\n",
    "# This profiler yields 0 items\n",
    "print(f\"\\n***this profiler has {len(ds.get_profile(profiler=user_features_profiler_fail).expectation_suite['expectations'])} items***\\n\")\n",
    "\n",
    "print(ds.get_profile(profiler=user_features_profiler_fail))"
   ]
  },
  {
   "cell_type": "code",
   "execution_count": 44,
   "id": "a0caa3ce-4894-4c06-942e-c5c9e494e71d",
   "metadata": {},
   "outputs": [
    {
     "name": "stdout",
     "output_type": "stream",
     "text": [
      "Index(['driver_id', 'acc_rate', 'avg_daily_trips',\n",
      "       'label_driver_reported_satisfaction', 'event_timestamp', 'conv_rate'],\n",
      "      dtype='object')\n"
     ]
    },
    {
     "name": "stderr",
     "output_type": "stream",
     "text": [
      "/Users/franciscojavierarceo/GitHub/feast/sdk/python/feast/feature_store.py:1233: RuntimeWarning: Retrieving datasets is an experimental feature. This API is unstable and it could and most probably will be changed in the future. We do not guarantee that future changes will maintain backward compatibility.\n",
      "  warnings.warn(\n",
      "/Users/franciscojavierarceo/GitHub/feast/sdk/python/feast/infra/offline_stores/offline_store.py:90: RuntimeWarning: Dataset validation is an experimental feature. This API is unstable and it could and most probably will be changed in the future. We do not guarantee that future changes will maintain backward compatibility.\n",
      "  warnings.warn(\n"
     ]
    },
    {
     "data": {
      "text/html": [
       "<div>\n",
       "<style scoped>\n",
       "    .dataframe tbody tr th:only-of-type {\n",
       "        vertical-align: middle;\n",
       "    }\n",
       "\n",
       "    .dataframe tbody tr th {\n",
       "        vertical-align: top;\n",
       "    }\n",
       "\n",
       "    .dataframe thead th {\n",
       "        text-align: right;\n",
       "    }\n",
       "</style>\n",
       "<table border=\"1\" class=\"dataframe\">\n",
       "  <thead>\n",
       "    <tr style=\"text-align: right;\">\n",
       "      <th></th>\n",
       "      <th>driver_id</th>\n",
       "      <th>label_driver_reported_satisfaction</th>\n",
       "      <th>event_timestamp</th>\n",
       "      <th>conv_rate</th>\n",
       "      <th>acc_rate</th>\n",
       "      <th>avg_daily_trips</th>\n",
       "    </tr>\n",
       "  </thead>\n",
       "  <tbody>\n",
       "    <tr>\n",
       "      <th>0</th>\n",
       "      <td>1002</td>\n",
       "      <td>5</td>\n",
       "      <td>2022-09-15 13:39:22.878585+00:00</td>\n",
       "      <td>0.134408</td>\n",
       "      <td>0.616837</td>\n",
       "      <td>548</td>\n",
       "    </tr>\n",
       "    <tr>\n",
       "      <th>1</th>\n",
       "      <td>1001</td>\n",
       "      <td>1</td>\n",
       "      <td>2022-09-15 14:04:22.878576+00:00</td>\n",
       "      <td>0.939694</td>\n",
       "      <td>0.443570</td>\n",
       "      <td>415</td>\n",
       "    </tr>\n",
       "    <tr>\n",
       "      <th>2</th>\n",
       "      <td>1003</td>\n",
       "      <td>3</td>\n",
       "      <td>2022-09-15 13:02:22.878587+00:00</td>\n",
       "      <td>0.052578</td>\n",
       "      <td>0.218352</td>\n",
       "      <td>935</td>\n",
       "    </tr>\n",
       "  </tbody>\n",
       "</table>\n",
       "</div>"
      ],
      "text/plain": [
       "   driver_id  label_driver_reported_satisfaction  \\\n",
       "0       1002                                   5   \n",
       "1       1001                                   1   \n",
       "2       1003                                   3   \n",
       "\n",
       "                   event_timestamp  conv_rate  acc_rate  avg_daily_trips  \n",
       "0 2022-09-15 13:39:22.878585+00:00   0.134408  0.616837              548  \n",
       "1 2022-09-15 14:04:22.878576+00:00   0.939694  0.443570              415  \n",
       "2 2022-09-15 13:02:22.878587+00:00   0.052578  0.218352              935  "
      ]
     },
     "execution_count": 44,
     "metadata": {},
     "output_type": "execute_result"
    }
   ],
   "source": [
    "# This validation should pass\n",
    "training_data_job.to_df(\n",
    "    validation_reference=store.\n",
    "    get_saved_dataset(\"saved_reference_dataset\").\n",
    "    as_reference(name='user_features_profiler', profiler=user_features_profiler)\n",
    ")"
   ]
  },
  {
   "cell_type": "code",
   "execution_count": 45,
   "id": "e2bfba05-add8-425c-8405-49a1b1b138d0",
   "metadata": {},
   "outputs": [
    {
     "name": "stdout",
     "output_type": "stream",
     "text": [
      "Index(['driver_id', 'acc_rate', 'avg_daily_trips',\n",
      "       'label_driver_reported_satisfaction', 'event_timestamp', 'conv_rate'],\n",
      "      dtype='object')\n"
     ]
    },
    {
     "name": "stderr",
     "output_type": "stream",
     "text": [
      "/Users/franciscojavierarceo/GitHub/feast/sdk/python/feast/feature_store.py:1233: RuntimeWarning: Retrieving datasets is an experimental feature. This API is unstable and it could and most probably will be changed in the future. We do not guarantee that future changes will maintain backward compatibility.\n",
      "  warnings.warn(\n",
      "/Users/franciscojavierarceo/GitHub/feast/sdk/python/feast/infra/offline_stores/offline_store.py:90: RuntimeWarning: Dataset validation is an experimental feature. This API is unstable and it could and most probably will be changed in the future. We do not guarantee that future changes will maintain backward compatibility.\n",
      "  warnings.warn(\n"
     ]
    },
    {
     "data": {
      "text/html": [
       "<div>\n",
       "<style scoped>\n",
       "    .dataframe tbody tr th:only-of-type {\n",
       "        vertical-align: middle;\n",
       "    }\n",
       "\n",
       "    .dataframe tbody tr th {\n",
       "        vertical-align: top;\n",
       "    }\n",
       "\n",
       "    .dataframe thead th {\n",
       "        text-align: right;\n",
       "    }\n",
       "</style>\n",
       "<table border=\"1\" class=\"dataframe\">\n",
       "  <thead>\n",
       "    <tr style=\"text-align: right;\">\n",
       "      <th></th>\n",
       "      <th>driver_id</th>\n",
       "      <th>label_driver_reported_satisfaction</th>\n",
       "      <th>event_timestamp</th>\n",
       "      <th>conv_rate</th>\n",
       "      <th>acc_rate</th>\n",
       "      <th>avg_daily_trips</th>\n",
       "    </tr>\n",
       "  </thead>\n",
       "  <tbody>\n",
       "    <tr>\n",
       "      <th>0</th>\n",
       "      <td>1002</td>\n",
       "      <td>5</td>\n",
       "      <td>2022-09-15 13:39:22.878585+00:00</td>\n",
       "      <td>0.134408</td>\n",
       "      <td>0.616837</td>\n",
       "      <td>548</td>\n",
       "    </tr>\n",
       "    <tr>\n",
       "      <th>1</th>\n",
       "      <td>1001</td>\n",
       "      <td>1</td>\n",
       "      <td>2022-09-15 14:04:22.878576+00:00</td>\n",
       "      <td>0.939694</td>\n",
       "      <td>0.443570</td>\n",
       "      <td>415</td>\n",
       "    </tr>\n",
       "    <tr>\n",
       "      <th>2</th>\n",
       "      <td>1003</td>\n",
       "      <td>3</td>\n",
       "      <td>2022-09-15 13:02:22.878587+00:00</td>\n",
       "      <td>0.052578</td>\n",
       "      <td>0.218352</td>\n",
       "      <td>935</td>\n",
       "    </tr>\n",
       "  </tbody>\n",
       "</table>\n",
       "</div>"
      ],
      "text/plain": [
       "   driver_id  label_driver_reported_satisfaction  \\\n",
       "0       1002                                   5   \n",
       "1       1001                                   1   \n",
       "2       1003                                   3   \n",
       "\n",
       "                   event_timestamp  conv_rate  acc_rate  avg_daily_trips  \n",
       "0 2022-09-15 13:39:22.878585+00:00   0.134408  0.616837              548  \n",
       "1 2022-09-15 14:04:22.878576+00:00   0.939694  0.443570              415  \n",
       "2 2022-09-15 13:02:22.878587+00:00   0.052578  0.218352              935  "
      ]
     },
     "execution_count": 45,
     "metadata": {},
     "output_type": "execute_result"
    }
   ],
   "source": [
    "# This validation should fail\n",
    "training_data_job.to_df(\n",
    "    validation_reference=store.\n",
    "    get_saved_dataset(\"saved_reference_dataset\").\n",
    "    as_reference(name='user_features_profiler_fail', profiler=user_features_profiler_fail)\n",
    ")"
   ]
  },
  {
   "cell_type": "code",
   "execution_count": null,
   "id": "f440a2fe-b27b-4f33-8005-7800567f9b9d",
   "metadata": {},
   "outputs": [],
   "source": []
  }
 ],
 "metadata": {
  "kernelspec": {
   "display_name": "Python 3 (ipykernel)",
   "language": "python",
   "name": "python3"
  },
  "language_info": {
   "codemirror_mode": {
    "name": "ipython",
    "version": 3
   },
   "file_extension": ".py",
   "mimetype": "text/x-python",
   "name": "python",
   "nbconvert_exporter": "python",
   "pygments_lexer": "ipython3",
   "version": "3.8.13"
  }
 },
 "nbformat": 4,
 "nbformat_minor": 5
}
