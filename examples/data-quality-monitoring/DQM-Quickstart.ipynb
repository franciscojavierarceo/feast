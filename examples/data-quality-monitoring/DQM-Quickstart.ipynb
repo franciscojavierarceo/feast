{
 "cells": [
  {
   "cell_type": "code",
   "execution_count": 1,
   "id": "7945b3fc-369a-47f1-8617-bcec53f46ff1",
   "metadata": {},
   "outputs": [
    {
     "name": "stderr",
     "output_type": "stream",
     "text": [
      "WARNING: You are using pip version 22.0.4; however, version 22.2.2 is available.\n",
      "You should consider upgrading via the '/Users/franciscojavierarceo/GitHub/feast/venv/bin/python3 -m pip install --upgrade pip' command.\n"
     ]
    },
    {
     "name": "stdout",
     "output_type": "stream",
     "text": [
      "Please restart your runtime now (Runtime -> Restart runtime). This ensures that the correct dependencies are loaded.\n"
     ]
    }
   ],
   "source": [
    "%%sh\n",
    "pip install Pygments -q\n",
    "echo \"Please restart your runtime now (Runtime -> Restart runtime). This ensures that the correct dependencies are loaded.\""
   ]
  },
  {
   "cell_type": "markdown",
   "id": "687f6708-ebdc-40e4-b80a-b6d19661e491",
   "metadata": {},
   "source": [
    "# https://github.com/feast-dev/feast-gcp-fraud-tutorial/blob/main/notebooks/Validating_Online_Features_While_Detecting_Fraud.ipynb"
   ]
  },
  {
   "cell_type": "code",
   "execution_count": 2,
   "id": "799bef6e-01f9-4848-98db-f52a1f7c1287",
   "metadata": {},
   "outputs": [
    {
     "name": "stdout",
     "output_type": "stream",
     "text": [
      "\n",
      "Creating a new Feast repository in \u001b[1m\u001b[32m/Users/franciscojavierarceo/GitHub/feast/examples/data-quality-monitoring/dqm_repo\u001b[0m.\n",
      "\n"
     ]
    }
   ],
   "source": [
    "!rm -rf dqm_repo\n",
    "!feast init dqm_repo"
   ]
  },
  {
   "cell_type": "code",
   "execution_count": 3,
   "id": "59d631fb-4f5e-43d1-8d75-98d5920ca0ac",
   "metadata": {},
   "outputs": [
    {
     "name": "stdout",
     "output_type": "stream",
     "text": [
      "/Users/franciscojavierarceo/GitHub/feast/examples/data-quality-monitoring/dqm_repo/feature_repo\n",
      "__init__.py        example_repo.py    \u001b[34mlogs\u001b[m\u001b[m\n",
      "\u001b[34mdata\u001b[m\u001b[m               feature_store.yaml test_workflow.py\n",
      "\n",
      "./data:\n",
      "driver_stats.parquet\n",
      "\n",
      "./logs:\n"
     ]
    }
   ],
   "source": [
    "%cd dqm_repo/feature_repo/\n",
    "!mkdir logs\n",
    "!ls -R"
   ]
  },
  {
   "cell_type": "code",
   "execution_count": 4,
   "id": "8b9e69b6-a6a0-40dc-ba12-8b6053a86817",
   "metadata": {},
   "outputs": [
    {
     "name": "stdout",
     "output_type": "stream",
     "text": [
      "\u001b[94mproject\u001b[39;49;00m:\u001b[37m \u001b[39;49;00mdqm_repo\u001b[37m\u001b[39;49;00m\n",
      "\u001b[37m# By default, the registry is a file (but can be turned into a more scalable SQL-backed registry)\u001b[39;49;00m\u001b[37m\u001b[39;49;00m\n",
      "\u001b[94mregistry\u001b[39;49;00m:\u001b[37m \u001b[39;49;00mdata/registry.db\u001b[37m\u001b[39;49;00m\n",
      "\u001b[37m# The provider primarily specifies default offline / online stores & storing the registry in a given cloud\u001b[39;49;00m\u001b[37m\u001b[39;49;00m\n",
      "\u001b[94mprovider\u001b[39;49;00m:\u001b[37m \u001b[39;49;00mlocal\u001b[37m\u001b[39;49;00m\n",
      "\u001b[94monline_store\u001b[39;49;00m:\u001b[37m\u001b[39;49;00m\n",
      "\u001b[37m    \u001b[39;49;00m\u001b[94mtype\u001b[39;49;00m:\u001b[37m \u001b[39;49;00msqlite\u001b[37m\u001b[39;49;00m\n",
      "\u001b[37m    \u001b[39;49;00m\u001b[94mpath\u001b[39;49;00m:\u001b[37m \u001b[39;49;00mdata/online_store.db\u001b[37m\u001b[39;49;00m\n",
      "\u001b[94mentity_key_serialization_version\u001b[39;49;00m:\u001b[37m \u001b[39;49;00m2\u001b[37m\u001b[39;49;00m\n"
     ]
    }
   ],
   "source": [
    "!pygmentize feature_store.yaml"
   ]
  },
  {
   "cell_type": "markdown",
   "id": "044b0c11-54d3-43e9-bafd-29a9d325ab2f",
   "metadata": {},
   "source": [
    "# Taking a look at our data"
   ]
  },
  {
   "cell_type": "code",
   "execution_count": 5,
   "id": "ddbaa5f6-63a3-4844-bfff-337e4299e18a",
   "metadata": {},
   "outputs": [
    {
     "data": {
      "text/html": [
       "<div>\n",
       "<style scoped>\n",
       "    .dataframe tbody tr th:only-of-type {\n",
       "        vertical-align: middle;\n",
       "    }\n",
       "\n",
       "    .dataframe tbody tr th {\n",
       "        vertical-align: top;\n",
       "    }\n",
       "\n",
       "    .dataframe thead th {\n",
       "        text-align: right;\n",
       "    }\n",
       "</style>\n",
       "<table border=\"1\" class=\"dataframe\">\n",
       "  <thead>\n",
       "    <tr style=\"text-align: right;\">\n",
       "      <th></th>\n",
       "      <th>event_timestamp</th>\n",
       "      <th>driver_id</th>\n",
       "      <th>conv_rate</th>\n",
       "      <th>acc_rate</th>\n",
       "      <th>avg_daily_trips</th>\n",
       "      <th>created</th>\n",
       "    </tr>\n",
       "  </thead>\n",
       "  <tbody>\n",
       "    <tr>\n",
       "      <th>0</th>\n",
       "      <td>2022-08-31 13:00:00+00:00</td>\n",
       "      <td>1005</td>\n",
       "      <td>0.272476</td>\n",
       "      <td>0.038139</td>\n",
       "      <td>904</td>\n",
       "      <td>2022-09-15 13:36:11.907</td>\n",
       "    </tr>\n",
       "    <tr>\n",
       "      <th>1</th>\n",
       "      <td>2022-08-31 14:00:00+00:00</td>\n",
       "      <td>1005</td>\n",
       "      <td>0.086198</td>\n",
       "      <td>0.773058</td>\n",
       "      <td>775</td>\n",
       "      <td>2022-09-15 13:36:11.907</td>\n",
       "    </tr>\n",
       "    <tr>\n",
       "      <th>2</th>\n",
       "      <td>2022-08-31 15:00:00+00:00</td>\n",
       "      <td>1005</td>\n",
       "      <td>0.137416</td>\n",
       "      <td>0.390630</td>\n",
       "      <td>863</td>\n",
       "      <td>2022-09-15 13:36:11.907</td>\n",
       "    </tr>\n",
       "    <tr>\n",
       "      <th>3</th>\n",
       "      <td>2022-08-31 16:00:00+00:00</td>\n",
       "      <td>1005</td>\n",
       "      <td>0.915498</td>\n",
       "      <td>0.605327</td>\n",
       "      <td>387</td>\n",
       "      <td>2022-09-15 13:36:11.907</td>\n",
       "    </tr>\n",
       "    <tr>\n",
       "      <th>4</th>\n",
       "      <td>2022-08-31 17:00:00+00:00</td>\n",
       "      <td>1005</td>\n",
       "      <td>0.778479</td>\n",
       "      <td>0.126495</td>\n",
       "      <td>656</td>\n",
       "      <td>2022-09-15 13:36:11.907</td>\n",
       "    </tr>\n",
       "  </tbody>\n",
       "</table>\n",
       "</div>"
      ],
      "text/plain": [
       "            event_timestamp  driver_id  conv_rate  acc_rate  avg_daily_trips  \\\n",
       "0 2022-08-31 13:00:00+00:00       1005   0.272476  0.038139              904   \n",
       "1 2022-08-31 14:00:00+00:00       1005   0.086198  0.773058              775   \n",
       "2 2022-08-31 15:00:00+00:00       1005   0.137416  0.390630              863   \n",
       "3 2022-08-31 16:00:00+00:00       1005   0.915498  0.605327              387   \n",
       "4 2022-08-31 17:00:00+00:00       1005   0.778479  0.126495              656   \n",
       "\n",
       "                  created  \n",
       "0 2022-09-15 13:36:11.907  \n",
       "1 2022-09-15 13:36:11.907  \n",
       "2 2022-09-15 13:36:11.907  \n",
       "3 2022-09-15 13:36:11.907  \n",
       "4 2022-09-15 13:36:11.907  "
      ]
     },
     "execution_count": 5,
     "metadata": {},
     "output_type": "execute_result"
    }
   ],
   "source": [
    "import pandas as pd\n",
    "\n",
    "pd.read_parquet(\"data/driver_stats.parquet\").head()"
   ]
  },
  {
   "cell_type": "code",
   "execution_count": 7,
   "id": "7bb41d5f-95de-40b0-815b-10437b40ee36",
   "metadata": {
    "tags": []
   },
   "outputs": [
    {
     "name": "stdout",
     "output_type": "stream",
     "text": [
      "\u001b[38;2;61;123;123;03m# This is an example feature definition file\u001b[39;00m\n",
      "\n",
      "\u001b[38;2;0;128;0;01mfrom\u001b[39;00m \u001b[38;2;0;0;255;01mdatetime\u001b[39;00m \u001b[38;2;0;128;0;01mimport\u001b[39;00m timedelta\n",
      "\n",
      "\u001b[38;2;0;128;0;01mimport\u001b[39;00m \u001b[38;2;0;0;255;01mpandas\u001b[39;00m \u001b[38;2;0;128;0;01mas\u001b[39;00m \u001b[38;2;0;0;255;01mpd\u001b[39;00m\n",
      "\n",
      "\u001b[38;2;0;128;0;01mfrom\u001b[39;00m \u001b[38;2;0;0;255;01mfeast\u001b[39;00m \u001b[38;2;0;128;0;01mimport\u001b[39;00m (\n",
      "    Entity,\n",
      "    FeatureService,\n",
      "    FeatureView,\n",
      "    Field,\n",
      "    FileSource,\n",
      "    PushSource,\n",
      "    RequestSource,\n",
      ")\n",
      "\u001b[38;2;0;128;0;01mfrom\u001b[39;00m \u001b[38;2;0;0;255;01mfeast\u001b[39;00m\u001b[38;2;0;0;255;01m.\u001b[39;00m\u001b[38;2;0;0;255;01mon_demand_feature_view\u001b[39;00m \u001b[38;2;0;128;0;01mimport\u001b[39;00m on_demand_feature_view\n",
      "\u001b[38;2;0;128;0;01mfrom\u001b[39;00m \u001b[38;2;0;0;255;01mfeast\u001b[39;00m\u001b[38;2;0;0;255;01m.\u001b[39;00m\u001b[38;2;0;0;255;01mtypes\u001b[39;00m \u001b[38;2;0;128;0;01mimport\u001b[39;00m Float32, Float64, Int64\n",
      "\n",
      "\u001b[38;2;61;123;123;03m# Define an entity for the driver. You can think of an entity as a primary key used to\u001b[39;00m\n",
      "\u001b[38;2;61;123;123;03m# fetch features.\u001b[39;00m\n",
      "driver \u001b[38;2;102;102;102m=\u001b[39m Entity(name\u001b[38;2;102;102;102m=\u001b[39m\u001b[38;2;186;33;33m\"\u001b[39m\u001b[38;2;186;33;33mdriver\u001b[39m\u001b[38;2;186;33;33m\"\u001b[39m, join_keys\u001b[38;2;102;102;102m=\u001b[39m[\u001b[38;2;186;33;33m\"\u001b[39m\u001b[38;2;186;33;33mdriver_id\u001b[39m\u001b[38;2;186;33;33m\"\u001b[39m])\n",
      "\n",
      "\u001b[38;2;61;123;123;03m# Read data from parquet files. Parquet is convenient for local development mode. For\u001b[39;00m\n",
      "\u001b[38;2;61;123;123;03m# production, you can use your favorite DWH, such as BigQuery. See Feast documentation\u001b[39;00m\n",
      "\u001b[38;2;61;123;123;03m# for more info.\u001b[39;00m\n",
      "driver_stats_source \u001b[38;2;102;102;102m=\u001b[39m FileSource(\n",
      "    name\u001b[38;2;102;102;102m=\u001b[39m\u001b[38;2;186;33;33m\"\u001b[39m\u001b[38;2;186;33;33mdriver_hourly_stats_source\u001b[39m\u001b[38;2;186;33;33m\"\u001b[39m,\n",
      "    path\u001b[38;2;102;102;102m=\u001b[39m\u001b[38;2;186;33;33m\"\u001b[39m\u001b[38;2;186;33;33m/Users/franciscojavierarceo/GitHub/feast/examples/data-quality-monitoring/dqm_repo/feature_repo/data/driver_stats.parquet\u001b[39m\u001b[38;2;186;33;33m\"\u001b[39m,\n",
      "    timestamp_field\u001b[38;2;102;102;102m=\u001b[39m\u001b[38;2;186;33;33m\"\u001b[39m\u001b[38;2;186;33;33mevent_timestamp\u001b[39m\u001b[38;2;186;33;33m\"\u001b[39m,\n",
      "    created_timestamp_column\u001b[38;2;102;102;102m=\u001b[39m\u001b[38;2;186;33;33m\"\u001b[39m\u001b[38;2;186;33;33mcreated\u001b[39m\u001b[38;2;186;33;33m\"\u001b[39m,\n",
      ")\n",
      "\n",
      "\u001b[38;2;61;123;123;03m# Our parquet files contain sample data that includes a driver_id column, timestamps and\u001b[39;00m\n",
      "\u001b[38;2;61;123;123;03m# three feature column. Here we define a Feature View that will allow us to serve this\u001b[39;00m\n",
      "\u001b[38;2;61;123;123;03m# data to our model online.\u001b[39;00m\n",
      "driver_stats_fv \u001b[38;2;102;102;102m=\u001b[39m FeatureView(\n",
      "    \u001b[38;2;61;123;123;03m# The unique name of this feature view. Two feature views in a single\u001b[39;00m\n",
      "    \u001b[38;2;61;123;123;03m# project cannot have the same name\u001b[39;00m\n",
      "    name\u001b[38;2;102;102;102m=\u001b[39m\u001b[38;2;186;33;33m\"\u001b[39m\u001b[38;2;186;33;33mdriver_hourly_stats\u001b[39m\u001b[38;2;186;33;33m\"\u001b[39m,\n",
      "    entities\u001b[38;2;102;102;102m=\u001b[39m[driver],\n",
      "    ttl\u001b[38;2;102;102;102m=\u001b[39mtimedelta(days\u001b[38;2;102;102;102m=\u001b[39m\u001b[38;2;102;102;102m1\u001b[39m),\n",
      "    \u001b[38;2;61;123;123;03m# The list of features defined below act as a schema to both define features\u001b[39;00m\n",
      "    \u001b[38;2;61;123;123;03m# for both materialization of features into a store, and are used as references\u001b[39;00m\n",
      "    \u001b[38;2;61;123;123;03m# during retrieval for building a training dataset or serving features\u001b[39;00m\n",
      "    schema\u001b[38;2;102;102;102m=\u001b[39m[\n",
      "        Field(name\u001b[38;2;102;102;102m=\u001b[39m\u001b[38;2;186;33;33m\"\u001b[39m\u001b[38;2;186;33;33mconv_rate\u001b[39m\u001b[38;2;186;33;33m\"\u001b[39m, dtype\u001b[38;2;102;102;102m=\u001b[39mFloat32),\n",
      "        Field(name\u001b[38;2;102;102;102m=\u001b[39m\u001b[38;2;186;33;33m\"\u001b[39m\u001b[38;2;186;33;33macc_rate\u001b[39m\u001b[38;2;186;33;33m\"\u001b[39m, dtype\u001b[38;2;102;102;102m=\u001b[39mFloat32),\n",
      "        Field(name\u001b[38;2;102;102;102m=\u001b[39m\u001b[38;2;186;33;33m\"\u001b[39m\u001b[38;2;186;33;33mavg_daily_trips\u001b[39m\u001b[38;2;186;33;33m\"\u001b[39m, dtype\u001b[38;2;102;102;102m=\u001b[39mInt64),\n",
      "    ],\n",
      "    online\u001b[38;2;102;102;102m=\u001b[39m\u001b[38;2;0;128;0;01mTrue\u001b[39;00m,\n",
      "    source\u001b[38;2;102;102;102m=\u001b[39mdriver_stats_source,\n",
      "    \u001b[38;2;61;123;123;03m# Tags are user defined key/value pairs that are attached to each\u001b[39;00m\n",
      "    \u001b[38;2;61;123;123;03m# feature view\u001b[39;00m\n",
      "    tags\u001b[38;2;102;102;102m=\u001b[39m{\u001b[38;2;186;33;33m\"\u001b[39m\u001b[38;2;186;33;33mteam\u001b[39m\u001b[38;2;186;33;33m\"\u001b[39m: \u001b[38;2;186;33;33m\"\u001b[39m\u001b[38;2;186;33;33mdriver_performance\u001b[39m\u001b[38;2;186;33;33m\"\u001b[39m},\n",
      ")\n",
      "\n",
      "\u001b[38;2;61;123;123;03m# Define a request data source which encodes features / information only\u001b[39;00m\n",
      "\u001b[38;2;61;123;123;03m# available at request time (e.g. part of the user initiated HTTP request)\u001b[39;00m\n",
      "input_request \u001b[38;2;102;102;102m=\u001b[39m RequestSource(\n",
      "    name\u001b[38;2;102;102;102m=\u001b[39m\u001b[38;2;186;33;33m\"\u001b[39m\u001b[38;2;186;33;33mvals_to_add\u001b[39m\u001b[38;2;186;33;33m\"\u001b[39m,\n",
      "    schema\u001b[38;2;102;102;102m=\u001b[39m[\n",
      "        Field(name\u001b[38;2;102;102;102m=\u001b[39m\u001b[38;2;186;33;33m\"\u001b[39m\u001b[38;2;186;33;33mval_to_add\u001b[39m\u001b[38;2;186;33;33m\"\u001b[39m, dtype\u001b[38;2;102;102;102m=\u001b[39mInt64),\n",
      "        Field(name\u001b[38;2;102;102;102m=\u001b[39m\u001b[38;2;186;33;33m\"\u001b[39m\u001b[38;2;186;33;33mval_to_add_2\u001b[39m\u001b[38;2;186;33;33m\"\u001b[39m, dtype\u001b[38;2;102;102;102m=\u001b[39mInt64),\n",
      "    ],\n",
      ")\n",
      "\n",
      "\n",
      "\u001b[38;2;61;123;123;03m# Define an on demand feature view which can generate new features based on\u001b[39;00m\n",
      "\u001b[38;2;61;123;123;03m# existing feature views and RequestSource features\u001b[39;00m\n",
      "\u001b[38;2;170;34;255m@on_demand_feature_view\u001b[39m(\n",
      "    sources\u001b[38;2;102;102;102m=\u001b[39m[driver_stats_fv, input_request],\n",
      "    schema\u001b[38;2;102;102;102m=\u001b[39m[\n",
      "        Field(name\u001b[38;2;102;102;102m=\u001b[39m\u001b[38;2;186;33;33m\"\u001b[39m\u001b[38;2;186;33;33mconv_rate_plus_val1\u001b[39m\u001b[38;2;186;33;33m\"\u001b[39m, dtype\u001b[38;2;102;102;102m=\u001b[39mFloat64),\n",
      "        Field(name\u001b[38;2;102;102;102m=\u001b[39m\u001b[38;2;186;33;33m\"\u001b[39m\u001b[38;2;186;33;33mconv_rate_plus_val2\u001b[39m\u001b[38;2;186;33;33m\"\u001b[39m, dtype\u001b[38;2;102;102;102m=\u001b[39mFloat64),\n",
      "    ],\n",
      ")\n",
      "\u001b[38;2;0;128;0;01mdef\u001b[39;00m \u001b[38;2;0;0;255mtransformed_conv_rate\u001b[39m(inputs: pd\u001b[38;2;102;102;102m.\u001b[39mDataFrame) \u001b[38;2;102;102;102m-\u001b[39m\u001b[38;2;102;102;102m>\u001b[39m pd\u001b[38;2;102;102;102m.\u001b[39mDataFrame:\n",
      "    df \u001b[38;2;102;102;102m=\u001b[39m pd\u001b[38;2;102;102;102m.\u001b[39mDataFrame()\n",
      "    df[\u001b[38;2;186;33;33m\"\u001b[39m\u001b[38;2;186;33;33mconv_rate_plus_val1\u001b[39m\u001b[38;2;186;33;33m\"\u001b[39m] \u001b[38;2;102;102;102m=\u001b[39m inputs[\u001b[38;2;186;33;33m\"\u001b[39m\u001b[38;2;186;33;33mconv_rate\u001b[39m\u001b[38;2;186;33;33m\"\u001b[39m] \u001b[38;2;102;102;102m+\u001b[39m inputs[\u001b[38;2;186;33;33m\"\u001b[39m\u001b[38;2;186;33;33mval_to_add\u001b[39m\u001b[38;2;186;33;33m\"\u001b[39m]\n",
      "    df[\u001b[38;2;186;33;33m\"\u001b[39m\u001b[38;2;186;33;33mconv_rate_plus_val2\u001b[39m\u001b[38;2;186;33;33m\"\u001b[39m] \u001b[38;2;102;102;102m=\u001b[39m inputs[\u001b[38;2;186;33;33m\"\u001b[39m\u001b[38;2;186;33;33mconv_rate\u001b[39m\u001b[38;2;186;33;33m\"\u001b[39m] \u001b[38;2;102;102;102m+\u001b[39m inputs[\u001b[38;2;186;33;33m\"\u001b[39m\u001b[38;2;186;33;33mval_to_add_2\u001b[39m\u001b[38;2;186;33;33m\"\u001b[39m]\n",
      "    \u001b[38;2;0;128;0;01mreturn\u001b[39;00m df\n",
      "\n",
      "\n",
      "\u001b[38;2;61;123;123;03m# This groups features into a model version\u001b[39;00m\n",
      "driver_activity_v1 \u001b[38;2;102;102;102m=\u001b[39m FeatureService(\n",
      "    name\u001b[38;2;102;102;102m=\u001b[39m\u001b[38;2;186;33;33m\"\u001b[39m\u001b[38;2;186;33;33mdriver_activity_v1\u001b[39m\u001b[38;2;186;33;33m\"\u001b[39m,\n",
      "    features\u001b[38;2;102;102;102m=\u001b[39m[\n",
      "        driver_stats_fv[[\u001b[38;2;186;33;33m\"\u001b[39m\u001b[38;2;186;33;33mconv_rate\u001b[39m\u001b[38;2;186;33;33m\"\u001b[39m]],  \u001b[38;2;61;123;123;03m# Sub-selects a feature from a feature view\u001b[39;00m\n",
      "        transformed_conv_rate,  \u001b[38;2;61;123;123;03m# Selects all features from the feature view\u001b[39;00m\n",
      "    ],\n",
      ")\n",
      "driver_activity_v2 \u001b[38;2;102;102;102m=\u001b[39m FeatureService(\n",
      "    name\u001b[38;2;102;102;102m=\u001b[39m\u001b[38;2;186;33;33m\"\u001b[39m\u001b[38;2;186;33;33mdriver_activity_v2\u001b[39m\u001b[38;2;186;33;33m\"\u001b[39m, features\u001b[38;2;102;102;102m=\u001b[39m[driver_stats_fv, transformed_conv_rate]\n",
      ")\n",
      "\n",
      "\u001b[38;2;61;123;123;03m# Defines a way to push data (to be available offline, online or both) into Feast.\u001b[39;00m\n",
      "driver_stats_push_source \u001b[38;2;102;102;102m=\u001b[39m PushSource(\n",
      "    name\u001b[38;2;102;102;102m=\u001b[39m\u001b[38;2;186;33;33m\"\u001b[39m\u001b[38;2;186;33;33mdriver_stats_push_source\u001b[39m\u001b[38;2;186;33;33m\"\u001b[39m,\n",
      "    batch_source\u001b[38;2;102;102;102m=\u001b[39mdriver_stats_source,\n",
      ")\n",
      "\n",
      "\u001b[38;2;61;123;123;03m# Defines a slightly modified version of the feature view from above, where the source\u001b[39;00m\n",
      "\u001b[38;2;61;123;123;03m# has been changed to the push source. This allows fresh features to be directly pushed\u001b[39;00m\n",
      "\u001b[38;2;61;123;123;03m# to the online store for this feature view.\u001b[39;00m\n",
      "driver_stats_fresh_fv \u001b[38;2;102;102;102m=\u001b[39m FeatureView(\n",
      "    name\u001b[38;2;102;102;102m=\u001b[39m\u001b[38;2;186;33;33m\"\u001b[39m\u001b[38;2;186;33;33mdriver_hourly_stats_fresh\u001b[39m\u001b[38;2;186;33;33m\"\u001b[39m,\n",
      "    entities\u001b[38;2;102;102;102m=\u001b[39m[driver],\n",
      "    ttl\u001b[38;2;102;102;102m=\u001b[39mtimedelta(days\u001b[38;2;102;102;102m=\u001b[39m\u001b[38;2;102;102;102m1\u001b[39m),\n",
      "    schema\u001b[38;2;102;102;102m=\u001b[39m[\n",
      "        Field(name\u001b[38;2;102;102;102m=\u001b[39m\u001b[38;2;186;33;33m\"\u001b[39m\u001b[38;2;186;33;33mconv_rate\u001b[39m\u001b[38;2;186;33;33m\"\u001b[39m, dtype\u001b[38;2;102;102;102m=\u001b[39mFloat32),\n",
      "        Field(name\u001b[38;2;102;102;102m=\u001b[39m\u001b[38;2;186;33;33m\"\u001b[39m\u001b[38;2;186;33;33macc_rate\u001b[39m\u001b[38;2;186;33;33m\"\u001b[39m, dtype\u001b[38;2;102;102;102m=\u001b[39mFloat32),\n",
      "        Field(name\u001b[38;2;102;102;102m=\u001b[39m\u001b[38;2;186;33;33m\"\u001b[39m\u001b[38;2;186;33;33mavg_daily_trips\u001b[39m\u001b[38;2;186;33;33m\"\u001b[39m, dtype\u001b[38;2;102;102;102m=\u001b[39mInt64),\n",
      "    ],\n",
      "    online\u001b[38;2;102;102;102m=\u001b[39m\u001b[38;2;0;128;0;01mTrue\u001b[39;00m,\n",
      "    source\u001b[38;2;102;102;102m=\u001b[39mdriver_stats_push_source,  \u001b[38;2;61;123;123;03m# Changed from above\u001b[39;00m\n",
      "    tags\u001b[38;2;102;102;102m=\u001b[39m{\u001b[38;2;186;33;33m\"\u001b[39m\u001b[38;2;186;33;33mteam\u001b[39m\u001b[38;2;186;33;33m\"\u001b[39m: \u001b[38;2;186;33;33m\"\u001b[39m\u001b[38;2;186;33;33mdriver_performance\u001b[39m\u001b[38;2;186;33;33m\"\u001b[39m},\n",
      ")\n",
      "\n",
      "\n",
      "\u001b[38;2;61;123;123;03m# Define an on demand feature view which can generate new features based on\u001b[39;00m\n",
      "\u001b[38;2;61;123;123;03m# existing feature views and RequestSource features\u001b[39;00m\n",
      "\u001b[38;2;170;34;255m@on_demand_feature_view\u001b[39m(\n",
      "    sources\u001b[38;2;102;102;102m=\u001b[39m[driver_stats_fresh_fv, input_request],  \u001b[38;2;61;123;123;03m# relies on fresh version of FV\u001b[39;00m\n",
      "    schema\u001b[38;2;102;102;102m=\u001b[39m[\n",
      "        Field(name\u001b[38;2;102;102;102m=\u001b[39m\u001b[38;2;186;33;33m\"\u001b[39m\u001b[38;2;186;33;33mconv_rate_plus_val1\u001b[39m\u001b[38;2;186;33;33m\"\u001b[39m, dtype\u001b[38;2;102;102;102m=\u001b[39mFloat64),\n",
      "        Field(name\u001b[38;2;102;102;102m=\u001b[39m\u001b[38;2;186;33;33m\"\u001b[39m\u001b[38;2;186;33;33mconv_rate_plus_val2\u001b[39m\u001b[38;2;186;33;33m\"\u001b[39m, dtype\u001b[38;2;102;102;102m=\u001b[39mFloat64),\n",
      "    ],\n",
      ")\n",
      "\u001b[38;2;0;128;0;01mdef\u001b[39;00m \u001b[38;2;0;0;255mtransformed_conv_rate_fresh\u001b[39m(inputs: pd\u001b[38;2;102;102;102m.\u001b[39mDataFrame) \u001b[38;2;102;102;102m-\u001b[39m\u001b[38;2;102;102;102m>\u001b[39m pd\u001b[38;2;102;102;102m.\u001b[39mDataFrame:\n",
      "    df \u001b[38;2;102;102;102m=\u001b[39m pd\u001b[38;2;102;102;102m.\u001b[39mDataFrame()\n",
      "    df[\u001b[38;2;186;33;33m\"\u001b[39m\u001b[38;2;186;33;33mconv_rate_plus_val1\u001b[39m\u001b[38;2;186;33;33m\"\u001b[39m] \u001b[38;2;102;102;102m=\u001b[39m inputs[\u001b[38;2;186;33;33m\"\u001b[39m\u001b[38;2;186;33;33mconv_rate\u001b[39m\u001b[38;2;186;33;33m\"\u001b[39m] \u001b[38;2;102;102;102m+\u001b[39m inputs[\u001b[38;2;186;33;33m\"\u001b[39m\u001b[38;2;186;33;33mval_to_add\u001b[39m\u001b[38;2;186;33;33m\"\u001b[39m]\n",
      "    df[\u001b[38;2;186;33;33m\"\u001b[39m\u001b[38;2;186;33;33mconv_rate_plus_val2\u001b[39m\u001b[38;2;186;33;33m\"\u001b[39m] \u001b[38;2;102;102;102m=\u001b[39m inputs[\u001b[38;2;186;33;33m\"\u001b[39m\u001b[38;2;186;33;33mconv_rate\u001b[39m\u001b[38;2;186;33;33m\"\u001b[39m] \u001b[38;2;102;102;102m+\u001b[39m inputs[\u001b[38;2;186;33;33m\"\u001b[39m\u001b[38;2;186;33;33mval_to_add_2\u001b[39m\u001b[38;2;186;33;33m\"\u001b[39m]\n",
      "    \u001b[38;2;0;128;0;01mreturn\u001b[39;00m df\n",
      "\n",
      "\n",
      "driver_activity_v3 \u001b[38;2;102;102;102m=\u001b[39m FeatureService(\n",
      "    name\u001b[38;2;102;102;102m=\u001b[39m\u001b[38;2;186;33;33m\"\u001b[39m\u001b[38;2;186;33;33mdriver_activity_v3\u001b[39m\u001b[38;2;186;33;33m\"\u001b[39m,\n",
      "    features\u001b[38;2;102;102;102m=\u001b[39m[driver_stats_fresh_fv, transformed_conv_rate_fresh],\n",
      ")\n"
     ]
    }
   ],
   "source": [
    "!pygmentize -f terminal16m example_repo.py"
   ]
  },
  {
   "cell_type": "markdown",
   "id": "3ceeb4a4-e6b6-4f89-913b-d05de9099cf9",
   "metadata": {},
   "source": [
    "# Configurations for online evaluation"
   ]
  },
  {
   "cell_type": "code",
   "execution_count": 16,
   "id": "abf204a6-adb0-4ed1-8d87-45fbf7cdd826",
   "metadata": {},
   "outputs": [],
   "source": [
    "feature_store = \\\n",
    "f\"\"\"project: dqm_repo\n",
    "registry: data/registry.db\n",
    "provider: local\n",
    "offline_store:\n",
    "    type: file\n",
    "online_store:\n",
    "    path: data/online_store.db\n",
    "entity_key_serialization_version: 2\n",
    "feature_server:\n",
    "    enabled: True\n",
    "    feature_logging:\n",
    "        enabled: True\n",
    "        flush_interval_secs: 60\n",
    "        write_to_disk_interval_secs: 10\n",
    "    \n",
    "go_feature_retrieval: False\n",
    "\"\"\"\n",
    "\n",
    "with open('feature_store.yaml', \"w\") as feature_store_file:\n",
    "    feature_store_file.write(feature_store)\n",
    "\n",
    "dqm_services = f\"\"\"\n",
    "from feast import FeatureService\n",
    "from feast.feature_logging import LoggingConfig\n",
    "from feast.infra.offline_stores.file_source import FileLoggingDestination\n",
    "\n",
    "from example_repo import driver_stats_fv\n",
    "\n",
    "fs = FeatureService(\n",
    "    name=\"driver_activity\", \n",
    "    features=[driver_stats_fv],\n",
    "    logging_config=LoggingConfig(\n",
    "        sample_rate=1.0,\n",
    "        destination=FileLoggingDestination(path=\"logs/\"),\n",
    "    )\n",
    ")\n",
    "\"\"\"\n",
    "    \n",
    "with open('dqm_services.py', \"w\") as dqm_services_file:\n",
    "    dqm_services_file.write(dqm_services)"
   ]
  },
  {
   "cell_type": "code",
   "execution_count": 17,
   "id": "f480a6a5-3b1f-4fbe-a95c-38767a8c9fa5",
   "metadata": {},
   "outputs": [
    {
     "name": "stdout",
     "output_type": "stream",
     "text": [
      "/Users/franciscojavierarceo/GitHub/feast/sdk/python/feast/feature_store.py:562: RuntimeWarning: On demand feature view is an experimental feature. This API is stable, but the functionality does not scale well for offline retrieval\n",
      "  warnings.warn(\n",
      "Created entity \u001b[1m\u001b[32mdriver\u001b[0m\n",
      "Created feature view \u001b[1m\u001b[32mdriver_hourly_stats_fresh\u001b[0m\n",
      "Created feature view \u001b[1m\u001b[32mdriver_hourly_stats\u001b[0m\n",
      "Created on demand feature view \u001b[1m\u001b[32mtransformed_conv_rate_fresh\u001b[0m\n",
      "Created on demand feature view \u001b[1m\u001b[32mtransformed_conv_rate\u001b[0m\n",
      "Created feature service \u001b[1m\u001b[32mdriver_activity_v2\u001b[0m\n",
      "Created feature service \u001b[1m\u001b[32mdriver_activity\u001b[0m\n",
      "Created feature service \u001b[1m\u001b[32mdriver_activity_v1\u001b[0m\n",
      "Created feature service \u001b[1m\u001b[32mdriver_activity_v3\u001b[0m\n",
      "\n",
      "Created sqlite table \u001b[1m\u001b[32mdqm_repo_driver_hourly_stats\u001b[0m\n",
      "Created sqlite table \u001b[1m\u001b[32mdqm_repo_driver_hourly_stats_fresh\u001b[0m\n",
      "\n"
     ]
    }
   ],
   "source": [
    "!feast apply"
   ]
  },
  {
   "cell_type": "code",
   "execution_count": 18,
   "id": "2d21fbc8-cb4c-45d2-ac3a-7bc11759d03a",
   "metadata": {},
   "outputs": [
    {
     "name": "stdout",
     "output_type": "stream",
     "text": [
      "{\n",
      "  \"spec\": {\n",
      "    \"name\": \"reference_dataset\",\n",
      "    \"features\": [\n",
      "      \"driver_hourly_stats:conv_rate\",\n",
      "      \"driver_hourly_stats:acc_rate\",\n",
      "      \"driver_hourly_stats:avg_daily_trips\"\n",
      "    ],\n",
      "    \"joinKeys\": [\n",
      "      \"label_driver_reported_satisfaction\",\n",
      "      \"driver_id\"\n",
      "    ],\n",
      "    \"storage\": {\n",
      "      \"fileStorage\": {\n",
      "        \"fileFormat\": {\n",
      "          \"parquetFormat\": {}\n",
      "        },\n",
      "        \"uri\": \"data/driver_stats_reference.parquet\"\n",
      "      }\n",
      "    }\n",
      "  },\n",
      "  \"meta\": {\n",
      "    \"createdTimestamp\": \"2022-09-15T19:44:09.571895Z\",\n",
      "    \"minEventTimestamp\": \"2022-09-15T12:31:09.446320Z\",\n",
      "    \"maxEventTimestamp\": \"2022-09-15T13:33:09.446306Z\"\n",
      "  }\n",
      "}\n"
     ]
    },
    {
     "name": "stderr",
     "output_type": "stream",
     "text": [
      "/Users/franciscojavierarceo/GitHub/feast/sdk/python/feast/feature_store.py:1180: RuntimeWarning: Saving dataset is an experimental feature. This API is unstable and it could and most probably will be changed in the future. We do not guarantee that future changes will maintain backward compatibility.\n",
      "  warnings.warn(\n"
     ]
    }
   ],
   "source": [
    "from datetime import datetime, timedelta\n",
    "import pandas as pd\n",
    "\n",
    "from feast import FeatureStore\n",
    "from feast.infra.offline_stores.file_source import SavedDatasetFileStorage\n",
    "\n",
    "# The entity dataframe is the dataframe we want to enrich with feature values\n",
    "entity_df = pd.DataFrame.from_dict(\n",
    "    {\n",
    "        \"driver_id\": [1001, 1002, 1003],\n",
    "        \"label_driver_reported_satisfaction\": [1, 5, 3], \n",
    "        \"event_timestamp\": [\n",
    "            datetime.now() - timedelta(minutes=11),\n",
    "            datetime.now() - timedelta(minutes=36),\n",
    "            datetime.now() - timedelta(minutes=73),\n",
    "        ],\n",
    "    }\n",
    ")\n",
    "\n",
    "store = FeatureStore(repo_path=\".\")\n",
    "\n",
    "training_data_job = store.get_historical_features(\n",
    "    entity_df=entity_df,\n",
    "    features=[\n",
    "        \"driver_hourly_stats:conv_rate\",\n",
    "        \"driver_hourly_stats:acc_rate\",\n",
    "        \"driver_hourly_stats:avg_daily_trips\",\n",
    "    ],\n",
    ")\n",
    "\n",
    "reference_dataset = store.create_saved_dataset(\n",
    "    from_=training_data_job,\n",
    "    name=\"reference_dataset\",\n",
    "    storage=SavedDatasetFileStorage(path='data/driver_stats_reference.parquet')\n",
    ")\n",
    "\n",
    "print(reference_dataset)"
   ]
  },
  {
   "cell_type": "markdown",
   "id": "7a100e27-e130-4c00-b8fc-69f4d261df25",
   "metadata": {},
   "source": [
    "# Creating our own Expectations Profiler"
   ]
  },
  {
   "cell_type": "code",
   "execution_count": 19,
   "id": "ff168195-04bc-4c82-9c02-bb72b0b41375",
   "metadata": {},
   "outputs": [
    {
     "name": "stderr",
     "output_type": "stream",
     "text": [
      "/Users/franciscojavierarceo/GitHub/feast/venv/lib/python3.8/site-packages/botocore/httpsession.py:28: DeprecationWarning: 'urllib3.contrib.pyopenssl' module is deprecated and will be removed in a future release of urllib3 2.x. Read more in this issue: https://github.com/urllib3/urllib3/issues/2680\n",
      "  from urllib3.contrib.pyopenssl import orig_util_SSLContext as SSLContext\n",
      "/Users/franciscojavierarceo/GitHub/feast/sdk/python/feast/feature_store.py:1233: RuntimeWarning: Retrieving datasets is an experimental feature. This API is unstable and it could and most probably will be changed in the future. We do not guarantee that future changes will maintain backward compatibility.\n",
      "  warnings.warn(\n"
     ]
    }
   ],
   "source": [
    "from feast.dqm.profilers.ge_profiler import ge_profiler\n",
    "from great_expectations.dataset import PandasDataset\n",
    "from great_expectations.core.expectation_suite import ExpectationSuite\n",
    "\n",
    "# this profiler should pass\n",
    "@ge_profiler\n",
    "def user_features_profiler(dataset: PandasDataset) -> ExpectationSuite:\n",
    "    print(dataset.columns)\n",
    "    dataset.expect_column_to_exist(\"driver_id\")\n",
    "    dataset.expect_column_values_to_be_between(\"avg_daily_trips\", 0, 1000)\n",
    "    dataset.expect_column_values_to_be_between(\"conv_rate\", 0, 1)\n",
    "    dataset.expect_column_values_to_be_between(\"acc_rate\", 0, 1)\n",
    "    return dataset.get_expectation_suite()\n",
    "\n",
    "# this profiler should trigger failures\n",
    "@ge_profiler\n",
    "def user_features_profiler_fail(dataset: PandasDataset) -> ExpectationSuite:\n",
    "    dataset.expect_column_to_exist(\"this should fail\")\n",
    "    # dataset.expect_column_values_to_be_between(\"avg_daily_trips\", )\n",
    "    return dataset.get_expectation_suite()\n",
    "\n",
    "ds = store.get_saved_dataset('reference_dataset')\n",
    "validation_reference = ds.as_reference(name='user_features_profiler', profiler=user_features_profiler)\n",
    "validation_reference_fail = ds.as_reference(name='user_features_profiler_fail', profiler=user_features_profiler_fail)\n",
    "\n",
    "# print(training_data_job.to_df(validation_reference=validation_reference))\n",
    "# print(training_data_job.to_df(validation_reference=validation_reference_fail))"
   ]
  },
  {
   "cell_type": "code",
   "execution_count": 20,
   "id": "9acedac9-6b74-46d3-905f-b4d44c8db903",
   "metadata": {},
   "outputs": [],
   "source": [
    "@ge_profiler\n",
    "def profiler_with_unrealistic_expectations(dataset: PandasDataset) -> ExpectationSuite:\n",
    "    # need to create dataframe with corrupted data first\n",
    "    df = pd.DataFrame()\n",
    "    df[\"current_balance\"] = [100]\n",
    "    df[\"avg_passenger_count\"] = [0]\n",
    "\n",
    "    other_ds = PandasDataset(df)\n",
    "    other_ds.expect_column_max_to_be_between(\"current_balance\", -1000, -100)\n",
    "    other_ds.expect_column_values_to_be_in_set(\"avg_passenger_count\", value_set={0})\n",
    "\n",
    "    # this should pass\n",
    "    other_ds.expect_column_min_to_be_between(\"avg_passenger_count\", 0, 1000)\n",
    "\n",
    "    return other_ds.get_expectation_suite()\n",
    "\n",
    "@ge_profiler\n",
    "def profiler_with_unrealistic_expectations2(dataset: PandasDataset) -> ExpectationSuite:\n",
    "    # need to create dataframe with corrupted data first\n",
    "    df = pd.DataFrame()\n",
    "    df[\"current_balance\"] = [-100]\n",
    "    df[\"avg_passenger_count\"] = [0]\n",
    "\n",
    "    other_ds = PandasDataset(df)\n",
    "    other_ds.expect_column_max_to_be_between(\"current_balance\", -1000, -100)\n",
    "    other_ds.expect_column_values_to_be_in_set(\"avg_passenger_count\", value_set={0})\n",
    "\n",
    "    # this should pass\n",
    "    other_ds.expect_column_min_to_be_between(\"avg_passenger_count\", 0, 1000)\n",
    "\n",
    "    return other_ds.get_expectation_suite()\n"
   ]
  },
  {
   "cell_type": "code",
   "execution_count": 21,
   "id": "a78b84b0-220f-49a9-ab01-52a31b0c3d1a",
   "metadata": {},
   "outputs": [
    {
     "data": {
      "text/plain": [
       "False"
      ]
     },
     "execution_count": 21,
     "metadata": {},
     "output_type": "execute_result"
    }
   ],
   "source": [
    "ds.get_profile(profiler=profiler_with_unrealistic_expectations) ==  ds.get_profile(profiler=profiler_with_unrealistic_expectations2) "
   ]
  },
  {
   "cell_type": "code",
   "execution_count": 22,
   "id": "b4896a4d-1210-4b77-ac37-e44197874ee7",
   "metadata": {},
   "outputs": [
    {
     "data": {
      "text/plain": [
       "<GEProfile with expectations: []>"
      ]
     },
     "execution_count": 22,
     "metadata": {},
     "output_type": "execute_result"
    }
   ],
   "source": [
    "ds.get_profile(profiler=user_features_profiler_fail)"
   ]
  },
  {
   "cell_type": "code",
   "execution_count": 23,
   "id": "57cba067-bbab-4f24-a539-46e2fe8b173e",
   "metadata": {},
   "outputs": [
    {
     "data": {
      "text/plain": [
       "(feast.dqm.profilers.ge_profiler.GEProfiler,\n",
       " feast.saved_dataset.SavedDataset,\n",
       " pandas.core.frame.DataFrame)"
      ]
     },
     "execution_count": 23,
     "metadata": {},
     "output_type": "execute_result"
    }
   ],
   "source": [
    "type(user_features_profiler), type(ds), type(ds.to_df())"
   ]
  },
  {
   "cell_type": "code",
   "execution_count": 24,
   "id": "596c21ff-3d3a-46ee-9421-bc7b5a0862f5",
   "metadata": {},
   "outputs": [],
   "source": [
    "from great_expectations.dataset import PandasDataset\n",
    "from feast.dqm.profilers.ge_profiler import _prepare_dataset, _add_feature_metadata, GEProfile\n",
    "import great_expectations as ge"
   ]
  },
  {
   "cell_type": "code",
   "execution_count": 25,
   "id": "3dac7c08-6959-40d2-8561-a0339ff80f57",
   "metadata": {},
   "outputs": [
    {
     "name": "stdout",
     "output_type": "stream",
     "text": [
      "Index(['label_driver_reported_satisfaction', 'event_timestamp', 'acc_rate',\n",
      "       'conv_rate', 'driver_id', 'avg_daily_trips'],\n",
      "      dtype='object')\n"
     ]
    }
   ],
   "source": [
    "dataset = _prepare_dataset(PandasDataset(ds.to_df()))\n",
    "# this doesn't appear to do anything but it's in the `analyze_dataset` method\n",
    "dataset = _add_feature_metadata(dataset)\n",
    "# It looks like when it fails it doesn't return anything\n",
    "gething = user_features_profiler_fail.user_defined_profiler(dataset)"
   ]
  },
  {
   "cell_type": "code",
   "execution_count": 36,
   "id": "0fb9f968-196f-459f-bf1a-3d52be15e6f5",
   "metadata": {},
   "outputs": [
    {
     "data": {
      "text/plain": [
       "{\n",
       "  \"meta\": {\n",
       "    \"great_expectations_version\": \"0.14.13\"\n",
       "  },\n",
       "  \"data_asset_type\": \"Dataset\",\n",
       "  \"ge_cloud_id\": null,\n",
       "  \"expectation_suite_name\": \"default\",\n",
       "  \"expectations\": [\n",
       "    {\n",
       "      \"meta\": {},\n",
       "      \"expectation_type\": \"expect_column_to_exist\",\n",
       "      \"kwargs\": {\n",
       "        \"column\": \"driver_id\"\n",
       "      }\n",
       "    },\n",
       "    {\n",
       "      \"meta\": {},\n",
       "      \"expectation_type\": \"expect_column_values_to_be_between\",\n",
       "      \"kwargs\": {\n",
       "        \"column\": \"avg_daily_trips\",\n",
       "        \"min_value\": 0,\n",
       "        \"max_value\": 1000\n",
       "      }\n",
       "    },\n",
       "    {\n",
       "      \"meta\": {},\n",
       "      \"expectation_type\": \"expect_column_values_to_be_between\",\n",
       "      \"kwargs\": {\n",
       "        \"column\": \"conv_rate\",\n",
       "        \"min_value\": 0,\n",
       "        \"max_value\": 1\n",
       "      }\n",
       "    },\n",
       "    {\n",
       "      \"meta\": {},\n",
       "      \"expectation_type\": \"expect_column_values_to_be_between\",\n",
       "      \"kwargs\": {\n",
       "        \"column\": \"acc_rate\",\n",
       "        \"min_value\": 0,\n",
       "        \"max_value\": 1\n",
       "      }\n",
       "    }\n",
       "  ]\n",
       "}"
      ]
     },
     "execution_count": 36,
     "metadata": {},
     "output_type": "execute_result"
    }
   ],
   "source": [
    "gething"
   ]
  },
  {
   "cell_type": "code",
   "execution_count": 37,
   "id": "80c9eaf7-6d50-4067-b21c-7f83e9e8c380",
   "metadata": {},
   "outputs": [
    {
     "data": {
      "text/plain": [
       "<GEProfile with expectations: [\n",
       "  {\n",
       "    \"meta\": {},\n",
       "    \"expectation_type\": \"expect_column_to_exist\",\n",
       "    \"kwargs\": {\n",
       "      \"column\": \"driver_id\"\n",
       "    }\n",
       "  },\n",
       "  {\n",
       "    \"meta\": {},\n",
       "    \"expectation_type\": \"expect_column_values_to_be_between\",\n",
       "    \"kwargs\": {\n",
       "      \"column\": \"avg_daily_trips\",\n",
       "      \"min_value\": 0,\n",
       "      \"max_value\": 1000\n",
       "    }\n",
       "  },\n",
       "  {\n",
       "    \"meta\": {},\n",
       "    \"expectation_type\": \"expect_column_values_to_be_between\",\n",
       "    \"kwargs\": {\n",
       "      \"column\": \"conv_rate\",\n",
       "      \"min_value\": 0,\n",
       "      \"max_value\": 1\n",
       "    }\n",
       "  },\n",
       "  {\n",
       "    \"meta\": {},\n",
       "    \"expectation_type\": \"expect_column_values_to_be_between\",\n",
       "    \"kwargs\": {\n",
       "      \"column\": \"acc_rate\",\n",
       "      \"min_value\": 0,\n",
       "      \"max_value\": 1\n",
       "    }\n",
       "  }\n",
       "]>"
      ]
     },
     "execution_count": 37,
     "metadata": {},
     "output_type": "execute_result"
    }
   ],
   "source": [
    "# and now we reproduce the empty expectation\n",
    "GEProfile(expectation_suite=gething)"
   ]
  },
  {
   "cell_type": "code",
   "execution_count": 38,
   "id": "9bb3be5e-d74c-46d0-ab7f-818be04ee5a3",
   "metadata": {},
   "outputs": [],
   "source": [
    "# so the root is the profiler and gething is returning nothing"
   ]
  },
  {
   "cell_type": "code",
   "execution_count": 42,
   "id": "8b5b04e5-8363-49f9-a533-294c2f8c2038",
   "metadata": {},
   "outputs": [
    {
     "data": {
      "text/plain": [
       "{\n",
       "  \"meta\": {\n",
       "    \"great_expectations_version\": \"0.14.13\"\n",
       "  },\n",
       "  \"data_asset_type\": \"Dataset\",\n",
       "  \"ge_cloud_id\": null,\n",
       "  \"expectation_suite_name\": \"default\",\n",
       "  \"expectations\": [\n",
       "    {\n",
       "      \"meta\": {},\n",
       "      \"expectation_type\": \"expect_column_to_exist\",\n",
       "      \"kwargs\": {\n",
       "        \"column\": \"driver_id\"\n",
       "      }\n",
       "    },\n",
       "    {\n",
       "      \"meta\": {},\n",
       "      \"expectation_type\": \"expect_column_values_to_be_between\",\n",
       "      \"kwargs\": {\n",
       "        \"column\": \"avg_daily_trips\",\n",
       "        \"min_value\": 0,\n",
       "        \"max_value\": 1000\n",
       "      }\n",
       "    },\n",
       "    {\n",
       "      \"meta\": {},\n",
       "      \"expectation_type\": \"expect_column_values_to_be_between\",\n",
       "      \"kwargs\": {\n",
       "        \"column\": \"conv_rate\",\n",
       "        \"min_value\": 0,\n",
       "        \"max_value\": 1\n",
       "      }\n",
       "    },\n",
       "    {\n",
       "      \"meta\": {},\n",
       "      \"expectation_type\": \"expect_column_values_to_be_between\",\n",
       "      \"kwargs\": {\n",
       "        \"column\": \"acc_rate\",\n",
       "        \"min_value\": 0,\n",
       "        \"max_value\": 1\n",
       "      }\n",
       "    }\n",
       "  ]\n",
       "}"
      ]
     },
     "execution_count": 42,
     "metadata": {},
     "output_type": "execute_result"
    }
   ],
   "source": [
    "user_features_profiler_fail.user_defined_profiler(dataset)"
   ]
  },
  {
   "cell_type": "code",
   "execution_count": 43,
   "id": "68a63967-851c-48e2-801b-57e2f0d0ad70",
   "metadata": {},
   "outputs": [
    {
     "data": {
      "text/plain": [
       "(feast.dqm.profilers.ge_profiler.GEProfiler,)"
      ]
     },
     "execution_count": 43,
     "metadata": {},
     "output_type": "execute_result"
    }
   ],
   "source": [
    "type(user_features_profiler_fail), "
   ]
  },
  {
   "cell_type": "code",
   "execution_count": 44,
   "id": "81dd3df0-3007-4326-821b-f3ec1be6e0cc",
   "metadata": {},
   "outputs": [
    {
     "data": {
      "text/plain": [
       "{\n",
       "  \"statistics\": {\n",
       "    \"evaluated_expectations\": 4,\n",
       "    \"successful_expectations\": 4,\n",
       "    \"unsuccessful_expectations\": 0,\n",
       "    \"success_percent\": 100.0\n",
       "  },\n",
       "  \"meta\": {\n",
       "    \"great_expectations_version\": \"0.14.13\",\n",
       "    \"expectation_suite_name\": \"default\",\n",
       "    \"run_id\": {\n",
       "      \"run_time\": \"2022-09-15T19:46:37.430399+00:00\",\n",
       "      \"run_name\": null\n",
       "    },\n",
       "    \"batch_kwargs\": {\n",
       "      \"ge_batch_id\": \"0898779e-352f-11ed-9d0b-acde48001122\"\n",
       "    },\n",
       "    \"batch_markers\": {},\n",
       "    \"batch_parameters\": {},\n",
       "    \"validation_time\": \"20220915T194637.430340Z\",\n",
       "    \"expectation_suite_meta\": {\n",
       "      \"great_expectations_version\": \"0.14.13\"\n",
       "    }\n",
       "  },\n",
       "  \"evaluation_parameters\": {},\n",
       "  \"success\": true,\n",
       "  \"results\": [\n",
       "    {\n",
       "      \"meta\": {},\n",
       "      \"success\": true,\n",
       "      \"exception_info\": {\n",
       "        \"raised_exception\": false,\n",
       "        \"exception_message\": null,\n",
       "        \"exception_traceback\": null\n",
       "      },\n",
       "      \"expectation_config\": {\n",
       "        \"meta\": {},\n",
       "        \"expectation_type\": \"expect_column_to_exist\",\n",
       "        \"kwargs\": {\n",
       "          \"column\": \"driver_id\",\n",
       "          \"result_format\": \"COMPLETE\"\n",
       "        }\n",
       "      },\n",
       "      \"result\": {}\n",
       "    },\n",
       "    {\n",
       "      \"meta\": {},\n",
       "      \"success\": true,\n",
       "      \"exception_info\": {\n",
       "        \"raised_exception\": false,\n",
       "        \"exception_message\": null,\n",
       "        \"exception_traceback\": null\n",
       "      },\n",
       "      \"expectation_config\": {\n",
       "        \"meta\": {},\n",
       "        \"expectation_type\": \"expect_column_values_to_be_between\",\n",
       "        \"kwargs\": {\n",
       "          \"column\": \"avg_daily_trips\",\n",
       "          \"min_value\": 0,\n",
       "          \"max_value\": 1000,\n",
       "          \"result_format\": \"COMPLETE\"\n",
       "        }\n",
       "      },\n",
       "      \"result\": {\n",
       "        \"element_count\": 3,\n",
       "        \"missing_count\": 0,\n",
       "        \"missing_percent\": 0.0,\n",
       "        \"unexpected_count\": 0,\n",
       "        \"unexpected_percent\": 0.0,\n",
       "        \"unexpected_percent_total\": 0.0,\n",
       "        \"unexpected_percent_nonmissing\": 0.0,\n",
       "        \"partial_unexpected_list\": [],\n",
       "        \"partial_unexpected_index_list\": [],\n",
       "        \"partial_unexpected_counts\": [],\n",
       "        \"unexpected_list\": [],\n",
       "        \"unexpected_index_list\": []\n",
       "      }\n",
       "    },\n",
       "    {\n",
       "      \"meta\": {},\n",
       "      \"success\": true,\n",
       "      \"exception_info\": {\n",
       "        \"raised_exception\": false,\n",
       "        \"exception_message\": null,\n",
       "        \"exception_traceback\": null\n",
       "      },\n",
       "      \"expectation_config\": {\n",
       "        \"meta\": {},\n",
       "        \"expectation_type\": \"expect_column_values_to_be_between\",\n",
       "        \"kwargs\": {\n",
       "          \"column\": \"conv_rate\",\n",
       "          \"min_value\": 0,\n",
       "          \"max_value\": 1,\n",
       "          \"result_format\": \"COMPLETE\"\n",
       "        }\n",
       "      },\n",
       "      \"result\": {\n",
       "        \"element_count\": 3,\n",
       "        \"missing_count\": 0,\n",
       "        \"missing_percent\": 0.0,\n",
       "        \"unexpected_count\": 0,\n",
       "        \"unexpected_percent\": 0.0,\n",
       "        \"unexpected_percent_total\": 0.0,\n",
       "        \"unexpected_percent_nonmissing\": 0.0,\n",
       "        \"partial_unexpected_list\": [],\n",
       "        \"partial_unexpected_index_list\": [],\n",
       "        \"partial_unexpected_counts\": [],\n",
       "        \"unexpected_list\": [],\n",
       "        \"unexpected_index_list\": []\n",
       "      }\n",
       "    },\n",
       "    {\n",
       "      \"meta\": {},\n",
       "      \"success\": true,\n",
       "      \"exception_info\": {\n",
       "        \"raised_exception\": false,\n",
       "        \"exception_message\": null,\n",
       "        \"exception_traceback\": null\n",
       "      },\n",
       "      \"expectation_config\": {\n",
       "        \"meta\": {},\n",
       "        \"expectation_type\": \"expect_column_values_to_be_between\",\n",
       "        \"kwargs\": {\n",
       "          \"column\": \"acc_rate\",\n",
       "          \"min_value\": 0,\n",
       "          \"max_value\": 1,\n",
       "          \"result_format\": \"COMPLETE\"\n",
       "        }\n",
       "      },\n",
       "      \"result\": {\n",
       "        \"element_count\": 3,\n",
       "        \"missing_count\": 0,\n",
       "        \"missing_percent\": 0.0,\n",
       "        \"unexpected_count\": 0,\n",
       "        \"unexpected_percent\": 0.0,\n",
       "        \"unexpected_percent_total\": 0.0,\n",
       "        \"unexpected_percent_nonmissing\": 0.0,\n",
       "        \"partial_unexpected_list\": [],\n",
       "        \"partial_unexpected_index_list\": [],\n",
       "        \"partial_unexpected_counts\": [],\n",
       "        \"unexpected_list\": [],\n",
       "        \"unexpected_index_list\": []\n",
       "      }\n",
       "    }\n",
       "  ]\n",
       "}"
      ]
     },
     "execution_count": 44,
     "metadata": {},
     "output_type": "execute_result"
    }
   ],
   "source": [
    "ge.validate(dataset, expectation_suite=gething, result_format=\"COMPLETE\")"
   ]
  },
  {
   "cell_type": "code",
   "execution_count": 45,
   "id": "dba7d74f-d395-44a3-a95e-f0f4068ae9c6",
   "metadata": {},
   "outputs": [
    {
     "name": "stdout",
     "output_type": "stream",
     "text": [
      "Index(['label_driver_reported_satisfaction', 'event_timestamp', 'acc_rate',\n",
      "       'conv_rate', 'driver_id', 'avg_daily_trips'],\n",
      "      dtype='object')\n"
     ]
    },
    {
     "data": {
      "text/plain": [
       "<GEProfile with expectations: [\n",
       "  {\n",
       "    \"meta\": {},\n",
       "    \"expectation_type\": \"expect_column_to_exist\",\n",
       "    \"kwargs\": {\n",
       "      \"column\": \"driver_id\"\n",
       "    }\n",
       "  },\n",
       "  {\n",
       "    \"meta\": {},\n",
       "    \"expectation_type\": \"expect_column_values_to_be_between\",\n",
       "    \"kwargs\": {\n",
       "      \"column\": \"avg_daily_trips\",\n",
       "      \"min_value\": 0,\n",
       "      \"max_value\": 1000\n",
       "    }\n",
       "  },\n",
       "  {\n",
       "    \"meta\": {},\n",
       "    \"expectation_type\": \"expect_column_values_to_be_between\",\n",
       "    \"kwargs\": {\n",
       "      \"column\": \"conv_rate\",\n",
       "      \"min_value\": 0,\n",
       "      \"max_value\": 1\n",
       "    }\n",
       "  },\n",
       "  {\n",
       "    \"meta\": {},\n",
       "    \"expectation_type\": \"expect_column_values_to_be_between\",\n",
       "    \"kwargs\": {\n",
       "      \"column\": \"acc_rate\",\n",
       "      \"min_value\": 0,\n",
       "      \"max_value\": 1\n",
       "    }\n",
       "  }\n",
       "]>"
      ]
     },
     "execution_count": 45,
     "metadata": {},
     "output_type": "execute_result"
    }
   ],
   "source": [
    "ds.get_profile(profiler=user_features_profiler)"
   ]
  },
  {
   "cell_type": "code",
   "execution_count": 46,
   "id": "6eb0f7ce-cdd5-4184-b64f-e03327e56dc2",
   "metadata": {},
   "outputs": [
    {
     "name": "stderr",
     "output_type": "stream",
     "text": [
      "/Users/franciscojavierarceo/GitHub/feast/sdk/python/feast/infra/offline_stores/offline_store.py:90: RuntimeWarning: Dataset validation is an experimental feature. This API is unstable and it could and most probably will be changed in the future. We do not guarantee that future changes will maintain backward compatibility.\n",
      "  warnings.warn(\n"
     ]
    },
    {
     "data": {
      "text/html": [
       "<div>\n",
       "<style scoped>\n",
       "    .dataframe tbody tr th:only-of-type {\n",
       "        vertical-align: middle;\n",
       "    }\n",
       "\n",
       "    .dataframe tbody tr th {\n",
       "        vertical-align: top;\n",
       "    }\n",
       "\n",
       "    .dataframe thead th {\n",
       "        text-align: right;\n",
       "    }\n",
       "</style>\n",
       "<table border=\"1\" class=\"dataframe\">\n",
       "  <thead>\n",
       "    <tr style=\"text-align: right;\">\n",
       "      <th></th>\n",
       "      <th>driver_id</th>\n",
       "      <th>label_driver_reported_satisfaction</th>\n",
       "      <th>event_timestamp</th>\n",
       "      <th>conv_rate</th>\n",
       "      <th>acc_rate</th>\n",
       "      <th>avg_daily_trips</th>\n",
       "    </tr>\n",
       "  </thead>\n",
       "  <tbody>\n",
       "    <tr>\n",
       "      <th>0</th>\n",
       "      <td>1002</td>\n",
       "      <td>5</td>\n",
       "      <td>2022-09-15 13:08:09.446317+00:00</td>\n",
       "      <td>0.378602</td>\n",
       "      <td>0.472523</td>\n",
       "      <td>10</td>\n",
       "    </tr>\n",
       "    <tr>\n",
       "      <th>1</th>\n",
       "      <td>1001</td>\n",
       "      <td>1</td>\n",
       "      <td>2022-09-15 13:33:09.446306+00:00</td>\n",
       "      <td>0.473804</td>\n",
       "      <td>0.160682</td>\n",
       "      <td>308</td>\n",
       "    </tr>\n",
       "    <tr>\n",
       "      <th>2</th>\n",
       "      <td>1003</td>\n",
       "      <td>3</td>\n",
       "      <td>2022-09-15 12:31:09.446320+00:00</td>\n",
       "      <td>0.342520</td>\n",
       "      <td>0.539268</td>\n",
       "      <td>50</td>\n",
       "    </tr>\n",
       "  </tbody>\n",
       "</table>\n",
       "</div>"
      ],
      "text/plain": [
       "   driver_id  label_driver_reported_satisfaction  \\\n",
       "0       1002                                   5   \n",
       "1       1001                                   1   \n",
       "2       1003                                   3   \n",
       "\n",
       "                   event_timestamp  conv_rate  acc_rate  avg_daily_trips  \n",
       "0 2022-09-15 13:08:09.446317+00:00   0.378602  0.472523               10  \n",
       "1 2022-09-15 13:33:09.446306+00:00   0.473804  0.160682              308  \n",
       "2 2022-09-15 12:31:09.446320+00:00   0.342520  0.539268               50  "
      ]
     },
     "execution_count": 46,
     "metadata": {},
     "output_type": "execute_result"
    }
   ],
   "source": [
    "training_data_job.to_df(validation_reference=validation_reference_fail)"
   ]
  },
  {
   "cell_type": "code",
   "execution_count": null,
   "id": "709d00e9-4041-4664-9bef-999fc389b75d",
   "metadata": {},
   "outputs": [],
   "source": []
  },
  {
   "cell_type": "code",
   "execution_count": null,
   "id": "54156930-025f-4c60-87df-95875bb99ce2",
   "metadata": {},
   "outputs": [],
   "source": []
  },
  {
   "cell_type": "code",
   "execution_count": 47,
   "id": "cbdb3bbb-c9fc-466f-8972-42a028dff341",
   "metadata": {},
   "outputs": [
    {
     "name": "stdout",
     "output_type": "stream",
     "text": [
      "Materializing \u001b[1m\u001b[32m2\u001b[0m feature views to \u001b[1m\u001b[32m2022-09-15 07:49:38-06:00\u001b[0m into the \u001b[1m\u001b[32msqlite\u001b[0m online store.\n",
      "\n",
      "\u001b[1m\u001b[32mdriver_hourly_stats_fresh\u001b[0m from \u001b[1m\u001b[32m2022-09-14 19:49:40-06:00\u001b[0m to \u001b[1m\u001b[32m2022-09-15 07:49:38-06:00\u001b[0m:\n",
      "100%|████████████████████████████████████████████████████████████████| 5/5 [00:00<00:00, 371.72it/s]\n",
      "\u001b[1m\u001b[32mdriver_hourly_stats\u001b[0m from \u001b[1m\u001b[32m2022-09-14 19:49:40-06:00\u001b[0m to \u001b[1m\u001b[32m2022-09-15 07:49:38-06:00\u001b[0m:\n",
      "100%|███████████████████████████████████████████████████████████████| 5/5 [00:00<00:00, 1549.43it/s]\n"
     ]
    }
   ],
   "source": [
    "from datetime import datetime\n",
    "!feast materialize-incremental {datetime.now().isoformat()}"
   ]
  },
  {
   "cell_type": "code",
   "execution_count": 48,
   "id": "3dde262c-e4be-4e02-86df-91351d458700",
   "metadata": {},
   "outputs": [
    {
     "name": "stdout",
     "output_type": "stream",
     "text": [
      "--- Data directory ---\n",
      "driver_stats.parquet           online_store.db\n",
      "driver_stats_reference.parquet registry.db\n",
      "\n",
      "--- Schema of online store ---\n",
      "                                          entity_key     feature_name  \\\n",
      "0  b'\\x02\\x00\\x00\\x00driver_id\\x04\\x00\\x00\\x00\\x0...        conv_rate   \n",
      "1  b'\\x02\\x00\\x00\\x00driver_id\\x04\\x00\\x00\\x00\\x0...         acc_rate   \n",
      "2  b'\\x02\\x00\\x00\\x00driver_id\\x04\\x00\\x00\\x00\\x0...  avg_daily_trips   \n",
      "3  b'\\x02\\x00\\x00\\x00driver_id\\x04\\x00\\x00\\x00\\x0...        conv_rate   \n",
      "4  b'\\x02\\x00\\x00\\x00driver_id\\x04\\x00\\x00\\x00\\x0...         acc_rate   \n",
      "5  b'\\x02\\x00\\x00\\x00driver_id\\x04\\x00\\x00\\x00\\x0...  avg_daily_trips   \n",
      "6  b'\\x02\\x00\\x00\\x00driver_id\\x04\\x00\\x00\\x00\\x0...        conv_rate   \n",
      "7  b'\\x02\\x00\\x00\\x00driver_id\\x04\\x00\\x00\\x00\\x0...         acc_rate   \n",
      "8  b'\\x02\\x00\\x00\\x00driver_id\\x04\\x00\\x00\\x00\\x0...  avg_daily_trips   \n",
      "9  b'\\x02\\x00\\x00\\x00driver_id\\x04\\x00\\x00\\x00\\x0...        conv_rate   \n",
      "\n",
      "            value             event_ts                  created_ts  \n",
      "0  b'5\\xc5^\\xaf>'  2022-09-15 12:00:00  2022-09-15 13:36:11.907000  \n",
      "1      b'5y\\r\\n?'  2022-09-15 12:00:00  2022-09-15 13:36:11.907000  \n",
      "2           b' 2'  2022-09-15 12:00:00  2022-09-15 13:36:11.907000  \n",
      "3     b'5-\\x1fW?'  2022-09-15 12:00:00  2022-09-15 13:36:11.907000  \n",
      "4  b'5\\xef\\xb6k>'  2022-09-15 12:00:00  2022-09-15 13:36:11.907000  \n",
      "5           b' u'  2022-09-15 12:00:00  2022-09-15 13:36:11.907000  \n",
      "6  b'5J\\x04\\x02?'  2022-09-15 12:00:00  2022-09-15 13:36:11.907000  \n",
      "7     b'51h\\x0e?'  2022-09-15 12:00:00  2022-09-15 13:36:11.907000  \n",
      "8    b' \\xda\\x06'  2022-09-15 12:00:00  2022-09-15 13:36:11.907000  \n",
      "9  b'5z\\x96\\xf2>'  2022-09-15 12:00:00  2022-09-15 13:36:11.907000  \n"
     ]
    }
   ],
   "source": [
    "print(\"--- Data directory ---\")\n",
    "!ls data\n",
    "\n",
    "import sqlite3\n",
    "import pandas as pd\n",
    "con = sqlite3.connect(\"data/online_store.db\")\n",
    "print(\"\\n--- Schema of online store ---\")\n",
    "print(\n",
    "    pd.read_sql_query(\"SELECT * FROM dqm_repo_driver_hourly_stats limit 10;\", con)\n",
    ")\n",
    "con.close()"
   ]
  },
  {
   "cell_type": "code",
   "execution_count": 49,
   "id": "5348f972-a46b-44e9-8082-e9a2bea85472",
   "metadata": {},
   "outputs": [
    {
     "name": "stdout",
     "output_type": "stream",
     "text": [
      "{'acc_rate': [0.23019002377986908, 0.556277334690094],\n",
      " 'avg_daily_trips': [117, 858],\n",
      " 'conv_rate': [0.8403194546699524, 0.5078779458999634],\n",
      " 'driver_id': [1004, 1005]}\n"
     ]
    }
   ],
   "source": [
    "from pprint import pprint\n",
    "from feast import FeatureStore\n",
    "\n",
    "store = FeatureStore(repo_path=\".\")\n",
    "\n",
    "feature_vector = store.get_online_features(\n",
    "    features=[\n",
    "        \"driver_hourly_stats:conv_rate\",\n",
    "        \"driver_hourly_stats:acc_rate\",\n",
    "        \"driver_hourly_stats:avg_daily_trips\",\n",
    "    ],\n",
    "    entity_rows=[\n",
    "        {\"driver_id\": 1004},\n",
    "        {\"driver_id\": 1005},\n",
    "    ],\n",
    ").to_dict()\n",
    "\n",
    "pprint(feature_vector)"
   ]
  },
  {
   "cell_type": "code",
   "execution_count": 50,
   "id": "0ce59403-e754-4e11-90be-333da59fffe8",
   "metadata": {},
   "outputs": [
    {
     "name": "stdout",
     "output_type": "stream",
     "text": [
      "{'acc_rate': [0.23019002377986908, 0.556277334690094],\n",
      " 'avg_daily_trips': [117, 858],\n",
      " 'conv_rate': [0.8403194546699524, 0.5078779458999634],\n",
      " 'driver_id': [1004, 1005]}\n"
     ]
    }
   ],
   "source": [
    "from feast import FeatureStore\n",
    "feature_store = FeatureStore('.')  # Initialize the feature store\n",
    "\n",
    "feature_service = feature_store.get_feature_service(\"driver_activity\")\n",
    "feature_vector = feature_store.get_online_features(\n",
    "    features=feature_service,\n",
    "    entity_rows=[\n",
    "        # {join_key: entity_value}\n",
    "        {\"driver_id\": 1004},\n",
    "        {\"driver_id\": 1005},\n",
    "    ],\n",
    ").to_dict()\n",
    "pprint(feature_vector)"
   ]
  },
  {
   "cell_type": "code",
   "execution_count": 64,
   "id": "5df7ed9d-0eb6-4118-9712-d5a2095c4135",
   "metadata": {},
   "outputs": [],
   "source": [
    "from feast.saved_dataset import ValidationReference\n",
    "\n",
    "ref = ValidationReference(\n",
    "    name='user_features_training_ref',\n",
    "    dataset_name=\"reference_dataset\",\n",
    "    profiler=user_features_profiler,\n",
    ")"
   ]
  },
  {
   "cell_type": "code",
   "execution_count": 82,
   "id": "a42cc816-4bcd-4c7e-b70b-f658021849da",
   "metadata": {},
   "outputs": [],
   "source": [
    "store.apply(ref)"
   ]
  },
  {
   "cell_type": "code",
   "execution_count": 81,
   "id": "2c6a17cd-d2cd-4930-9f37-33e55dde0caf",
   "metadata": {},
   "outputs": [
    {
     "data": {
      "text/plain": [
       "defaultdict(list,\n",
       "            {'project': 'dqm_repo',\n",
       "             'projectMetadata': [{'project': 'dqm_repo',\n",
       "               'projectUuid': 'df9817a0-5ac3-45f0-95aa-3beb6d0caefe'}],\n",
       "             'dataSources': [{'createdTimestampColumn': 'created',\n",
       "               'fileOptions': {'uri': '/Users/franciscojavierarceo/GitHub/feast/examples/data-quality-monitoring/dqm_repo/feature_repo/data/driver_stats.parquet'},\n",
       "               'name': 'driver_hourly_stats_source',\n",
       "               'timestampField': 'event_timestamp',\n",
       "               'type': 'BATCH_FILE'},\n",
       "              {'batchSource': {'createdTimestampColumn': 'created',\n",
       "                'fileOptions': {'uri': '/Users/franciscojavierarceo/GitHub/feast/examples/data-quality-monitoring/dqm_repo/feature_repo/data/driver_stats.parquet'},\n",
       "                'name': 'driver_hourly_stats_source',\n",
       "                'timestampField': 'event_timestamp',\n",
       "                'type': 'BATCH_FILE'},\n",
       "               'name': 'driver_stats_push_source',\n",
       "               'type': 'PUSH_SOURCE'},\n",
       "              {'name': 'vals_to_add',\n",
       "               'requestDataOptions': {'schema': [{'name': 'val_to_add',\n",
       "                  'valueType': 'INT64'},\n",
       "                 {'name': 'val_to_add_2', 'valueType': 'INT64'}]},\n",
       "               'type': 'REQUEST_SOURCE'}],\n",
       "             'entities': [{'meta': {'createdTimestamp': '2022-09-15T19:49:56.496365Z',\n",
       "                'lastUpdatedTimestamp': '2022-09-15T19:57:12.455396Z'},\n",
       "               'spec': {'joinKey': '__dummy_id', 'name': '__dummy'}},\n",
       "              {'meta': {'createdTimestamp': '2022-09-15T19:40:37.862729Z',\n",
       "                'lastUpdatedTimestamp': '2022-09-15T19:40:37.862729Z'},\n",
       "               'spec': {'joinKey': 'driver_id', 'name': 'driver'}}],\n",
       "             'featureViews': [{'meta': {'createdTimestamp': '2022-09-15T19:40:37.863326Z',\n",
       "                'lastUpdatedTimestamp': '2022-09-15T19:49:40.951860Z',\n",
       "                'materializationIntervals': [{'endTime': '2022-09-15T13:49:38.543058Z',\n",
       "                  'startTime': '2022-09-14T19:49:40.880838Z'}]},\n",
       "               'spec': {'batchSource': {'createdTimestampColumn': 'created',\n",
       "                 'dataSourceClassType': 'feast.infra.offline_stores.file_source.FileSource',\n",
       "                 'fileOptions': {'uri': '/Users/franciscojavierarceo/GitHub/feast/examples/data-quality-monitoring/dqm_repo/feature_repo/data/driver_stats.parquet'},\n",
       "                 'name': 'driver_hourly_stats_source',\n",
       "                 'timestampField': 'event_timestamp',\n",
       "                 'type': 'BATCH_FILE'},\n",
       "                'entities': ['driver'],\n",
       "                'entityColumns': [{'name': 'driver_id', 'valueType': 'INT64'}],\n",
       "                'features': [{'name': 'conv_rate', 'valueType': 'FLOAT'},\n",
       "                 {'name': 'acc_rate', 'valueType': 'FLOAT'},\n",
       "                 {'name': 'avg_daily_trips', 'valueType': 'INT64'}],\n",
       "                'name': 'driver_hourly_stats',\n",
       "                'online': True,\n",
       "                'tags': {'team': 'driver_performance'},\n",
       "                'ttl': '86400s'}},\n",
       "              {'meta': {'createdTimestamp': '2022-09-15T19:40:37.862913Z',\n",
       "                'lastUpdatedTimestamp': '2022-09-15T19:49:40.878878Z',\n",
       "                'materializationIntervals': [{'endTime': '2022-09-15T13:49:38.543058Z',\n",
       "                  'startTime': '2022-09-14T19:49:40.775244Z'}]},\n",
       "               'spec': {'batchSource': {'createdTimestampColumn': 'created',\n",
       "                 'dataSourceClassType': 'feast.infra.offline_stores.file_source.FileSource',\n",
       "                 'fileOptions': {'uri': '/Users/franciscojavierarceo/GitHub/feast/examples/data-quality-monitoring/dqm_repo/feature_repo/data/driver_stats.parquet'},\n",
       "                 'name': 'driver_hourly_stats_source',\n",
       "                 'timestampField': 'event_timestamp',\n",
       "                 'type': 'BATCH_FILE'},\n",
       "                'entities': ['driver'],\n",
       "                'entityColumns': [{'name': 'driver_id', 'valueType': 'INT64'}],\n",
       "                'features': [{'name': 'conv_rate', 'valueType': 'FLOAT'},\n",
       "                 {'name': 'acc_rate', 'valueType': 'FLOAT'},\n",
       "                 {'name': 'avg_daily_trips', 'valueType': 'INT64'}],\n",
       "                'name': 'driver_hourly_stats_fresh',\n",
       "                'online': True,\n",
       "                'streamSource': {'batchSource': {'createdTimestampColumn': 'created',\n",
       "                  'fileOptions': {'uri': '/Users/franciscojavierarceo/GitHub/feast/examples/data-quality-monitoring/dqm_repo/feature_repo/data/driver_stats.parquet'},\n",
       "                  'name': 'driver_hourly_stats_source',\n",
       "                  'timestampField': 'event_timestamp',\n",
       "                  'type': 'BATCH_FILE'},\n",
       "                 'dataSourceClassType': 'feast.data_source.PushSource',\n",
       "                 'name': 'driver_stats_push_source',\n",
       "                 'type': 'PUSH_SOURCE'},\n",
       "                'tags': {'team': 'driver_performance'},\n",
       "                'ttl': '86400s'}}],\n",
       "             'featureServices': [{'meta': {'createdTimestamp': '2022-09-15T19:40:37.866831Z',\n",
       "                'lastUpdatedTimestamp': '2022-09-15T19:40:37.866831Z'},\n",
       "               'spec': {'features': [{'featureColumns': [{'name': 'conv_rate',\n",
       "                    'valueType': 'FLOAT'},\n",
       "                   {'name': 'acc_rate', 'valueType': 'FLOAT'},\n",
       "                   {'name': 'avg_daily_trips', 'valueType': 'INT64'}],\n",
       "                  'featureViewName': 'driver_hourly_stats'}],\n",
       "                'loggingConfig': {'fileDestination': {'path': 'logs/'},\n",
       "                 'sampleRate': 1.0},\n",
       "                'name': 'driver_activity'}},\n",
       "              {'meta': {'createdTimestamp': '2022-09-15T19:40:37.867061Z',\n",
       "                'lastUpdatedTimestamp': '2022-09-15T19:40:37.867061Z'},\n",
       "               'spec': {'features': [{'featureColumns': [{'name': 'conv_rate',\n",
       "                    'valueType': 'FLOAT'}],\n",
       "                  'featureViewName': 'driver_hourly_stats'},\n",
       "                 {'featureColumns': [{'name': 'conv_rate_plus_val1',\n",
       "                    'valueType': 'DOUBLE'},\n",
       "                   {'name': 'conv_rate_plus_val2', 'valueType': 'DOUBLE'}],\n",
       "                  'featureViewName': 'transformed_conv_rate'}],\n",
       "                'name': 'driver_activity_v1'}},\n",
       "              {'meta': {'createdTimestamp': '2022-09-15T19:40:37.866486Z',\n",
       "                'lastUpdatedTimestamp': '2022-09-15T19:40:37.866486Z'},\n",
       "               'spec': {'features': [{'featureColumns': [{'name': 'conv_rate',\n",
       "                    'valueType': 'FLOAT'},\n",
       "                   {'name': 'acc_rate', 'valueType': 'FLOAT'},\n",
       "                   {'name': 'avg_daily_trips', 'valueType': 'INT64'}],\n",
       "                  'featureViewName': 'driver_hourly_stats'},\n",
       "                 {'featureColumns': [{'name': 'conv_rate_plus_val1',\n",
       "                    'valueType': 'DOUBLE'},\n",
       "                   {'name': 'conv_rate_plus_val2', 'valueType': 'DOUBLE'}],\n",
       "                  'featureViewName': 'transformed_conv_rate'}],\n",
       "                'name': 'driver_activity_v2'}},\n",
       "              {'meta': {'createdTimestamp': '2022-09-15T19:40:37.867285Z',\n",
       "                'lastUpdatedTimestamp': '2022-09-15T19:40:37.867285Z'},\n",
       "               'spec': {'features': [{'featureColumns': [{'name': 'conv_rate',\n",
       "                    'valueType': 'FLOAT'},\n",
       "                   {'name': 'acc_rate', 'valueType': 'FLOAT'},\n",
       "                   {'name': 'avg_daily_trips', 'valueType': 'INT64'}],\n",
       "                  'featureViewName': 'driver_hourly_stats_fresh'},\n",
       "                 {'featureColumns': [{'name': 'conv_rate_plus_val1',\n",
       "                    'valueType': 'DOUBLE'},\n",
       "                   {'name': 'conv_rate_plus_val2', 'valueType': 'DOUBLE'}],\n",
       "                  'featureViewName': 'transformed_conv_rate_fresh'}],\n",
       "                'name': 'driver_activity_v3'}}],\n",
       "             'onDemandFeatureViews': [{'meta': {'createdTimestamp': '2022-09-15T19:40:37.865075Z',\n",
       "                'lastUpdatedTimestamp': '2022-09-15T19:40:37.865075Z'},\n",
       "               'spec': {'features': [{'name': 'conv_rate_plus_val1',\n",
       "                  'valueType': 'DOUBLE'},\n",
       "                 {'name': 'conv_rate_plus_val2', 'valueType': 'DOUBLE'}],\n",
       "                'name': 'transformed_conv_rate',\n",
       "                'sources': {'driver_hourly_stats': {'featureViewProjection': {'featureColumns': [{'name': 'conv_rate',\n",
       "                     'valueType': 'FLOAT'},\n",
       "                    {'name': 'acc_rate', 'valueType': 'FLOAT'},\n",
       "                    {'name': 'avg_daily_trips', 'valueType': 'INT64'}],\n",
       "                   'featureViewName': 'driver_hourly_stats'}},\n",
       "                 'vals_to_add': {'requestDataSource': {'name': 'vals_to_add',\n",
       "                   'requestDataOptions': {'schema': [{'name': 'val_to_add',\n",
       "                      'valueType': 'INT64'},\n",
       "                     {'name': 'val_to_add_2', 'valueType': 'INT64'}]},\n",
       "                   'type': 'REQUEST_SOURCE'}}},\n",
       "                'userDefinedFunction': {'body': '@on_demand_feature_view(\\n    sources=[driver_stats_fv, input_request],\\n    schema=[\\n        Field(name=\"conv_rate_plus_val1\", dtype=Float64),\\n        Field(name=\"conv_rate_plus_val2\", dtype=Float64),\\n    ],\\n)\\ndef transformed_conv_rate(inputs: pd.DataFrame) -> pd.DataFrame:\\n    df = pd.DataFrame()\\n    df[\"conv_rate_plus_val1\"] = inputs[\"conv_rate\"] + inputs[\"val_to_add\"]\\n    df[\"conv_rate_plus_val2\"] = inputs[\"conv_rate\"] + inputs[\"val_to_add_2\"]\\n    return df\\n',\n",
       "                 'bodyText': '@on_demand_feature_view(\\n    sources=[driver_stats_fv, input_request],\\n    schema=[\\n        Field(name=\"conv_rate_plus_val1\", dtype=Float64),\\n        Field(name=\"conv_rate_plus_val2\", dtype=Float64),\\n    ],\\n)\\ndef transformed_conv_rate(inputs: pd.DataFrame) -> pd.DataFrame:\\n    df = pd.DataFrame()\\n    df[\"conv_rate_plus_val1\"] = inputs[\"conv_rate\"] + inputs[\"val_to_add\"]\\n    df[\"conv_rate_plus_val2\"] = inputs[\"conv_rate\"] + inputs[\"val_to_add_2\"]\\n    return df\\n',\n",
       "                 'name': 'transformed_conv_rate'}}},\n",
       "              {'meta': {'createdTimestamp': '2022-09-15T19:40:37.863633Z',\n",
       "                'lastUpdatedTimestamp': '2022-09-15T19:40:37.863633Z'},\n",
       "               'spec': {'features': [{'name': 'conv_rate_plus_val1',\n",
       "                  'valueType': 'DOUBLE'},\n",
       "                 {'name': 'conv_rate_plus_val2', 'valueType': 'DOUBLE'}],\n",
       "                'name': 'transformed_conv_rate_fresh',\n",
       "                'sources': {'driver_hourly_stats_fresh': {'featureViewProjection': {'featureColumns': [{'name': 'conv_rate',\n",
       "                     'valueType': 'FLOAT'},\n",
       "                    {'name': 'acc_rate', 'valueType': 'FLOAT'},\n",
       "                    {'name': 'avg_daily_trips', 'valueType': 'INT64'}],\n",
       "                   'featureViewName': 'driver_hourly_stats_fresh'}},\n",
       "                 'vals_to_add': {'requestDataSource': {'name': 'vals_to_add',\n",
       "                   'requestDataOptions': {'schema': [{'name': 'val_to_add',\n",
       "                      'valueType': 'INT64'},\n",
       "                     {'name': 'val_to_add_2', 'valueType': 'INT64'}]},\n",
       "                   'type': 'REQUEST_SOURCE'}}},\n",
       "                'userDefinedFunction': {'body': '@on_demand_feature_view(\\n    sources=[driver_stats_fresh_fv, input_request],  # relies on fresh version of FV\\n    schema=[\\n        Field(name=\"conv_rate_plus_val1\", dtype=Float64),\\n        Field(name=\"conv_rate_plus_val2\", dtype=Float64),\\n    ],\\n)\\ndef transformed_conv_rate_fresh(inputs: pd.DataFrame) -> pd.DataFrame:\\n    df = pd.DataFrame()\\n    df[\"conv_rate_plus_val1\"] = inputs[\"conv_rate\"] + inputs[\"val_to_add\"]\\n    df[\"conv_rate_plus_val2\"] = inputs[\"conv_rate\"] + inputs[\"val_to_add_2\"]\\n    return df\\n',\n",
       "                 'bodyText': '@on_demand_feature_view(\\n    sources=[driver_stats_fresh_fv, input_request],  # relies on fresh version of FV\\n    schema=[\\n        Field(name=\"conv_rate_plus_val1\", dtype=Float64),\\n        Field(name=\"conv_rate_plus_val2\", dtype=Float64),\\n    ],\\n)\\ndef transformed_conv_rate_fresh(inputs: pd.DataFrame) -> pd.DataFrame:\\n    df = pd.DataFrame()\\n    df[\"conv_rate_plus_val1\"] = inputs[\"conv_rate\"] + inputs[\"val_to_add\"]\\n    df[\"conv_rate_plus_val2\"] = inputs[\"conv_rate\"] + inputs[\"val_to_add_2\"]\\n    return df\\n',\n",
       "                 'name': 'transformed_conv_rate_fresh'}}}],\n",
       "             'savedDatasets': [{'meta': {'createdTimestamp': '2022-09-15T19:44:09.571895Z',\n",
       "                'maxEventTimestamp': '2022-09-15T13:33:09.446306Z',\n",
       "                'minEventTimestamp': '2022-09-15T12:31:09.446320Z'},\n",
       "               'spec': {'features': ['driver_hourly_stats:conv_rate',\n",
       "                 'driver_hourly_stats:acc_rate',\n",
       "                 'driver_hourly_stats:avg_daily_trips'],\n",
       "                'joinKeys': ['label_driver_reported_satisfaction',\n",
       "                 'driver_id'],\n",
       "                'name': 'reference_dataset',\n",
       "                'storage': {'fileStorage': {'fileFormat': {'parquetFormat': {}},\n",
       "                  'uri': 'data/driver_stats_reference.parquet'}}}}],\n",
       "             'infra': [{'name': 'dqm_repo_driver_hourly_stats',\n",
       "               'path': '/Users/franciscojavierarceo/GitHub/feast/examples/data-quality-monitoring/dqm_repo/feature_repo/data/online_store.db'},\n",
       "              {'name': 'dqm_repo_driver_hourly_stats_fresh',\n",
       "               'path': '/Users/franciscojavierarceo/GitHub/feast/examples/data-quality-monitoring/dqm_repo/feature_repo/data/online_store.db'}]})"
      ]
     },
     "execution_count": 81,
     "metadata": {},
     "output_type": "execute_result"
    }
   ],
   "source": [
    "store.registry.to_dict(project='dqm_repo')"
   ]
  },
  {
   "cell_type": "code",
   "execution_count": 62,
   "id": "b44429ba-ee7c-4484-b10e-834076016802",
   "metadata": {},
   "outputs": [],
   "source": [
    "import pandas as pd\n",
    "insert_df = pd.DataFrame({\n",
    "    \"driver_id\": [1003],\n",
    "    \"conv_rate\": [-1],\n",
    "    \"acc_rate\": [2],\n",
    "    \"avg_daily_trips\": [1500],\n",
    "    \"event_timestamp\": [datetime.now()],\n",
    "    \"created\": [datetime.now()],\n",
    "})\n",
    "\n",
    "store.write_to_online_store(\"driver_hourly_stats\", insert_df)"
   ]
  },
  {
   "cell_type": "code",
   "execution_count": 63,
   "id": "067aa7aa-e176-496d-bc7d-0c5141f85d73",
   "metadata": {
    "tags": []
   },
   "outputs": [
    {
     "name": "stdout",
     "output_type": "stream",
     "text": [
      "/Users/franciscojavierarceo/GitHub/feast/venv/lib/python3.8/site-packages/botocore/httpsession.py:28: DeprecationWarning: 'urllib3.contrib.pyopenssl' module is deprecated and will be removed in a future release of urllib3 2.x. Read more in this issue: https://github.com/urllib3/urllib3/issues/2680\n",
      "  from urllib3.contrib.pyopenssl import orig_util_SSLContext as SSLContext\n",
      "09/15/2022 01:54:30 PM py.warnings WARNING: /Users/franciscojavierarceo/GitHub/feast/venv/lib/python3.8/site-packages/great_expectations/render/view/view.py:116: DeprecationWarning: 'contextfilter' is renamed to 'pass_context', the old name will be removed in Jinja 3.1.\n",
      "  def add_data_context_id_to_url(self, jinja_context, url, add_datetime=True):\n",
      "\n",
      "/Users/franciscojavierarceo/GitHub/feast/sdk/python/feast/feature_store.py:1233: RuntimeWarning: Retrieving datasets is an experimental feature. This API is unstable and it could and most probably will be changed in the future. We do not guarantee that future changes will maintain backward compatibility.\n",
      "  warnings.warn(\n",
      "/Users/franciscojavierarceo/GitHub/feast/sdk/python/feast/feature_store.py:2406: RuntimeWarning: Logged features validation is an experimental feature. This API is unstable and it could and most probably will be changed in the future. We do not guarantee that future changes will maintain backward compatibility.\n",
      "  warnings.warn(\n",
      "Traceback (most recent call last):\n",
      "  File \"/Users/franciscojavierarceo/GitHub/feast/venv/bin/feast\", line 8, in <module>\n",
      "    sys.exit(cli())\n",
      "  File \"/Users/franciscojavierarceo/GitHub/feast/venv/lib/python3.8/site-packages/click/core.py\", line 1130, in __call__\n",
      "    return self.main(*args, **kwargs)\n",
      "  File \"/Users/franciscojavierarceo/GitHub/feast/venv/lib/python3.8/site-packages/click/core.py\", line 1055, in main\n",
      "    rv = self.invoke(ctx)\n",
      "  File \"/Users/franciscojavierarceo/GitHub/feast/venv/lib/python3.8/site-packages/click/core.py\", line 1657, in invoke\n",
      "    return _process_result(sub_ctx.command.invoke(sub_ctx))\n",
      "  File \"/Users/franciscojavierarceo/GitHub/feast/venv/lib/python3.8/site-packages/click/core.py\", line 1404, in invoke\n",
      "    return ctx.invoke(self.callback, **ctx.params)\n",
      "  File \"/Users/franciscojavierarceo/GitHub/feast/venv/lib/python3.8/site-packages/click/core.py\", line 760, in invoke\n",
      "    return __callback(*args, **kwargs)\n",
      "  File \"/Users/franciscojavierarceo/GitHub/feast/venv/lib/python3.8/site-packages/click/decorators.py\", line 26, in new_func\n",
      "    return f(get_current_context(), *args, **kwargs)\n",
      "  File \"/Users/franciscojavierarceo/GitHub/feast/sdk/python/feast/cli.py\", line 776, in validate\n",
      "    result = store.validate_logged_features(\n",
      "  File \"/Users/franciscojavierarceo/GitHub/feast/sdk/python/feast/usage.py\", line 283, in wrapper\n",
      "    return func(*args, **kwargs)\n",
      "  File \"/Users/franciscojavierarceo/GitHub/feast/sdk/python/feast/feature_store.py\", line 2426, in validate_logged_features\n",
      "    t = j.to_arrow(validation_reference=reference)\n",
      "  File \"/Users/franciscojavierarceo/GitHub/feast/sdk/python/feast/infra/offline_stores/offline_store.py\", line 118, in to_arrow\n",
      "    features_df = self._to_df_internal()\n",
      "  File \"/Users/franciscojavierarceo/GitHub/feast/sdk/python/feast/usage.py\", line 294, in wrapper\n",
      "    raise exc.with_traceback(traceback)\n",
      "  File \"/Users/franciscojavierarceo/GitHub/feast/sdk/python/feast/usage.py\", line 283, in wrapper\n",
      "    return func(*args, **kwargs)\n",
      "  File \"/Users/franciscojavierarceo/GitHub/feast/sdk/python/feast/infra/offline_stores/file.py\", line 81, in _to_df_internal\n",
      "    df = self.evaluation_function().compute()\n",
      "  File \"/Users/franciscojavierarceo/GitHub/feast/sdk/python/feast/infra/offline_stores/file.py\", line 310, in evaluate_offline_job\n",
      "    source_df = _read_datasource(data_source)\n",
      "  File \"/Users/franciscojavierarceo/GitHub/feast/sdk/python/feast/infra/offline_stores/file.py\", line 499, in _read_datasource\n",
      "    return dd.read_parquet(\n",
      "  File \"/Users/franciscojavierarceo/GitHub/feast/venv/lib/python3.8/site-packages/dask/dataframe/io/parquet/core.py\", line 330, in read_parquet\n",
      "    read_metadata_result = engine.read_metadata(\n",
      "  File \"/Users/franciscojavierarceo/GitHub/feast/venv/lib/python3.8/site-packages/dask/dataframe/io/parquet/arrow.py\", line 371, in read_metadata\n",
      "    dataset_info = cls._collect_dataset_info(\n",
      "  File \"/Users/franciscojavierarceo/GitHub/feast/venv/lib/python3.8/site-packages/dask/dataframe/io/parquet/arrow.py\", line 877, in _collect_dataset_info\n",
      "    raise ValueError(\n",
      "ValueError: No files satisfy the `require_extension` criteria (files must end with ('.parq', '.parquet')).\n",
      "\u001b[0m"
     ]
    }
   ],
   "source": [
    "end_ts = datetime.now()\n",
    "start_ts = end_ts - timedelta(minutes=10)\n",
    "\n",
    "! feast validate --feature-service driver_activity --reference user_features_training_ref {start_ts.isoformat()} {end_ts.isoformat()}"
   ]
  },
  {
   "cell_type": "code",
   "execution_count": null,
   "id": "9b92ef68-2344-4fa5-a310-659d6c1e344a",
   "metadata": {},
   "outputs": [],
   "source": []
  }
 ],
 "metadata": {
  "kernelspec": {
   "display_name": "Python 3 (ipykernel)",
   "language": "python",
   "name": "python3"
  },
  "language_info": {
   "codemirror_mode": {
    "name": "ipython",
    "version": 3
   },
   "file_extension": ".py",
   "mimetype": "text/x-python",
   "name": "python",
   "nbconvert_exporter": "python",
   "pygments_lexer": "ipython3",
   "version": "3.8.13"
  }
 },
 "nbformat": 4,
 "nbformat_minor": 5
}
