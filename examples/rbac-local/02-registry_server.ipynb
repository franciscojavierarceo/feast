{
 "cells": [
  {
   "cell_type": "markdown",
   "id": "70df4877-177b-441a-a745-f0cd091e0a3a",
   "metadata": {},
   "source": [
    "## Registry server"
   ]
  },
  {
   "cell_type": "code",
   "execution_count": 1,
   "id": "ef9f796d-f9d7-47d0-96c2-03b38a219d83",
   "metadata": {},
   "outputs": [],
   "source": [
    "!lsof -i :6570\n",
    "# !kill -9 64859 98087"
   ]
  },
  {
   "cell_type": "code",
   "execution_count": 2,
   "id": "bd303508-9f32-4bdb-87c2-729e3ab62b4f",
   "metadata": {},
   "outputs": [],
   "source": [
    "from feast import FeatureStore\n",
    "store = FeatureStore(repo_path=\"rbac/feature_repo\")"
   ]
  },
  {
   "cell_type": "code",
   "execution_count": null,
   "id": "29127952-f9d5-44c4-b7c3-437e0b55c4b0",
   "metadata": {},
   "outputs": [],
   "source": [
    "store.serve_registry(6570)"
   ]
  },
  {
   "cell_type": "code",
   "execution_count": null,
   "id": "5c285fb3-442b-4bb4-bf34-2a61ae5fe76a",
   "metadata": {},
   "outputs": [],
   "source": []
  }
 ],
 "metadata": {
  "kernelspec": {
   "display_name": "Python 3 (ipykernel)",
   "language": "python",
   "name": "python3"
  },
  "language_info": {
   "codemirror_mode": {
    "name": "ipython",
    "version": 3
   },
   "file_extension": ".py",
   "mimetype": "text/x-python",
   "name": "python",
   "nbconvert_exporter": "python",
   "pygments_lexer": "ipython3",
   "version": "3.11.9"
  }
 },
 "nbformat": 4,
 "nbformat_minor": 5
}
